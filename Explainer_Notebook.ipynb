{
 "cells": [
  {
   "cell_type": "code",
   "execution_count": 1,
   "metadata": {},
   "outputs": [
    {
     "name": "stderr",
     "output_type": "stream",
     "text": [
      "[nltk_data] Error loading stopwords: <urlopen error [SSL:\n",
      "[nltk_data]     CERTIFICATE_VERIFY_FAILED] certificate verify failed:\n",
      "[nltk_data]     unable to get local issuer certificate (_ssl.c:1129)>\n"
     ]
    }
   ],
   "source": [
    "from bs4 import BeautifulSoup\n",
    "import requests\n",
    "import nltk\n",
    "import math\n",
    "nltk.download('stopwords')\n",
    "import pandas as pd\n",
    "import pickle\n",
    "import pandas as pd\n",
    "import random\n",
    "import numpy as np\n",
    "import matplotlib.pyplot as plt\n",
    "import os\n",
    "import networkx as nx\n",
    "import networkx.algorithms.community as nx_community\n",
    "from nltk.corpus import stopwords\n",
    "import re\n",
    "import string\n",
    "from nltk.tokenize import word_tokenize\n",
    "import networkx.algorithms.community as nx_comm\n",
    "import netwulf\n",
    "import warnings\n",
    "warnings.filterwarnings(\"ignore\", category=RuntimeWarning)\n",
    "from sklearn.feature_extraction.text import CountVectorizer\n",
    "from wordcloud import WordCloud\n",
    "from collections import Counter"
   ]
  },
  {
   "attachments": {},
   "cell_type": "markdown",
   "metadata": {},
   "source": [
    "# Webscraping \n",
    "Retrieving all character names from wikisite: \n",
    "\"https://en.wikipedia.org/wiki/List_of_Harry_Potter_characters\""
   ]
  },
  {
   "cell_type": "code",
   "execution_count": 35,
   "metadata": {},
   "outputs": [
    {
     "name": "stdout",
     "output_type": "stream",
     "text": [
      "['Hannah Abbott', 'Ludo Bagman', 'Bathilda Bagshot', 'Katie Bell', 'Cuthbert Binns', 'Phineas Nigellus Black', 'Sirius Black', 'Amelia Bones', 'Susan Bones', 'Terry Boot', 'Lavender Brown', 'Slytherin', 'Charity Burbage', 'Frank Bryce', 'Alecto Carrow', 'Amycus Carrow', 'Reginald Cattermole', 'Cho Chang', 'Percy Weasley', 'Crabbe', 'Vincent Crabbe', 'Colin Creevey', 'Dennis Creevey', 'Dirk Cresswell', 'Barty Crouch Sr', 'Barty Crouch Jr', 'John Dawlish', 'Fleur Delacour', 'Dedalus Diggle', 'Amos Diggory', 'Cedric Diggory', 'Elphias Doge', 'Antonin Dolohov', 'Aberforth Dumbledore', 'Albus Dumbledore', 'Ariana Dumbledore', 'Dudley Dursley', 'Marge Dursley', 'Petunia Dursley', 'Vernon Dursley', 'Marietta Edgecombe', 'Arabella Figg', 'Argus Filch', 'Justin Finch-Fletchley', 'Seamus Finnigan', 'Mundungus Fletcher', 'Filius Flitwick', 'Cornelius Fudge', 'Marvolo Gaunt', 'Merope Gaunt', 'Morfin Gaunt', 'Anthony Goldstein', 'Goyle', 'Gregory Goyle', 'Hermione Granger', 'Draco Malfoy', 'Eastern European', 'Fenrir Greyback', 'Gellert Grindelwald', 'Wilhelmina Grubbly-Plank', 'Godric Gryffindor', 'Rubeus Hagrid', 'Rolanda Hooch', 'Mafalda Hopkirk', 'Helga Hufflepuff', 'Angelina Johnson', 'Lee Jordan', 'Bertha Jorkins', 'Igor Karkaroff', 'Viktor Krum', 'Silvanus Kettleburn', 'Bellatrix Lestrange', 'Gilderoy Lockhart', 'Alice and Frank Longbottom', 'Augusta Longbottom', 'Neville Longbottom', 'Luna Lovegood', 'Xenophilius Lovegood', 'Remus Lupin', 'Walden Macnair', 'Draco Malfoy', 'Lucius Malfoy', 'Narcissa Malfoy', 'Draco Malfoy', 'Diagon Alley', 'Olympe Maxime', 'Ernie Macmillan', 'Minerva McGonagall', 'Horace Slughorn', 'Vanishing Cabinet', 'Alastor (Mad-Eye) Moody', 'Gaunt family', 'Garrick Ollivander', 'Pansy Parkinson', 'Padma Patil', 'Parvati Patil', 'Peter Pettigrew', 'Antioch, Cadmus, and Ignotus Peverell', 'Irma Pince', 'Sturgis Podmore', 'Poppy Pomfrey', 'Harry Potter', 'James Potter', 'Lily Potter', 'Quirinus Quirrell', 'Helena Ravenclaw/The Grey Lady', 'Rowena Ravenclaw', 'Harry Potter and the Cursed Child', 'Merope Gaunt', 'Lord Voldemort', 'Augustus Rookwood', 'Thorfinn Rowle', 'Albert Runcorn', 'Newt Scamander', 'Rufus Scrimgeour', 'Kingsley Shacklebolt', 'Stan Shunpike', 'Aurora Sinistra', 'Rita Skeeter', 'Horace Slughorn', 'Zacharias Smith', 'Severus Snape', 'Alicia Spinnet', 'Pomona Sprout', 'Pius Thicknesse', 'Dean Thomas', 'Andromeda Tonks', 'Nymphadora Tonks', 'Ted Tonks', 'Sybill Trelawney', 'Wilkie Twycross', 'Dolores Umbridge', 'Emmeline Vance', 'Septima Vector', 'Lord Voldemort', 'Myrtle Warren', 'Arthur Weasley', 'Bill Weasley', 'Charlie Weasley', 'Fred Weasley', 'George Weasley', 'Ginny Weasley', 'Molly Weasley', 'Percy Weasley', 'Ron Weasley', 'Oliver Wood', 'Corban Yaxley', 'Slytherin', 'Aragog', 'Bane', 'Beedle the Bard', 'The Bloody Baron', 'Gringotts', 'Buckbeak', 'Crookshanks', 'Dobby', 'Errol', 'Fang', 'The Fat Friar', 'The Fat Lady', 'Fawkes', 'Firenze', 'Fluffy', 'Gringotts', 'Grawp', 'Griphook', 'Hedwig', 'Hokey', 'Black family', 'Magorian', 'Great Aunt Muriel', 'Nagini', 'Nearly Headless Nick', 'Norbert', 'Peeves', 'Pigwidgeon', 'Madam Rosmerta', 'Ronan', 'Scabbers', 'Death Eater', 'Barty Crouch Sr']\n"
     ]
    }
   ],
   "source": [
    "# Characterlist from Wikipedia\n",
    "url = 'https://en.wikipedia.org/wiki/List_of_Harry_Potter_characters'\n",
    "response = requests.get(url)\n",
    "soup = BeautifulSoup(response.content, 'html.parser')\n",
    "\n",
    "# List for characters\n",
    "character_list = []\n",
    "content_div = soup.find('div', {'id': 'bodyContent'})\n",
    "for heading in content_div.find_all('h3'):\n",
    "    # find the <ul> tag immediately following this heading\n",
    "    character_ul = heading.find_next_sibling('ul')\n",
    "    for character_li in character_ul.find_all('li'):\n",
    "        # extract the character name from the <a> tag within the <li>, if it exists\n",
    "        character_a = character_li.find('a')\n",
    "        if character_a:\n",
    "            character_name = character_a.text\n",
    "            character_list.append(character_name)\n",
    "\n",
    "print(character_list)"
   ]
  },
  {
   "cell_type": "code",
   "execution_count": 36,
   "metadata": {},
   "outputs": [
    {
     "name": "stdout",
     "output_type": "stream",
     "text": [
      "['Hannah Abbott', 'Ludo Bagman', 'Bathilda Bagshot', 'Katie Bell', 'Cuthbert Binns', 'Phineas Nigellus Black', 'Sirius Black', 'Amelia Bones', 'Susan Bones', 'Terry Boot', 'Lavender Brown', 'Millicent Bulstrode', 'Charity Burbage', 'Frank Bryce', 'Alecto Carrow', 'Amycus Carrow', 'Reginald Cattermole', 'Cho Chang', 'Penelope Clearwater', 'Crabbe', 'Vincent Crabbe', 'Colin Creevey', 'Dennis Creevey', 'Dirk Cresswell', 'Winky', 'Barty Crouch Jr', 'John Dawlish', 'Fleur Delacour', 'Dedalus Diggle', 'Amos Diggory', 'Cedric Diggory', 'Elphias Doge', 'Antonin Dolohov', 'Aberforth Dumbledore', 'Albus Dumbledore', 'Ariana Dumbledore', 'Dudley Dursley', 'Marge Dursley', 'Petunia Dursley', 'Vernon Dursley', 'Marietta Edgecombe', 'Arabella Figg', 'Argus Filch', 'Justin Finch-Fletchley', 'Seamus Finnigan', 'Mundungus Fletcher', 'Filius Flitwick', 'Cornelius Fudge', 'Marvolo Gaunt', 'Tom Riddle Sr.', 'Morfin Gaunt', 'Anthony Goldstein', 'Goyle', 'Gregory Goyle', 'Hermione Granger', 'Astoria Greengrass', 'Gregorovitch', 'Fenrir Greyback', 'Gellert Grindelwald', 'Wilhelmina Grubbly-Plank', 'Godric Gryffindor', 'Rubeus Hagrid', 'Rolanda Hooch', 'Mafalda Hopkirk', 'Helga Hufflepuff', 'Angelina Johnson', 'Lee Jordan', 'Bertha Jorkins', 'Igor Karkaroff', 'Viktor Krum', 'Silvanus Kettleburn', 'Bellatrix Lestrange', 'Gilderoy Lockhart', 'Alice and Frank Longbottom', 'Augusta Longbottom', 'Neville Longbottom', 'Luna Lovegood', 'Xenophilius Lovegood', 'Remus Lupin', 'Walden Macnair', 'Astoria Greengrass', 'Lucius Malfoy', 'Narcissa Malfoy', 'Astoria Greengrass', 'Madam Malkin', 'Olympe Maxime', 'Ernie Macmillan', 'Minerva McGonagall', 'Cormac McLaggen', 'Graham Montague', 'Alastor (Mad-Eye) Moody', 'Gaunt family', 'Garrick Ollivander', 'Pansy Parkinson', 'Padma Patil', 'Parvati Patil', 'Peter Pettigrew', 'Antioch, Cadmus, and Ignotus Peverell', 'Irma Pince', 'Sturgis Podmore', 'Poppy Pomfrey', 'Harry Potter', 'James Potter', 'Lily Potter', 'Quirinus Quirrell', 'Helena Ravenclaw/The Grey Lady', 'Rowena Ravenclaw', 'Delphi Riddle', 'Tom Riddle Sr.', 'Thomas Marvolo Riddle', 'Augustus Rookwood', 'Thorfinn Rowle', 'Albert Runcorn', 'Newt Scamander', 'Rufus Scrimgeour', 'Kingsley Shacklebolt', 'Stan Shunpike', 'Aurora Sinistra', 'Rita Skeeter', 'Cormac McLaggen', 'Zacharias Smith', 'Severus Snape', 'Alicia Spinnet', 'Pomona Sprout', 'Pius Thicknesse', 'Dean Thomas', 'Andromeda Tonks', 'Nymphadora Tonks', 'Ted Tonks', 'Sybill Trelawney', 'Wilkie Twycross', 'Dolores Umbridge', 'Emmeline Vance', 'Septima Vector', 'Thomas Marvolo Riddle', 'Myrtle Warren', 'Arthur Weasley', 'Bill Weasley', 'Charlie Weasley', 'Fred Weasley', 'George Weasley', 'Ginny Weasley', 'Molly Weasley', 'Penelope Clearwater', 'Ron Weasley', 'Oliver Wood', 'Corban Yaxley', 'Millicent Bulstrode', 'Aragog', 'Bane', 'Beedle the Bard', 'The Bloody Baron', 'Gornuk', 'Buckbeak', 'Crookshanks', 'Dobby', 'Errol', 'Fang', 'The Fat Friar', 'The Fat Lady', 'Fawkes', 'Firenze', 'Fluffy', 'Gornuk', 'Grawp', 'Griphook', 'Hedwig', 'Hokey', 'Kreacher', 'Magorian', 'Great Aunt Muriel', 'Nagini', 'Nearly Headless Nick', 'Norbert', 'Peeves', 'Pigwidgeon', 'Madam Rosmerta', 'Ronan', 'Scabbers', 'Travers', 'Winky']\n"
     ]
    },
    {
     "data": {
      "text/plain": [
       "181"
      ]
     },
     "execution_count": 36,
     "metadata": {},
     "output_type": "execute_result"
    }
   ],
   "source": [
    "# Ikke optimal løsning, men fikser alle fejlene, så vi kan smide en liste til API'en lidt hurtigt. \n",
    "replacements = {\n",
    "    \"Slytherin\": \"Millicent Bulstrode\",\n",
    "    \"Percy Weasley\": \"Penelope Clearwater\",\n",
    "    \"Draco Malfoy\": \"Astoria Greengrass\",\n",
    "    \"Eastern European\": \"Gregorovitch\",\n",
    "    \"Diagon Alley\": \"Madam Malkin\",\n",
    "    \"Horace Slughorn\": \"Cormac McLaggen\",\n",
    "    \"Vanishing Cabinet\": \"Graham Montague\",\n",
    "    \"Harry Potter and the Cursed Child\": \"Delphi Riddle\",\n",
    "    \"Merope Gaunt\": \"Tom Riddle Sr.\",\n",
    "    \"Lord Voldemort\": \"Thomas Marvolo Riddle\",\n",
    "    \"Bogrod\": \"Gringotts\",\n",
    "    \"Gringotts\": \"Gornuk\",\n",
    "    \"Black family\": \"Kreacher\",\n",
    "    \"Death Eater\" : \"Travers\",\n",
    "    \"Barty Crouch Sr\": \"Winky\"}\n",
    "\n",
    "for i in range(len(character_list)):\n",
    "    if character_list[i] in replacements:\n",
    "        character_list[i] = replacements[character_list[i]]\n",
    "\n",
    "additions = [\"Gabrielle Delacour\", \n",
    "             \"Kendra Dumbledore\", \n",
    "             \"Percival Dumbledore\", \n",
    "             \"Nicolas Flamel\", \n",
    "             \"Griselda Marchbanks\", \n",
    "             \"Eloise Midgen\", \n",
    "             \"Theodore Nott\", \n",
    "             \"Nott Sr\", \n",
    "             \"Albus Severus Potter\", \n",
    "             \"James Sirius Potter\", \n",
    "             \"Lily Luna Potter\", \n",
    "             \"Mary Riddle\", \n",
    "             \"Thomas Riddle\", \n",
    "             \"Demelza Robins\", \n",
    "             \"Salazar Slytherin\", \n",
    "             \"Romilda Vane\", \n",
    "             \"Hugo Weasley\", \n",
    "             \"Rose Weasley\",\n",
    "             \"Millicent Bulstrode\",\n",
    "             \"Blaise Zabini\",\n",
    "             \"Sir Cadogan\",\n",
    "             \"Scabior\",\n",
    "             \"Trevor\"]\n",
    "\n",
    "print(character_list)"
   ]
  },
  {
   "attachments": {},
   "cell_type": "markdown",
   "metadata": {},
   "source": [
    "## Collecting data with Harry Potter API"
   ]
  },
  {
   "cell_type": "code",
   "execution_count": 2,
   "metadata": {},
   "outputs": [
    {
     "data": {
      "text/plain": [
       "{'data': {'message': 'Welcome to the Potter DB API!',\n",
       "  'api_routes': ['/v1/books/:book_id/chapters',\n",
       "   '/v1/books/:book_id/chapters/:id',\n",
       "   '/v1/books',\n",
       "   '/v1/books/:id',\n",
       "   '/v1/characters',\n",
       "   '/v1/characters/:id',\n",
       "   '/v1/movies',\n",
       "   '/v1/movies/:id',\n",
       "   '/v1/potions',\n",
       "   '/v1/potions/:id',\n",
       "   '/v1/spells',\n",
       "   '/v1/spells/:id']}}"
      ]
     },
     "execution_count": 2,
     "metadata": {},
     "output_type": "execute_result"
    }
   ],
   "source": [
    "# API for facts about Harry Potter characters\n",
    "API = {\"data\":{\"message\":\"Welcome to the Potter DB API!\",\"api_routes\":[\"/v1/books/:book_id/chapters\",\"/v1/books/:book_id/chapters/:id\",\"/v1/books\",\"/v1/books/:id\",\"/v1/characters\",\"/v1/characters/:id\",\"/v1/movies\",\"/v1/movies/:id\",\"/v1/potions\",\"/v1/potions/:id\",\"/v1/spells\",\"/v1/spells/:id\"]}}\n",
    "API"
   ]
  },
  {
   "cell_type": "code",
   "execution_count": 75,
   "metadata": {},
   "outputs": [
    {
     "name": "stdout",
     "output_type": "stream",
     "text": [
      "https://api.potterdb.com/v1/characters\n"
     ]
    }
   ],
   "source": [
    "# API link\n",
    "BASE_URL = \"https://api.potterdb.com/\"\n",
    "VERSION = \"v1/\"\n",
    "RESOURCE = \"characters\"\n",
    "\n",
    "my_url = BASE_URL + VERSION + RESOURCE\n",
    "print(my_url)\n",
    "all_data = {}\n",
    "counter = 0\n",
    "for i in range(50):\n",
    "\n",
    "    url = my_url + f\"?page[number={i+1}]&page[size=100]\"\n",
    "    r = requests.get(url)\n",
    "    data = r.json()[\"data\"]\n",
    "\n",
    "    for i in data:\n",
    "        all_data[counter] = {}\n",
    "        name = (i['attributes']['name'])\n",
    "        all_data[counter]['Name'] = i['attributes']['name']\n",
    "        all_data[counter]['Blood status'] = i['attributes']['blood_status']\n",
    "        all_data[counter]['House'] = i['attributes']['house']\n",
    "        all_data[counter]['Species'] = i['attributes']['species']\n",
    "        all_data[counter]['Death time'] = i['attributes']['died']\n",
    "        all_data[counter]['Alias'] = i['attributes']['alias_names']\n",
    "        all_data[counter]['Wiki'] = i['attributes']['wiki']\n",
    "        all_data[counter]['Gender'] = i['attributes']['gender']\n",
    "        counter +=1\n",
    "    \n",
    "df_data = pd.DataFrame.from_dict(all_data, orient='index')"
   ]
  },
  {
   "cell_type": "code",
   "execution_count": 210,
   "metadata": {},
   "outputs": [
    {
     "data": {
      "text/html": [
       "<div>\n",
       "<style scoped>\n",
       "    .dataframe tbody tr th:only-of-type {\n",
       "        vertical-align: middle;\n",
       "    }\n",
       "\n",
       "    .dataframe tbody tr th {\n",
       "        vertical-align: top;\n",
       "    }\n",
       "\n",
       "    .dataframe thead th {\n",
       "        text-align: right;\n",
       "    }\n",
       "</style>\n",
       "<table border=\"1\" class=\"dataframe\">\n",
       "  <thead>\n",
       "    <tr style=\"text-align: right;\">\n",
       "      <th></th>\n",
       "      <th>name</th>\n",
       "      <th>Blood status</th>\n",
       "      <th>House</th>\n",
       "      <th>Species</th>\n",
       "      <th>Death time</th>\n",
       "      <th>Alias</th>\n",
       "      <th>Wiki</th>\n",
       "      <th>Gender</th>\n",
       "      <th>Wiki text</th>\n",
       "      <th>Character links</th>\n",
       "      <th>Wiki name</th>\n",
       "      <th>Sum character links</th>\n",
       "    </tr>\n",
       "  </thead>\n",
       "  <tbody>\n",
       "    <tr>\n",
       "      <th>0</th>\n",
       "      <td>1992 Gryffindor vs Slytherin Quidditch match s...</td>\n",
       "      <td>None</td>\n",
       "      <td>None</td>\n",
       "      <td>None</td>\n",
       "      <td>None</td>\n",
       "      <td>None</td>\n",
       "      <td>https://harrypotter.fandom.com/wiki/1992_Gryff...</td>\n",
       "      <td>None</td>\n",
       "      <td>The title of this article is conjectural.  Alt...</td>\n",
       "      <td>[Canon, Filius_Flitwick, Irma_Pince, Severus_S...</td>\n",
       "      <td>1992_Gryffindor_vs_Slytherin_Quidditch_match_s...</td>\n",
       "      <td>{'Filius_Flitwick': 2, 'Irma_Pince': 3, 'Sever...</td>\n",
       "    </tr>\n",
       "    <tr>\n",
       "      <th>1</th>\n",
       "      <td>1996 Gryffindor Quidditch Keeper trials specta...</td>\n",
       "      <td>None</td>\n",
       "      <td>None</td>\n",
       "      <td>None</td>\n",
       "      <td>None</td>\n",
       "      <td>None</td>\n",
       "      <td>https://harrypotter.fandom.com/wiki/1996_Gryff...</td>\n",
       "      <td>None</td>\n",
       "      <td>In September 1996, a number of unidentified sp...</td>\n",
       "      <td>[Harry_Potter_and_the_Half-Blood_Prince, Septe...</td>\n",
       "      <td>1996_Gryffindor_Quidditch_Keeper_trials_specta...</td>\n",
       "      <td>{'Harry_Potter': 1, 'Ronald_Weasley': 1, 'Corm...</td>\n",
       "    </tr>\n",
       "  </tbody>\n",
       "</table>\n",
       "</div>"
      ],
      "text/plain": [
       "                                                name Blood status House  \\\n",
       "0  1992 Gryffindor vs Slytherin Quidditch match s...         None  None   \n",
       "1  1996 Gryffindor Quidditch Keeper trials specta...         None  None   \n",
       "\n",
       "  Species Death time Alias                                               Wiki  \\\n",
       "0    None       None  None  https://harrypotter.fandom.com/wiki/1992_Gryff...   \n",
       "1    None       None  None  https://harrypotter.fandom.com/wiki/1996_Gryff...   \n",
       "\n",
       "  Gender                                          Wiki text  \\\n",
       "0   None  The title of this article is conjectural.  Alt...   \n",
       "1   None  In September 1996, a number of unidentified sp...   \n",
       "\n",
       "                                     Character links  \\\n",
       "0  [Canon, Filius_Flitwick, Irma_Pince, Severus_S...   \n",
       "1  [Harry_Potter_and_the_Half-Blood_Prince, Septe...   \n",
       "\n",
       "                                           Wiki name  \\\n",
       "0  1992_Gryffindor_vs_Slytherin_Quidditch_match_s...   \n",
       "1  1996_Gryffindor_Quidditch_Keeper_trials_specta...   \n",
       "\n",
       "                                 Sum character links  \n",
       "0  {'Filius_Flitwick': 2, 'Irma_Pince': 3, 'Sever...  \n",
       "1  {'Harry_Potter': 1, 'Ronald_Weasley': 1, 'Corm...  "
      ]
     },
     "execution_count": 210,
     "metadata": {},
     "output_type": "execute_result"
    }
   ],
   "source": [
    "df_data.head(2)"
   ]
  },
  {
   "attachments": {},
   "cell_type": "markdown",
   "metadata": {},
   "source": [
    "## Webscrape text data and node links from wiki"
   ]
  },
  {
   "cell_type": "code",
   "execution_count": 114,
   "metadata": {},
   "outputs": [],
   "source": [
    "# Function to webscrape Harry Potter wiki for text and links\n",
    "def webscrapeWiki(url):\n",
    "    response = requests.get(url)\n",
    "    soup = BeautifulSoup(response.content, 'html.parser')\n",
    "\n",
    "    content_div = soup.find('div', {'id': 'mw-content-text'})\n",
    "    text = \"\"\n",
    "    for p in content_div.find_all('p'):\n",
    "        text += p.get_text() + \" \"\n",
    "\n",
    "    links = []\n",
    "    for a in content_div.find_all(\"a\"):\n",
    "        split = a['href'].split(\"/\")\n",
    "        if len(split)>1:\n",
    "            if split[1]==\"wiki\":\n",
    "                links.append(split[2])\n",
    "\n",
    "    return text, links\n",
    "\n",
    "df_data[\"Wiki text\"], df_data[\"Character links\"] = zip(*df_data[\"Wiki\"].apply(webscrapeWiki))"
   ]
  },
  {
   "cell_type": "code",
   "execution_count": 209,
   "metadata": {},
   "outputs": [
    {
     "data": {
      "text/html": [
       "<div>\n",
       "<style scoped>\n",
       "    .dataframe tbody tr th:only-of-type {\n",
       "        vertical-align: middle;\n",
       "    }\n",
       "\n",
       "    .dataframe tbody tr th {\n",
       "        vertical-align: top;\n",
       "    }\n",
       "\n",
       "    .dataframe thead th {\n",
       "        text-align: right;\n",
       "    }\n",
       "</style>\n",
       "<table border=\"1\" class=\"dataframe\">\n",
       "  <thead>\n",
       "    <tr style=\"text-align: right;\">\n",
       "      <th></th>\n",
       "      <th>name</th>\n",
       "      <th>Blood status</th>\n",
       "      <th>House</th>\n",
       "      <th>Species</th>\n",
       "      <th>Death time</th>\n",
       "      <th>Alias</th>\n",
       "      <th>Wiki</th>\n",
       "      <th>Gender</th>\n",
       "      <th>Wiki text</th>\n",
       "      <th>Character links</th>\n",
       "      <th>Wiki name</th>\n",
       "      <th>Sum character links</th>\n",
       "    </tr>\n",
       "  </thead>\n",
       "  <tbody>\n",
       "    <tr>\n",
       "      <th>0</th>\n",
       "      <td>1992 Gryffindor vs Slytherin Quidditch match s...</td>\n",
       "      <td>None</td>\n",
       "      <td>None</td>\n",
       "      <td>None</td>\n",
       "      <td>None</td>\n",
       "      <td>None</td>\n",
       "      <td>https://harrypotter.fandom.com/wiki/1992_Gryff...</td>\n",
       "      <td>None</td>\n",
       "      <td>The title of this article is conjectural.  Alt...</td>\n",
       "      <td>[Canon, Filius_Flitwick, Irma_Pince, Severus_S...</td>\n",
       "      <td>1992_Gryffindor_vs_Slytherin_Quidditch_match_s...</td>\n",
       "      <td>{'Filius_Flitwick': 2, 'Irma_Pince': 3, 'Sever...</td>\n",
       "    </tr>\n",
       "    <tr>\n",
       "      <th>1</th>\n",
       "      <td>1996 Gryffindor Quidditch Keeper trials specta...</td>\n",
       "      <td>None</td>\n",
       "      <td>None</td>\n",
       "      <td>None</td>\n",
       "      <td>None</td>\n",
       "      <td>None</td>\n",
       "      <td>https://harrypotter.fandom.com/wiki/1996_Gryff...</td>\n",
       "      <td>None</td>\n",
       "      <td>In September 1996, a number of unidentified sp...</td>\n",
       "      <td>[Harry_Potter_and_the_Half-Blood_Prince, Septe...</td>\n",
       "      <td>1996_Gryffindor_Quidditch_Keeper_trials_specta...</td>\n",
       "      <td>{'Harry_Potter': 1, 'Ronald_Weasley': 1, 'Corm...</td>\n",
       "    </tr>\n",
       "  </tbody>\n",
       "</table>\n",
       "</div>"
      ],
      "text/plain": [
       "                                                name Blood status House  \\\n",
       "0  1992 Gryffindor vs Slytherin Quidditch match s...         None  None   \n",
       "1  1996 Gryffindor Quidditch Keeper trials specta...         None  None   \n",
       "\n",
       "  Species Death time Alias                                               Wiki  \\\n",
       "0    None       None  None  https://harrypotter.fandom.com/wiki/1992_Gryff...   \n",
       "1    None       None  None  https://harrypotter.fandom.com/wiki/1996_Gryff...   \n",
       "\n",
       "  Gender                                          Wiki text  \\\n",
       "0   None  The title of this article is conjectural.  Alt...   \n",
       "1   None  In September 1996, a number of unidentified sp...   \n",
       "\n",
       "                                     Character links  \\\n",
       "0  [Canon, Filius_Flitwick, Irma_Pince, Severus_S...   \n",
       "1  [Harry_Potter_and_the_Half-Blood_Prince, Septe...   \n",
       "\n",
       "                                           Wiki name  \\\n",
       "0  1992_Gryffindor_vs_Slytherin_Quidditch_match_s...   \n",
       "1  1996_Gryffindor_Quidditch_Keeper_trials_specta...   \n",
       "\n",
       "                                 Sum character links  \n",
       "0  {'Filius_Flitwick': 2, 'Irma_Pince': 3, 'Sever...  \n",
       "1  {'Harry_Potter': 1, 'Ronald_Weasley': 1, 'Corm...  "
      ]
     },
     "execution_count": 209,
     "metadata": {},
     "output_type": "execute_result"
    }
   ],
   "source": [
    "df_data.head(2)"
   ]
  },
  {
   "cell_type": "code",
   "execution_count": 120,
   "metadata": {},
   "outputs": [],
   "source": [
    "def wikiName(wikiURL):\n",
    "    return wikiURL.split(\"/\")[-1]\n",
    "\n",
    "def checkLinks(linkCounter, wikiNames):\n",
    "    cleanLinks = linkCounter.copy()\n",
    "    for link in linkCounter.keys():\n",
    "        if link not in list(wikiNames):\n",
    "            del cleanLinks[link]\n",
    "    return cleanLinks\n",
    "\n",
    "df_data[\"Wiki name\"] = df_data[\"Wiki\"].apply(wikiName)\n",
    "df_data[\"Sum character links\"] = df_data[\"Character links\"].apply(Counter)\n",
    "df_data[\"Sum character links\"] = df_data[\"Sum character links\"].apply(checkLinks,wikiNames=df_data[\"Wiki name\"])\n",
    "\n",
    "#Save dataframe\n",
    "df_data.to_pickle(\"df_data\")"
   ]
  },
  {
   "attachments": {},
   "cell_type": "markdown",
   "metadata": {},
   "source": [
    "## Initial filtering of data"
   ]
  },
  {
   "cell_type": "code",
   "execution_count": 129,
   "metadata": {},
   "outputs": [],
   "source": [
    "# Load dataframe:\n",
    "df_data_loaded = pd.read_pickle(\"df_data\")"
   ]
  },
  {
   "cell_type": "code",
   "execution_count": 184,
   "metadata": {},
   "outputs": [],
   "source": [
    "# Getting filtered data\n",
    "def checkUnidentified(wikiName):\n",
    "    check = \"Unidentified\"\n",
    "    if len(wikiName)>len(check):\n",
    "        if wikiName[:len(check)]==check:\n",
    "            return True\n",
    "    return False\n",
    "    \n",
    "\n",
    "filtered_data = df_data_loaded[~((df_data_loaded[\"Blood status\"].isnull())&(df_data_loaded[\"House\"].isnull())&(df_data_loaded[\"Species\"].isnull())&(df_data_loaded[\"Death time\"].isnull())&(df_data_loaded[\"Alias\"].isnull()))]\n",
    "filtered_data = filtered_data[~filtered_data[\"Wiki name\"].apply(checkUnidentified)]\n",
    "filtered_data[\"Sum character links\"] = filtered_data[\"Sum character links\"].apply(checkLinks,wikiNames=filtered_data[\"Wiki name\"])"
   ]
  },
  {
   "cell_type": "code",
   "execution_count": 185,
   "metadata": {},
   "outputs": [
    {
     "name": "stdout",
     "output_type": "stream",
     "text": [
      "183\n"
     ]
    }
   ],
   "source": [
    "# Plotting distribution of species\n",
    "species = filtered_data['Species']\n",
    "\n",
    "# Finding all types of species\n",
    "species_types = []\n",
    "for i in species:\n",
    "    if i not in species_types:\n",
    "        species_types.append(i)\n",
    "\n",
    "print(len(species_types)) # 192 different species\n",
    "\n",
    "# Converting each species to an integer\n",
    "dict = {}\n",
    "for i in range(len(species_types)):\n",
    "    dict[i] = species_types[i]\n",
    "keys = list(dict.keys())\n",
    "values = list(dict.values())\n",
    "\n",
    "# Making list of species integers\n",
    "species_int = []\n",
    "for i in species:\n",
    "    for j in range(len(values)):\n",
    "        if i == values[j]:\n",
    "            species_int.append(keys[j])"
   ]
  },
  {
   "cell_type": "code",
   "execution_count": 186,
   "metadata": {},
   "outputs": [
    {
     "data": {
      "text/plain": [
       "Text(0, 0.5, 'Count')"
      ]
     },
     "execution_count": 186,
     "metadata": {},
     "output_type": "execute_result"
    },
    {
     "data": {
      "image/png": "[encoded data removed]",
      "text/plain": [
       "<Figure size 640x480 with 1 Axes>"
      ]
     },
     "metadata": {},
     "output_type": "display_data"
    }
   ],
   "source": [
    "# Plotting distribution\n",
    "bins = np.linspace(min(species_int), max(species_int), 40)\n",
    "hist, edges = np.histogram(species_int, bins=bins)\n",
    "x = (edges[1:]+edges[:-1])/2\n",
    "width = bins[1]-bins[0]\n",
    "fig, ax = plt.subplots()\n",
    "ax.bar(x, hist, width)\n",
    "ax.set_title('Distribution of species')\n",
    "ax.set_xlabel('Species')\n",
    "ax.set_ylabel('Count')\n",
    "# Very heavy tailed therefore log transforming"
   ]
  },
  {
   "cell_type": "code",
   "execution_count": 187,
   "metadata": {},
   "outputs": [
    {
     "data": {
      "text/plain": [
       "Text(0.5, 1.0, 'Distribution of species in log space')"
      ]
     },
     "execution_count": 187,
     "metadata": {},
     "output_type": "execute_result"
    },
    {
     "data": {
      "image/png": "[encoded data removed]",
      "text/plain": [
       "<Figure size 640x480 with 1 Axes>"
      ]
     },
     "metadata": {},
     "output_type": "display_data"
    }
   ],
   "source": [
    "# Plotting species distribution in log space\n",
    "bins = np.logspace(0, np.log10(192), 30)\n",
    "hist, edges = np.histogram(species_int, bins=bins, density=True)\n",
    "x = (edges[1:]+edges[:-1])/2\n",
    "#xx, yy = zip(*[(i,j) for (i,j) in zip(x, hist) if j>0])\n",
    "width = bins[1]-bins[0]\n",
    "fig, ax = plt.subplots()\n",
    "ax.bar(x, hist, width)\n",
    "ax.set_xscale('log')\n",
    "ax.set_yscale('log')\n",
    "ax.set_xlabel('Species')\n",
    "ax.set_ylabel('Count')\n",
    "ax.set_title('Distribution of species in log space')"
   ]
  },
  {
   "cell_type": "code",
   "execution_count": 206,
   "metadata": {},
   "outputs": [
    {
     "data": {
      "text/html": [
       "<div>\n",
       "<style scoped>\n",
       "    .dataframe tbody tr th:only-of-type {\n",
       "        vertical-align: middle;\n",
       "    }\n",
       "\n",
       "    .dataframe tbody tr th {\n",
       "        vertical-align: top;\n",
       "    }\n",
       "\n",
       "    .dataframe thead th {\n",
       "        text-align: right;\n",
       "    }\n",
       "</style>\n",
       "<table border=\"1\" class=\"dataframe\">\n",
       "  <thead>\n",
       "    <tr style=\"text-align: right;\">\n",
       "      <th></th>\n",
       "      <th>name</th>\n",
       "      <th>Blood status</th>\n",
       "      <th>House</th>\n",
       "      <th>Species</th>\n",
       "      <th>Death time</th>\n",
       "      <th>Alias</th>\n",
       "      <th>Wiki</th>\n",
       "      <th>Gender</th>\n",
       "      <th>Wiki text</th>\n",
       "      <th>Character links</th>\n",
       "      <th>Wiki name</th>\n",
       "      <th>Sum character links</th>\n",
       "    </tr>\n",
       "  </thead>\n",
       "  <tbody>\n",
       "    <tr>\n",
       "      <th>5</th>\n",
       "      <td>2-Headed Baby</td>\n",
       "      <td>None</td>\n",
       "      <td>None</td>\n",
       "      <td>Human</td>\n",
       "      <td>None</td>\n",
       "      <td>None</td>\n",
       "      <td>https://harrypotter.fandom.com/wiki/2-Headed_Baby</td>\n",
       "      <td>Male (most likely)</td>\n",
       "      <td>\\n\\n\\n\\n\\n\\n\\n\\n2-Headed Baby\\n\\n\\nBiographica...</td>\n",
       "      <td>[1927, Human, Circus_Arcanus, Template:Individ...</td>\n",
       "      <td>2-Headed_Baby</td>\n",
       "      <td>{}</td>\n",
       "    </tr>\n",
       "    <tr>\n",
       "      <th>7</th>\n",
       "      <td>Aamir Loonat</td>\n",
       "      <td>None</td>\n",
       "      <td>Gryffindor</td>\n",
       "      <td>Human</td>\n",
       "      <td>None</td>\n",
       "      <td>None</td>\n",
       "      <td>https://harrypotter.fandom.com/wiki/Aamir_Loonat</td>\n",
       "      <td>Male</td>\n",
       "      <td>\\n\\nAamir Loonat\\n\\n\\nBiographical information...</td>\n",
       "      <td>[31_August, 1982, Great_Britain, Ireland, Huma...</td>\n",
       "      <td>Aamir_Loonat</td>\n",
       "      <td>{}</td>\n",
       "    </tr>\n",
       "    <tr>\n",
       "      <th>8</th>\n",
       "      <td>Abel Treetops</td>\n",
       "      <td>None</td>\n",
       "      <td>None</td>\n",
       "      <td>Human</td>\n",
       "      <td>None</td>\n",
       "      <td>None</td>\n",
       "      <td>https://harrypotter.fandom.com/wiki/Abel_Treetops</td>\n",
       "      <td>Male</td>\n",
       "      <td>\\n\\nAbel Treetops\\n\\n\\nBiographical informatio...</td>\n",
       "      <td>[1832, United_States_of_America, Human, Templa...</td>\n",
       "      <td>Abel_Treetops</td>\n",
       "      <td>{}</td>\n",
       "    </tr>\n",
       "    <tr>\n",
       "      <th>9</th>\n",
       "      <td>Aberforth Dumbledore</td>\n",
       "      <td>Half-blood</td>\n",
       "      <td>None</td>\n",
       "      <td>Human</td>\n",
       "      <td>None</td>\n",
       "      <td>[Ab]</td>\n",
       "      <td>https://harrypotter.fandom.com/wiki/Aberforth_...</td>\n",
       "      <td>Male</td>\n",
       "      <td>At least some content in this article is deriv...</td>\n",
       "      <td>[Harry_Potter:_Hogwarts_Mystery, Harry_Potter:...</td>\n",
       "      <td>Aberforth_Dumbledore</td>\n",
       "      <td>{'Percival_Dumbledore': 4, 'Kendra_Dumbledore'...</td>\n",
       "    </tr>\n",
       "    <tr>\n",
       "      <th>10</th>\n",
       "      <td>Abernathy</td>\n",
       "      <td>None</td>\n",
       "      <td>None</td>\n",
       "      <td>Human</td>\n",
       "      <td>None</td>\n",
       "      <td>None</td>\n",
       "      <td>https://harrypotter.fandom.com/wiki/Abernathy</td>\n",
       "      <td>Male</td>\n",
       "      <td>At least some content in this article is deriv...</td>\n",
       "      <td>[Fantastic_Beasts:_The_Secrets_of_Dumbledore, ...</td>\n",
       "      <td>Abernathy</td>\n",
       "      <td>{'Gellert_Grindelwald': 6, 'Porpentina_Goldste...</td>\n",
       "    </tr>\n",
       "  </tbody>\n",
       "</table>\n",
       "</div>"
      ],
      "text/plain": [
       "                    name Blood status       House Species Death time Alias  \\\n",
       "5          2-Headed Baby         None        None   Human       None  None   \n",
       "7           Aamir Loonat         None  Gryffindor   Human       None  None   \n",
       "8          Abel Treetops         None        None   Human       None  None   \n",
       "9   Aberforth Dumbledore   Half-blood        None   Human       None  [Ab]   \n",
       "10             Abernathy         None        None   Human       None  None   \n",
       "\n",
       "                                                 Wiki              Gender  \\\n",
       "5   https://harrypotter.fandom.com/wiki/2-Headed_Baby  Male (most likely)   \n",
       "7    https://harrypotter.fandom.com/wiki/Aamir_Loonat                Male   \n",
       "8   https://harrypotter.fandom.com/wiki/Abel_Treetops                Male   \n",
       "9   https://harrypotter.fandom.com/wiki/Aberforth_...                Male   \n",
       "10      https://harrypotter.fandom.com/wiki/Abernathy                Male   \n",
       "\n",
       "                                            Wiki text  \\\n",
       "5   \\n\\n\\n\\n\\n\\n\\n\\n2-Headed Baby\\n\\n\\nBiographica...   \n",
       "7   \\n\\nAamir Loonat\\n\\n\\nBiographical information...   \n",
       "8   \\n\\nAbel Treetops\\n\\n\\nBiographical informatio...   \n",
       "9   At least some content in this article is deriv...   \n",
       "10  At least some content in this article is deriv...   \n",
       "\n",
       "                                      Character links             Wiki name  \\\n",
       "5   [1927, Human, Circus_Arcanus, Template:Individ...         2-Headed_Baby   \n",
       "7   [31_August, 1982, Great_Britain, Ireland, Huma...          Aamir_Loonat   \n",
       "8   [1832, United_States_of_America, Human, Templa...         Abel_Treetops   \n",
       "9   [Harry_Potter:_Hogwarts_Mystery, Harry_Potter:...  Aberforth_Dumbledore   \n",
       "10  [Fantastic_Beasts:_The_Secrets_of_Dumbledore, ...             Abernathy   \n",
       "\n",
       "                                  Sum character links  \n",
       "5                                                  {}  \n",
       "7                                                  {}  \n",
       "8                                                  {}  \n",
       "9   {'Percival_Dumbledore': 4, 'Kendra_Dumbledore'...  \n",
       "10  {'Gellert_Grindelwald': 6, 'Porpentina_Goldste...  "
      ]
     },
     "execution_count": 206,
     "metadata": {},
     "output_type": "execute_result"
    }
   ],
   "source": [
    "filtered_data.head()"
   ]
  },
  {
   "cell_type": "code",
   "execution_count": 189,
   "metadata": {},
   "outputs": [
    {
     "name": "stdout",
     "output_type": "stream",
     "text": [
      "MultiDiGraph with 3542 nodes and 0 edges\n"
     ]
    }
   ],
   "source": [
    "# making edgelist\n",
    "wiki_names = list(filtered_data['Wiki name'])\n",
    "character_links = filtered_data['Sum character links']\n",
    "edgelist = {}\n",
    "\n",
    "'''\n",
    "for i in range(len(filtered_data)):\n",
    "        edgelist[wiki_names[i]] = character_links[i]\n",
    "'''\n",
    "\n",
    "# Initializing graph\n",
    "G = nx.MultiDiGraph()\n",
    "G.add_nodes_from(wiki_names)\n",
    "print(G)"
   ]
  },
  {
   "cell_type": "code",
   "execution_count": 190,
   "metadata": {},
   "outputs": [],
   "source": [
    "edges = []\n",
    "for j in filtered_data.index:\n",
    "    name = filtered_data['Wiki name'][j]\n",
    "    links = filtered_data['Sum character links'][j]\n",
    "    for key, val in links.items():\n",
    "        edges.append(((name, key, val)))\n",
    "\n",
    "    #for k in keys:\n",
    "     #   for w in values:\n",
    "      #      edges.append(((name, k, w)))"
   ]
  },
  {
   "cell_type": "code",
   "execution_count": 191,
   "metadata": {},
   "outputs": [
    {
     "name": "stdout",
     "output_type": "stream",
     "text": [
      "MultiDiGraph with 3542 nodes and 110998 edges\n"
     ]
    }
   ],
   "source": [
    "G.add_weighted_edges_from(edges)\n",
    "print(G)"
   ]
  },
  {
   "cell_type": "code",
   "execution_count": 192,
   "metadata": {},
   "outputs": [
    {
     "name": "stdout",
     "output_type": "stream",
     "text": [
      "551 nodes with degree 0 were removed.\n",
      "MultiDiGraph with 2991 nodes and 110998 edges\n"
     ]
    }
   ],
   "source": [
    "# Remove nodes with no edges\n",
    "remove = [node for node,degree in G.degree() if degree == 0]\n",
    "G.remove_nodes_from(remove)\n",
    "print(f\"{len(remove)} nodes with degree 0 were removed.\")\n",
    "print(G)"
   ]
  },
  {
   "cell_type": "code",
   "execution_count": 193,
   "metadata": {},
   "outputs": [
    {
     "name": "stdout",
     "output_type": "stream",
     "text": [
      "{0: None, 1: 'Gryffindor', 2: None, 3: None, 4: None, 5: 'Gryffindor', 6: 'Slytherin', 7: None, 8: None, 9: None, 10: None, 11: 'Hufflepuff', 12: None, 13: None, 14: 'Slytherin', 15: None, 16: 'Slytherin', 17: None, 18: None, 19: None, 20: None, 21: None, 22: None, 23: 'Gryffindor', 24: None, 25: 'Slytherin', 26: None, 27: 'Slytherin', 28: 'Hufflepuff', 29: None, 30: None, 31: None, 32: 'Hufflepuff', 33: None, 34: None, 35: None, 36: None, 37: 'Slytherin', 38: None, 39: None, 40: None, 41: 'Gryffindor', 42: None, 43: None, 44: 'Hufflepuff', 45: None, 46: 'Ravenclaw', 47: 'Ravenclaw', 48: None, 49: None, 50: None, 51: None, 52: None, 53: 'Unknown', 54: None, 55: None, 56: 'Hufflepuff', 57: None, 58: None, 59: None, 60: None, 61: None, 62: None, 63: None, 64: None, 65: None, 66: None, 67: None, 68: None, 69: None, 70: None, 71: None, 72: None, 73: 'Gryffindor', 74: None, 75: None, 76: 'Slytherin', 77: None, 78: None, 79: 'Slytherin', 80: None, 81: None, 82: None, 83: 'Gryffindor', 84: None, 85: None, 86: None, 87: 'Slytherin (possibly)', 88: 'Gryffindor', 89: None, 90: 'Slytherin', 91: 'Gryffindor', 92: None, 93: None, 94: None, 95: None, 96: None, 97: None, 98: 'Gryffindor, Hufflepuff, or Ravenclaw', 99: None, 100: 'Gryffindor', 101: None, 102: None, 103: 'Gryffindor', 104: None, 105: None, 106: None, 107: None, 108: 'Hufflepuff', 109: 'Gryffindor', 110: None, 111: None, 112: 'Slytherin', 113: None, 114: None, 115: 'Hufflepuff', 116: 'Ravenclaw', 117: None, 118: None, 119: None, 120: None, 121: 'Gryffindor', 122: None, 123: None, 124: None, 125: 'Hufflepuff', 126: None, 127: 'Ravenclaw', 128: None, 129: None, 130: None, 131: 'Slytherin', 132: None, 133: None, 134: 'Slytherin', 135: 'Slytherin', 136: None, 137: 'Ravenclaw', 138: None, 139: None, 140: 'Ravenclaw', 141: 'Ravenclaw', 142: None, 143: None, 144: 'Ravenclaw', 145: 'Gryffindor', 146: 'Gryffindor', 147: 'Gryffindor', 148: 'Gryffindor', 149: 'Slytherin', 150: 'Gryffindor', 151: 'Slytherin', 152: None, 153: None, 154: None, 155: 'Gryffindor', 156: 'Gryffindor', 157: 'Gryffindor', 158: None, 159: None, 160: None, 161: None, 162: None, 163: None, 164: None, 165: None, 166: None, 167: None, 168: None, 169: 'Gryffindor', 170: None, 171: 'Gryffindor', 172: 'Gryffindor', 173: None, 174: 'Hufflepuff', 175: None, 176: None, 177: 'Gryffindor', 178: 'Gryffindor', 179: None, 180: None, 181: None, 182: 'Ravenclaw', 183: 'Hufflepuff', 184: 'Hufflepuff', 185: None, 186: None, 187: None, 188: None, 189: None, 190: None, 191: None, 192: None, 193: None, 194: None, 195: None, 196: None, 197: None, 198: None, 199: None, 200: None, 201: 'Slytherin', 202: None, 203: None, 204: 'Slytherin', 205: None, 206: None, 207: None, 208: None, 209: None, 210: None, 211: 'Slytherin (possibly)', 212: 'Slytherin (possibly)', 213: 'Slytherin (possibly)', 214: None, 215: None, 216: None, 217: None, 218: None, 219: None, 220: None, 221: None, 222: 'Ravenclaw', 223: None, 224: None, 225: None, 226: None, 227: None, 228: 'Ravenclaw', 229: None, 230: None, 231: None, 232: None, 233: 'Ravenclaw', 234: None, 235: None, 236: 'Ravenclaw', 237: None, 238: None, 239: None, 240: None, 241: 'Hufflepuff', 242: None, 243: 'Hufflepuff', 244: None, 245: None, 246: None, 247: 'Gryffindor', 248: None, 249: None, 250: None, 251: None, 252: None, 253: None, 254: None, 255: 'Hufflepuff', 256: 'Gryffindor', 257: 'Ravenclaw', 258: None, 259: 'Ravenclaw', 260: None, 261: None, 262: None, 263: 'Gryffindor', 264: None, 265: 'Slytherin', 266: None, 267: None, 268: None, 269: None, 270: None, 271: None, 272: None, 273: None, 274: None, 275: 'Ravenclaw', 276: None, 277: 'Slytherin', 278: None, 279: 'Slytherin', 280: None, 281: None, 282: None, 283: None, 284: 'Ravenclaw', 285: None, 286: None, 287: None, 288: 'Gryffindor, Hufflepuff, or Slytherin', 289: None, 290: None, 291: None, 292: None, 293: None, 294: None, 295: None, 296: None, 297: 'Ravenclaw', 298: None, 299: None, 300: None, 301: None, 302: None, 303: None, 304: None, 305: None, 306: 'Slytherin', 307: None, 308: None, 309: None, 310: None, 311: None, 312: None, 313: None, 314: None, 315: 'Gryffindor', 316: None, 317: None, 318: None, 319: None, 320: None, 321: None, 322: None, 323: None, 324: None, 325: None, 326: None, 327: None, 328: 'Ravenclaw', 329: None, 330: None, 331: None, 332: 'Slytherin', 333: None, 334: None, 335: None, 336: None, 337: None, 338: 'Hufflepuff', 339: None, 340: None, 341: None, 342: None, 343: None, 344: 'Ravenclaw', 345: None, 346: None, 347: 'Slytherin', 348: 'Slytherin (possibly)', 349: None, 350: None, 351: 'Gryffindor', 352: 'Gryffindor', 353: None, 354: None, 355: None, 356: 'Hufflepuff', 357: None, 358: None, 359: None, 360: None, 361: None, 362: None, 363: None, 364: 'Hufflepuff', 365: None, 366: None, 367: None, 368: None, 369: None, 370: None, 371: None, 372: None, 373: None, 374: None, 375: None, 376: 'Slytherin', 377: None, 378: None, 379: 'Gryffindor', 380: None, 381: None, 382: None, 383: 'Hufflepuff', 384: 'Slytherin', 385: 'Ravenclaw', 386: None, 387: 'Hufflepuff (possibly)', 388: None, 389: None, 390: None, 391: None, 392: None, 393: None, 394: None, 395: None, 396: None, 397: None, 398: None, 399: None, 400: None, 401: None, 402: None, 403: 'Slytherin', 404: None, 405: None, 406: None, 407: None, 408: None, 409: None, 410: None, 411: None, 412: None, 413: None, 414: None, 415: None, 416: None, 417: None, 418: None, 419: None, 420: None, 421: None, 422: None, 423: None, 424: None, 425: None, 426: None, 427: None, 428: None, 429: None, 430: None, 431: 'Slytherin', 432: None, 433: None, 434: 'Hufflepuff', 435: None, 436: 'Unknown', 437: 'Ravenclaw', 438: None, 439: 'Slytherin', 440: None, 441: None, 442: None, 443: None, 444: 'Ravenclaw', 445: None, 446: 'Gryffindor', 447: None, 448: 'Hufflepuff', 449: 'Ravenclaw', 450: None, 451: None, 452: 'Gryffindor', 453: None, 454: None, 455: None, 456: 'Slytherin', 457: 'Hufflepuff', 458: None, 459: None, 460: None, 461: None, 462: None, 463: None, 464: None, 465: None, 466: None, 467: None, 468: None, 469: None, 470: None, 471: None, 472: None, 473: None, 474: None, 475: None, 476: 'Hufflepuff', 477: None, 478: None, 479: None, 480: None, 481: 'Slytherin', 482: None, 483: None, 484: 'Gryffindor', 485: None, 486: None, 487: None, 488: None, 489: None, 490: None, 491: 'Hufflepuff', 492: None, 493: None, 494: None, 495: None, 496: None, 497: 'Slytherin', 498: None, 499: None, 500: 'Slytherin', 501: None, 502: None, 503: None, 504: None, 505: None, 506: None, 507: 'Gryffindor', 508: None, 509: None, 510: None, 511: None, 512: None, 513: None, 514: None, 515: None, 516: None, 517: 'Hufflepuff', 518: None, 519: None, 520: None, 521: None, 522: None, 523: None, 524: None, 525: None, 526: None, 527: 'Slytherin', 528: None, 529: None, 530: 'Slytherin', 531: None, 532: 'Slytherin', 533: None, 534: None, 535: None, 536: None, 537: None, 538: None, 539: None, 540: None, 541: None, 542: 'Slytherin', 543: None, 544: 'Hufflepuff', 545: 'Hufflepuff', 546: None, 547: None, 548: 'Gryffindor', 549: None, 550: None, 551: None, 552: None, 553: None, 554: None, 555: None, 556: None, 557: 'Thunderbird', 558: 'Ravenclaw', 559: None, 560: None, 561: 'Slytherin', 562: None, 563: None, 564: None, 565: None, 566: None, 567: None, 568: None, 569: None, 570: 'Slytherin', 571: None, 572: 'Gryffindor', 573: None, 574: None, 575: None, 576: 'Gryffindor', 577: None, 578: None, 579: None, 580: None, 581: None, 582: None, 583: 'Hufflepuff', 584: None, 585: 'Ravenclaw', 586: None, 587: 'Hufflepuff', 588: None, 589: None, 590: None, 591: None, 592: 'Gryffindor', 593: None, 594: None, 595: 'Ravenclaw', 596: None, 597: 'Gryffindor', 598: None, 599: None, 600: None, 601: 'Gryffindor', 602: None, 603: 'Ravenclaw', 604: None, 605: None, 606: None, 607: None, 608: None, 609: None, 610: None, 611: None, 612: None, 613: None, 614: None, 615: None, 616: None, 617: None, 618: None, 619: None, 620: None, 621: None, 622: None, 623: None, 624: 'Slytherin', 625: 'Slytherin', 626: 'Gryffindor', 627: None, 628: 'Gryffindor', 629: None, 630: None, 631: 'Hufflepuff', 632: None, 633: None, 634: None, 635: 'Hufflepuff', 636: None, 637: None, 638: None, 639: None, 640: None, 641: None, 642: None, 643: 'Ravenclaw', 644: None, 645: None, 646: 'Gryffindor', 647: None, 648: None, 649: None, 650: 'Gryffindor', 651: None, 652: None, 653: None, 654: None, 655: 'Slytherin', 656: None, 657: None, 658: None, 659: None, 660: None, 661: None, 662: None, 663: None, 664: None, 665: None, 666: 'Slytherin', 667: None, 668: 'Slytherin', 669: 'Hufflepuff', 670: None, 671: None, 672: None, 673: None, 674: None, 675: None, 676: None, 677: None, 678: None, 679: None, 680: None, 681: None, 682: None, 683: 'Gryffindor', 684: 'Gryffindor', 685: 'Slytherin', 686: None, 687: None, 688: None, 689: None, 690: None, 691: 'Slytherin (possibly)', 692: 'Slytherin (possibly)', 693: 'Slytherin', 694: None, 695: None, 696: None, 697: None, 698: None, 699: None, 700: None, 701: None, 702: None, 703: None, 704: None, 705: None, 706: 'Ravenclaw', 707: 'Gryffindor (possibly)', 708: None, 709: None, 710: None, 711: None, 712: None, 713: None, 714: None, 715: None, 716: 'Slytherin', 717: 'Gryffindor', 718: 'Slytherin', 719: None, 720: None, 721: None, 722: None, 723: 'Ravenclaw', 724: 'Slytherin', 725: 'Gryffindor', 726: None, 727: 'Pub landlady', 728: None, 729: 'Slytherin', 730: None, 731: None, 732: None, 733: 'Hufflepuff', 734: None, 735: None, 736: None, 737: 'Slytherin', 738: None, 739: None, 740: None, 741: None, 742: None, 743: None, 744: None, 745: None, 746: 'Gryffindor', 747: None, 748: 'Slytherin', 749: 'Gryffindor', 750: None, 751: None, 752: None, 753: None, 754: 'Gryffindor', 755: None, 756: None, 757: None, 758: None, 759: None, 760: 'Ravenclaw', 761: None, 762: None, 763: None, 764: None, 765: None, 766: None, 767: 'Did not attend Hogwarts', 768: 'Gryffindor', 769: None, 770: None, 771: None, 772: None, 773: None, 774: 'Ravenclaw', 775: None, 776: None, 777: 'Gryffindor', 778: None, 779: None, 780: 'Gryffindor', 781: None, 782: None, 783: None, 784: None, 785: None, 786: None, 787: None, 788: None, 789: 'Slytherin', 790: None, 791: 'Hufflepuff', 792: None, 793: None, 794: None, 795: None, 796: None, 797: None, 798: None, 799: 'Gryffindor', 800: None, 801: None, 802: None, 803: None, 804: None, 805: None, 806: None, 807: None, 808: None, 809: None, 810: None, 811: None, 812: 'Slytherin', 813: None, 814: None, 815: None, 816: None, 817: None, 818: None, 819: None, 820: 'Hufflepuff', 821: None, 822: None, 823: None, 824: 'Slytherin', 825: None, 826: None, 827: 'Hufflepuff', 828: None, 829: None, 830: None, 831: None, 832: None, 833: None, 834: None, 835: None, 836: None, 837: None, 838: None, 839: None, 840: 'Slytherin', 841: None, 842: None, 843: None, 844: None, 845: None, 846: None, 847: None, 848: None, 849: None, 850: None, 851: None, 852: None, 853: None, 854: None, 855: None, 856: None, 857: 'Hufflepuff', 858: None, 859: None, 860: None, 861: 'Slytherin', 862: 'Ravenclaw', 863: 'Hufflepuff', 864: 'Slytherin', 865: 'Slytherin', 866: None, 867: None, 868: None, 869: None, 870: None, 871: None, 872: None, 873: None, 874: None, 875: None, 876: None, 877: None, 878: 'Ravenclaw', 879: None, 880: None, 881: None, 882: 'Hufflepuff (possibly)', 883: None, 884: None, 885: None, 886: None, 887: None, 888: None, 889: None, 890: None, 891: 'Gryffindor', 892: None, 893: None, 894: None, 895: None, 896: None, 897: None, 898: 'Hufflepuff', 899: None, 900: None, 901: None, 902: None, 903: None, 904: None, 905: None, 906: None, 907: None, 908: 'Gryffindor', 909: None, 910: None, 911: None, 912: 'Hufflepuff', 913: None, 914: None, 915: None, 916: None, 917: None, 918: 'Hufflepuff, Ravenclaw or Slytherin', 919: None, 920: None, 921: 'Hufflepuff', 922: None, 923: 'Slytherin (possibly)', 924: None, 925: None, 926: None, 927: None, 928: None, 929: 'Hufflepuff', 930: None, 931: None, 932: None, 933: 'Hufflepuff', 934: None, 935: None, 936: None, 937: None, 938: None, 939: None, 940: None, 941: None, 942: None, 943: None, 944: None, 945: None, 946: None, 947: None, 948: 'Ravenclaw', 949: 'Slytherin', 950: None, 951: None, 952: None, 953: 'Ravenclaw', 954: None, 955: None, 956: 'Slytherin (possibly)', 957: None, 958: None, 959: 'Gryffindor', 960: 'Slytherin', 961: None, 962: None, 963: None, 964: 'Gryffindor', 965: None, 966: None, 967: 'Gryffindor', 968: None, 969: None, 970: None, 971: None, 972: None, 973: None, 974: None, 975: None, 976: None, 977: None, 978: None, 979: None, 980: None, 981: None, 982: None, 983: None, 984: 'Slytherin', 985: 'Gryffindor', 986: 'Hufflepuff', 987: None, 988: 'Gryffindor', 989: 'Gryffindor', 990: None, 991: None, 992: None, 993: None, 994: 'Gryffindor', 995: 'Slytherin', 996: None, 997: None, 998: None, 999: None, 1000: None, 1001: None, 1002: 'Gryffindor', 1003: None, 1004: None, 1005: None, 1006: None, 1007: None, 1008: None, 1009: None, 1010: 'Ravenclaw or Slytherin', 1011: None, 1012: 'Ravenclaw or Slytherin', 1013: 'Ravenclaw or Slytherin', 1014: None, 1015: None, 1016: None, 1017: None, 1018: 'Hufflepuff', 1019: None, 1020: 'Gryffindor', 1021: None, 1022: None, 1023: None, 1024: None, 1025: 'Ravenclaw', 1026: 'Gryffindor', 1027: None, 1028: None, 1029: None, 1030: None, 1031: 'Gryffindor', 1032: None, 1033: None, 1034: 'Hufflepuff', 1035: None, 1036: None, 1037: None, 1038: None, 1039: None, 1040: None, 1041: None, 1042: None, 1043: None, 1044: None, 1045: None, 1046: 'Hufflepuff', 1047: None, 1048: None, 1049: 'Slytherin', 1050: None, 1051: None, 1052: None, 1053: None, 1054: None, 1055: None, 1056: None, 1057: None, 1058: None, 1059: None, 1060: None, 1061: None, 1062: None, 1063: None, 1064: 'Gryffindor', 1065: None, 1066: None, 1067: 'Ravenclaw', 1068: None, 1069: None, 1070: None, 1071: 'Slytherin', 1072: None, 1073: None, 1074: None, 1075: None, 1076: None, 1077: None, 1078: None, 1079: 'Slytherin', 1080: None, 1081: None, 1082: None, 1083: 'Gryffindor', 1084: None, 1085: 'Ravenclaw', 1086: None, 1087: None, 1088: None, 1089: None, 1090: None, 1091: None, 1092: 'Gryffindor', 1093: None, 1094: None, 1095: None, 1096: None, 1097: 'Slytherin', 1098: None, 1099: None, 1100: None, 1101: None, 1102: 'Gryffindor', 1103: None, 1104: None, 1105: None, 1106: None, 1107: 'Slytherin', 1108: None, 1109: None, 1110: None, 1111: None, 1112: None, 1113: None, 1114: None, 1115: None, 1116: None, 1117: None, 1118: None, 1119: None, 1120: None, 1121: None, 1122: None, 1123: None, 1124: None, 1125: None, 1126: None, 1127: None, 1128: None, 1129: None, 1130: None, 1131: None, 1132: None, 1133: None, 1134: None, 1135: None, 1136: 'Gryffindor', 1137: None, 1138: None, 1139: None, 1140: None, 1141: None, 1142: None, 1143: None, 1144: None, 1145: None, 1146: None, 1147: None, 1148: None, 1149: None, 1150: None, 1151: 'Slytherin', 1152: 'Hufflepuff', 1153: 'Hufflepuff', 1154: None, 1155: None, 1156: None, 1157: None, 1158: None, 1159: None, 1160: 'Hufflepuff', 1161: None, 1162: 'Slytherin', 1163: 'Ravenclaw', 1164: None, 1165: None, 1166: None, 1167: None, 1168: None, 1169: None, 1170: 'Hufflepuff', 1171: None, 1172: None, 1173: None, 1174: 'Slytherin', 1175: None, 1176: 'Gryffindor', 1177: 'Gryffindor', 1178: 'Ravenclaw', 1179: None, 1180: None, 1181: None, 1182: None, 1183: None, 1184: None, 1185: None, 1186: None, 1187: None, 1188: 'Gryffindor', 1189: None, 1190: None, 1191: None, 1192: None, 1193: None, 1194: 'Ravenclaw', 1195: 'Ravenclaw', 1196: None, 1197: None, 1198: None, 1199: None, 1200: None, 1201: 'Slytherin', 1202: None, 1203: None, 1204: None, 1205: None, 1206: None, 1207: None, 1208: None, 1209: None, 1210: 'Gryffindor', 1211: None, 1212: None, 1213: None, 1214: None, 1215: None, 1216: None, 1217: None, 1218: 'Slytherin', 1219: 'Hufflepuff', 1220: None, 1221: None, 1222: None, 1223: None, 1224: None, 1225: 'Ravenclaw', 1226: None, 1227: None, 1228: None, 1229: None, 1230: 'Hufflepuff', 1231: None, 1232: 'Gryffindor', 1233: None, 1234: None, 1235: None, 1236: None, 1237: None, 1238: 'Hufflepuff', 1239: 'Gryffindor', 1240: 'Ravenclaw (possibly)', 1241: None, 1242: None, 1243: 'Hufflepuff', 1244: None, 1245: None, 1246: None, 1247: None, 1248: None, 1249: None, 1250: 'Slytherin', 1251: None, 1252: None, 1253: None, 1254: None, 1255: None, 1256: None, 1257: None, 1258: 'Ravenclaw', 1259: 'Gryffindor', 1260: None, 1261: None, 1262: None, 1263: None, 1264: None, 1265: None, 1266: None, 1267: None, 1268: None, 1269: None, 1270: None, 1271: None, 1272: None, 1273: None, 1274: None, 1275: None, 1276: 'Slytherin', 1277: None, 1278: None, 1279: 'Slytherin', 1280: None, 1281: None, 1282: None, 1283: None, 1284: 'Hufflepuff', 1285: 'Slytherin', 1286: 'Slytherin', 1287: 'Hufflepuff', 1288: None, 1289: 'Ravenclaw', 1290: 'Slytherin', 1291: None, 1292: None, 1293: None, 1294: None, 1295: None, 1296: None, 1297: None, 1298: None, 1299: 'Slytherin', 1300: 'Hufflepuff', 1301: None, 1302: None, 1303: None, 1304: None, 1305: 'Hufflepuff', 1306: None, 1307: None, 1308: None, 1309: None, 1310: None, 1311: None, 1312: None, 1313: None, 1314: 'Hufflepuff', 1315: None, 1316: 'Gryffindor, Hufflepuff, or Slytherin', 1317: None, 1318: None, 1319: 'Gryffindor', 1320: 'Gryffindor', 1321: 'Gryffindor', 1322: 'Gryffindor', 1323: 'Gryffindor', 1324: 'Gryffindor', 1325: 'Gryffindor', 1326: None, 1327: None, 1328: None, 1329: None, 1330: None, 1331: None, 1332: None, 1333: None, 1334: None, 1335: 'Hufflepuff', 1336: None, 1337: None, 1338: None, 1339: None, 1340: 'Gryffindor', 1341: None, 1342: None, 1343: 'Gryffindor', 1344: 'Hufflepuff', 1345: None, 1346: None, 1347: None, 1348: None, 1349: None, 1350: 'Hufflepuff', 1351: None, 1352: None, 1353: 'Gryffindor', 1354: None, 1355: None, 1356: None, 1357: None, 1358: None, 1359: None, 1360: None, 1361: None, 1362: None, 1363: None, 1364: 'Slytherin', 1365: 'Ravenclaw', 1366: 'Gryffindor', 1367: None, 1368: 'Hufflepuff', 1369: 'Hufflepuff', 1370: None, 1371: None, 1372: None, 1373: None, 1374: 'Slytherin', 1375: None, 1376: None, 1377: 'Ravenclaw', 1378: None, 1379: None, 1380: None, 1381: None, 1382: None, 1383: None, 1384: None, 1385: None, 1386: None, 1387: 'Hufflepuff', 1388: 'Slytherin', 1389: None, 1390: None, 1391: 'Hufflepuff', 1392: None, 1393: None, 1394: None, 1395: None, 1396: None, 1397: None, 1398: None, 1399: None, 1400: None, 1401: 'Hufflepuff', 1402: None, 1403: None, 1404: 'Ravenclaw', 1405: 'Ravenclaw', 1406: 'Hufflepuff', 1407: 'Hufflepuff', 1408: None, 1409: None, 1410: None, 1411: None, 1412: None, 1413: None, 1414: 'Ravenclaw', 1415: None, 1416: None, 1417: 'Hufflepuff', 1418: None, 1419: None, 1420: None, 1421: None, 1422: None, 1423: None, 1424: None, 1425: None, 1426: None, 1427: None, 1428: None, 1429: None, 1430: None, 1431: None, 1432: None, 1433: 'Hufflepuff', 1434: None, 1435: None, 1436: None, 1437: None, 1438: None, 1439: None, 1440: None, 1441: 'Gryffindor', 1442: None, 1443: None, 1444: None, 1445: 'Slytherin (possibly)', 1446: None, 1447: None, 1448: None, 1449: None, 1450: 'Slytherin', 1451: None, 1452: None, 1453: None, 1454: None, 1455: 'Ravenclaw', 1456: None, 1457: None, 1458: None, 1459: None, 1460: 'Slytherin', 1461: 'Gryffindor', 1462: None, 1463: None, 1464: None, 1465: None, 1466: None, 1467: None, 1468: None, 1469: None, 1470: None, 1471: None, 1472: None, 1473: None, 1474: None, 1475: None, 1476: None, 1477: 'Slytherin', 1478: 'Thunderbird', 1479: None, 1480: None, 1481: None, 1482: None, 1483: None, 1484: None, 1485: None, 1486: 'Slytherin', 1487: None, 1488: None, 1489: None, 1490: None, 1491: 'Slytherin', 1492: None, 1493: None, 1494: 'Ravenclaw', 1495: 'Slytherin', 1496: None, 1497: None, 1498: None, 1499: 'Slytherin', 1500: None, 1501: None, 1502: None, 1503: None, 1504: 'Hufflepuff', 1505: 'Hufflepuff', 1506: 'Gryffindor', 1507: None, 1508: 'Ravenclaw', 1509: None, 1510: None, 1511: None, 1512: None, 1513: None, 1514: 'Ravenclaw', 1515: None, 1516: 'Gryffindor', 1517: None, 1518: None, 1519: None, 1520: None, 1521: 'Ravenclaw', 1522: None, 1523: None, 1524: None, 1525: None, 1526: None, 1527: None, 1528: None, 1529: None, 1530: None, 1531: 'Slytherin', 1532: None, 1533: None, 1534: None, 1535: None, 1536: None, 1537: 'Slytherin (possibly)', 1538: None, 1539: 'Hufflepuff', 1540: None, 1541: 'Slytherin', 1542: None, 1543: None, 1544: None, 1545: None, 1546: None, 1547: None, 1548: 'Slytherin', 1549: None, 1550: None, 1551: None, 1552: 'Hufflepuff', 1553: 'Slytherin', 1554: None, 1555: None, 1556: None, 1557: None, 1558: None, 1559: 'Horned Serpent', 1560: None, 1561: None, 1562: None, 1563: None, 1564: None, 1565: None, 1566: None, 1567: None, 1568: None, 1569: None, 1570: None, 1571: 'Gryffindor', 1572: 'Gryffindor', 1573: None, 1574: None, 1575: None, 1576: None, 1577: None, 1578: None, 1579: None, 1580: None, 1581: None, 1582: None, 1583: None, 1584: None, 1585: None, 1586: 'Gryffindor', 1587: 'Gryffindor', 1588: None, 1589: None, 1590: None, 1591: None, 1592: 'Hufflepuff', 1593: None, 1594: None, 1595: None, 1596: None, 1597: 'Gryffindor', 1598: None, 1599: 'Gryffindor', 1600: None, 1601: 'Hufflepuff', 1602: 'Hufflepuff', 1603: None, 1604: None, 1605: 'Hufflepuff', 1606: None, 1607: None, 1608: None, 1609: None, 1610: None, 1611: None, 1612: None, 1613: None, 1614: 'Gryffindor', 1615: None, 1616: 'Ravenclaw', 1617: 'Ravenclaw', 1618: 'Gryffindor', 1619: 'Ravenclaw', 1620: None, 1621: None, 1622: None, 1623: None, 1624: None, 1625: None, 1626: None, 1627: None, 1628: 'Gryffindor', 1629: None, 1630: None, 1631: None, 1632: None, 1633: None, 1634: 'Ravenclaw', 1635: None, 1636: 'Hufflepuff', 1637: None, 1638: None, 1639: None, 1640: None, 1641: None, 1642: None, 1643: None, 1644: 'Gryffindor', 1645: None, 1646: 'Ravenclaw', 1647: None, 1648: None, 1649: None, 1650: None, 1651: None, 1652: 'Slytherin', 1653: 'Gryffindor', 1654: None, 1655: None, 1656: None, 1657: None, 1658: None, 1659: None, 1660: None, 1661: None, 1662: None, 1663: None, 1664: None, 1665: None, 1666: None, 1667: None, 1668: None, 1669: None, 1670: None, 1671: None, 1672: 'Gryffindor', 1673: 'Slytherin', 1674: None, 1675: None, 1676: None, 1677: None, 1678: None, 1679: None, 1680: None, 1681: None, 1682: None, 1683: None, 1684: None, 1685: None, 1686: None, 1687: None, 1688: None, 1689: None, 1690: None, 1691: None, 1692: None, 1693: None, 1694: 'Gryffindor', 1695: None, 1696: None, 1697: None, 1698: None, 1699: None, 1700: None, 1701: None, 1702: None, 1703: None, 1704: None, 1705: 'Gryffindor', 1706: None, 1707: None, 1708: 'Slytherin', 1709: 'Gryffindor', 1710: 'Hufflepuff', 1711: 'Ravenclaw', 1712: None, 1713: None, 1714: 'Gryffindor', 1715: None, 1716: 'Gryffindor', 1717: None, 1718: None, 1719: None, 1720: None, 1721: None, 1722: 'Gryffindor', 1723: 'Hufflepuff', 1724: None, 1725: 'Gryffindor', 1726: None, 1727: 'Gryffindor', 1728: None, 1729: 'Slytherin', 1730: None, 1731: 'Hufflepuff', 1732: None, 1733: 'Hufflepuff', 1734: None, 1735: None, 1736: None, 1737: None, 1738: None, 1739: None, 1740: 'Gryffindor', 1741: 'Slytherin', 1742: None, 1743: 'Gryffindor', 1744: None, 1745: None, 1746: None, 1747: None, 1748: 'Gryffindor', 1749: None, 1750: 'Gryffindor', 1751: None, 1752: None, 1753: 'Slytherin', 1754: None, 1755: 'Ravenclaw or Hufflepuff', 1756: 'Gryffindor', 1757: None, 1758: None, 1759: None, 1760: None, 1761: None, 1762: None, 1763: 'Hufflepuff', 1764: None, 1765: 'Gryffindor', 1766: None, 1767: None, 1768: 'Ravenclaw', 1769: None, 1770: None, 1771: None, 1772: None, 1773: 'Slytherin', 1774: None, 1775: None, 1776: None, 1777: None, 1778: None, 1779: None, 1780: None, 1781: None, 1782: None, 1783: 'Hufflepuff', 1784: 'Hufflepuff', 1785: None, 1786: None, 1787: None, 1788: None, 1789: None, 1790: None, 1791: None, 1792: None, 1793: 'Slytherin', 1794: None, 1795: None, 1796: None, 1797: None, 1798: None, 1799: None, 1800: None, 1801: None, 1802: None, 1803: None, 1804: None, 1805: None, 1806: None, 1807: None, 1808: None, 1809: None, 1810: None, 1811: None, 1812: None, 1813: None, 1814: None, 1815: None, 1816: 'Ravenclaw', 1817: None, 1818: 'Hufflepuff', 1819: None, 1820: None, 1821: None, 1822: None, 1823: None, 1824: None, 1825: None, 1826: None, 1827: None, 1828: None, 1829: 'Gryffindor', 1830: 'Ravenclaw', 1831: None, 1832: None, 1833: None, 1834: None, 1835: 'Hufflepuff', 1836: 'Gryffindor', 1837: None, 1838: None, 1839: None, 1840: None, 1841: None, 1842: None, 1843: None, 1844: None, 1845: None, 1846: None, 1847: None, 1848: None, 1849: 'Hufflepuff', 1850: 'Slytherin', 1851: 'Slytherin', 1852: None, 1853: None, 1854: None, 1855: None, 1856: 'Ravenclaw', 1857: None, 1858: 'Slytherin (possibly)', 1859: None, 1860: 'Gryffindor', 1861: 'Gryffindor', 1862: 'Gryffindor, Hufflepuff, or Slytherin', 1863: None, 1864: None, 1865: None, 1866: None, 1867: 'Hufflepuff', 1868: 'Hufflepuff', 1869: None, 1870: None, 1871: 'Gryffindor', 1872: None, 1873: None, 1874: 'Ravenclaw', 1875: None, 1876: None, 1877: None, 1878: None, 1879: None, 1880: None, 1881: None, 1882: None, 1883: 'Gryffindor', 1884: 'Slytherin', 1885: None, 1886: None, 1887: None, 1888: None, 1889: None, 1890: 'Ravenclaw', 1891: None, 1892: None, 1893: None, 1894: None, 1895: None, 1896: None, 1897: 'Ravenclaw', 1898: None, 1899: None, 1900: None, 1901: None, 1902: None, 1903: None, 1904: 'Gryffindor', 1905: None, 1906: None, 1907: None, 1908: None, 1909: None, 1910: None, 1911: None, 1912: None, 1913: None, 1914: 'Gryffindor, Hufflepuff, or Ravenclaw', 1915: None, 1916: None, 1917: None, 1918: None, 1919: 'Slytherin', 1920: None, 1921: None, 1922: 'Slytherin', 1923: None, 1924: 'Slytherin', 1925: None, 1926: None, 1927: None, 1928: None, 1929: 'Slytherin', 1930: None, 1931: 'Gryffindor', 1932: None, 1933: None, 1934: None, 1935: None, 1936: None, 1937: None, 1938: None, 1939: 'Hufflepuff', 1940: None, 1941: 'Ravenclaw', 1942: None, 1943: None, 1944: None, 1945: None, 1946: 'Slytherin (possibly)', 1947: 'Gryffindor', 1948: None, 1949: None, 1950: None, 1951: 'Hufflepuff', 1952: None, 1953: None, 1954: None, 1955: None, 1956: None, 1957: None, 1958: 'Ravenclaw (possibly)', 1959: None, 1960: None, 1961: None, 1962: None, 1963: None, 1964: 'Hufflepuff', 1965: 'Hufflepuff', 1966: None, 1967: 'Slytherin', 1968: None, 1969: None, 1970: None, 1971: None, 1972: None, 1973: None, 1974: None, 1975: None, 1976: None, 1977: None, 1978: None, 1979: None, 1980: None, 1981: None, 1982: None, 1983: None, 1984: None, 1985: 'Ravenclaw', 1986: None, 1987: None, 1988: 'Slytherin', 1989: 'Slytherin', 1990: None, 1991: 'Hufflepuff', 1992: 'Hufflepuff', 1993: None, 1994: None, 1995: None, 1996: 'Gryffindor', 1997: None, 1998: None, 1999: None, 2000: None, 2001: None, 2002: None, 2003: None, 2004: None, 2005: 'Slytherin', 2006: 'Ravenclaw', 2007: 'Hufflepuff', 2008: 'Hufflepuff', 2009: None, 2010: None, 2011: None, 2012: 'Ravenclaw', 2013: 'Ravenclaw', 2014: 'Slytherin', 2015: 'Ravenclaw', 2016: None, 2017: 'Ravenclaw', 2018: 'Ravenclaw', 2019: None, 2020: None, 2021: 'Ravenclaw', 2022: None, 2023: 'Ravenclaw', 2024: None, 2025: None, 2026: 'Hufflepuff', 2027: None, 2028: None, 2029: None, 2030: None, 2031: None, 2032: None, 2033: None, 2034: 'Ravenclaw', 2035: 'Slytherin', 2036: 'Slytherin', 2037: None, 2038: None, 2039: None, 2040: None, 2041: None, 2042: None, 2043: None, 2044: None, 2045: None, 2046: None, 2047: None, 2048: 'Hufflepuff', 2049: 'Hufflepuff', 2050: None, 2051: None, 2052: None, 2053: None, 2054: None, 2055: None, 2056: None, 2057: None, 2058: None, 2059: None, 2060: 'Gryffindor', 2061: None, 2062: None, 2063: None, 2064: None, 2065: None, 2066: None, 2067: None, 2068: None, 2069: None, 2070: None, 2071: None, 2072: None, 2073: None, 2074: None, 2075: 'Slytherin', 2076: None, 2077: None, 2078: None, 2079: None, 2080: None, 2081: None, 2082: None, 2083: None, 2084: None, 2085: 'Hufflepuff', 2086: None, 2087: None, 2088: None, 2089: None, 2090: 'Slytherin (possibly)', 2091: None, 2092: None, 2093: None, 2094: None, 2095: None, 2096: 'Slytherin (most likely)', 2097: None, 2098: None, 2099: None, 2100: 'Hufflepuff', 2101: None, 2102: None, 2103: 'Slytherin', 2104: None, 2105: None, 2106: 'Slytherin', 2107: None, 2108: None, 2109: None, 2110: None, 2111: 'Gryffindor', 2112: None, 2113: None, 2114: None, 2115: 'Hufflepuff', 2116: 'Slytherin', 2117: None, 2118: None, 2119: 'Gryffindor', 2120: None, 2121: None, 2122: None, 2123: 'Hufflepuff', 2124: None, 2125: None, 2126: None, 2127: None, 2128: None, 2129: 'Slytherin', 2130: None, 2131: None, 2132: None, 2133: 'Slytherin', 2134: None, 2135: 'Slytherin', 2136: 'Slytherin', 2137: None, 2138: None, 2139: None, 2140: None, 2141: None, 2142: 'Gryffindor', 2143: 'Gryffindor', 2144: None, 2145: 'Ravenclaw', 2146: 'Hufflepuff', 2147: 'Gryffindor', 2148: 'Hufflepuff', 2149: 'Slytherin', 2150: None, 2151: None, 2152: 'Gryffindor', 2153: None, 2154: None, 2155: None, 2156: 'Slytherin', 2157: 'Slytherin', 2158: None, 2159: None, 2160: None, 2161: 'Ravenclaw', 2162: 'Slytherin', 2163: None, 2164: None, 2165: None, 2166: None, 2167: None, 2168: None, 2169: None, 2170: 'Gryffindor', 2171: None, 2172: None, 2173: None, 2174: None, 2175: None, 2176: None, 2177: None, 2178: None, 2179: None, 2180: None, 2181: None, 2182: None, 2183: None, 2184: 'Ravenclaw', 2185: None, 2186: None, 2187: None, 2188: None, 2189: 'Gryffindor', 2190: None, 2191: None, 2192: None, 2193: None, 2194: None, 2195: None, 2196: 'Ravenclaw', 2197: 'Ravenclaw', 2198: None, 2199: None, 2200: None, 2201: None, 2202: None, 2203: None, 2204: None, 2205: None, 2206: None, 2207: None, 2208: None, 2209: 'Gryffindor', 2210: None, 2211: None, 2212: None, 2213: None, 2214: None, 2215: None, 2216: None, 2217: None, 2218: None, 2219: None, 2220: None, 2221: 'Ravenclaw, Slytherin or Hufflepuff', 2222: 'Ravenclaw', 2223: None, 2224: None, 2225: None, 2226: None, 2227: None, 2228: None, 2229: None, 2230: None, 2231: None, 2232: None, 2233: None, 2234: None, 2235: None, 2236: None, 2237: None, 2238: None, 2239: None, 2240: None, 2241: None, 2242: None, 2243: None, 2244: 'Ravenclaw (likely)', 2245: None, 2246: None, 2247: None, 2248: 'Hufflepuff (likely)', 2249: None, 2250: 'Gryffindor (possibly)', 2251: None, 2252: None, 2253: None, 2254: 'Slytherin (likely)', 2255: None, 2256: None, 2257: None, 2258: None, 2259: None, 2260: None, 2261: None, 2262: 'Slytherin (possibly)', 2263: None, 2264: None, 2265: None, 2266: None, 2267: None, 2268: None, 2269: None, 2270: 'Gryffindor (likely)', 2271: None, 2272: None, 2273: None, 2274: None, 2275: None, 2276: None, 2277: None, 2278: None, 2279: None, 2280: None, 2281: 'Gryffindor (likely)', 2282: None, 2283: None, 2284: None, 2285: None, 2286: None, 2287: None, 2288: None, 2289: None, 2290: None, 2291: None, 2292: None, 2293: None, 2294: None, 2295: None, 2296: None, 2297: None, 2298: None, 2299: 'Hufflepuff (likely)', 2300: None, 2301: None, 2302: 'Gryffindor (possibly)', 2303: None, 2304: None, 2305: None, 2306: None, 2307: None, 2308: None, 2309: None, 2310: None, 2311: None, 2312: 'Gryffindor (possibly)', 2313: None, 2314: None, 2315: None, 2316: None, 2317: None, 2318: None, 2319: None, 2320: None, 2321: None, 2322: None, 2323: None, 2324: None, 2325: None, 2326: None, 2327: None, 2328: None, 2329: None, 2330: None, 2331: None, 2332: None, 2333: None, 2334: None, 2335: None, 2336: None, 2337: None, 2338: None, 2339: None, 2340: None, 2341: None, 2342: None, 2343: None, 2344: None, 2345: None, 2346: 'Hufflepuff (possibly)', 2347: None, 2348: None, 2349: None, 2350: None, 2351: None, 2352: None, 2353: None, 2354: None, 2355: None, 2356: None, 2357: None, 2358: None, 2359: None, 2360: 'Slytherin (likely)', 2361: None, 2362: None, 2363: None, 2364: None, 2365: None, 2366: None, 2367: None, 2368: None, 2369: None, 2370: None, 2371: None, 2372: None, 2373: 'Hufflepuff', 2374: None, 2375: 'Gryffindor', 2376: None, 2377: 'Unknown', 2378: None, 2379: None, 2380: None, 2381: None, 2382: 'Slytherin', 2383: None, 2384: None, 2385: None, 2386: None, 2387: 'Ravenclaw', 2388: None, 2389: None, 2390: None, 2391: None, 2392: None, 2393: None, 2394: None, 2395: None, 2396: 'Ravenclaw', 2397: None, 2398: None, 2399: None, 2400: None, 2401: None, 2402: None, 2403: None, 2404: 'Gryffindor', 2405: 'Ravenclaw', 2406: 'Gryffindor', 2407: None, 2408: 'Slytherin', 2409: None, 2410: 'Gryffindor', 2411: 'Gryffindor', 2412: 'Gryffindor', 2413: None, 2414: 'Ravenclaw', 2415: 'Gryffindor', 2416: 'Hufflepuff', 2417: None, 2418: None, 2419: 'Slytherin', 2420: None, 2421: 'Gryffindor', 2422: 'Gryffindor', 2423: None, 2424: None, 2425: None, 2426: None, 2427: 'Slytherin', 2428: 'Slytherin', 2429: 'Gryffindor', 2430: None, 2431: None, 2432: 'Hufflepuff', 2433: None, 2434: None, 2435: 'Gryffindor', 2436: None, 2437: None, 2438: None, 2439: None, 2440: None, 2441: 'Gryffindor', 2442: None, 2443: 'Hufflepuff', 2444: None, 2445: None, 2446: None, 2447: None, 2448: None, 2449: None, 2450: None, 2451: 'Slytherin', 2452: None, 2453: None, 2454: 'Gryffindor', 2455: None, 2456: 'Ravenclaw', 2457: None, 2458: None, 2459: None, 2460: 'Slytherin', 2461: None, 2462: 'Gryffindor', 2463: None, 2464: 'Hufflepuff', 2465: None, 2466: None, 2467: None, 2468: 'Ravenclaw', 2469: 'Ravenclaw', 2470: None, 2471: None, 2472: 'Ravenclaw', 2473: None, 2474: None, 2475: 'Slytherin', 2476: None, 2477: None, 2478: None, 2479: None, 2480: None, 2481: None, 2482: None, 2483: None, 2484: None, 2485: None, 2486: 'Hufflepuff', 2487: None, 2488: None, 2489: None, 2490: None, 2491: None, 2492: None, 2493: None, 2494: None, 2495: None, 2496: None, 2497: None, 2498: None, 2499: None, 2500: None, 2501: None, 2502: None, 2503: None, 2504: None, 2505: 'Gryffindor (possibly)', 2506: None, 2507: None, 2508: None, 2509: 'Ravenclaw or Hufflepuff', 2510: None, 2511: 'Gryffindor', 2512: 'Ravenclaw', 2513: 'Slytherin', 2514: None, 2515: None, 2516: None, 2517: None, 2518: None, 2519: None, 2520: None, 2521: None, 2522: None, 2523: 'Ravenclaw', 2524: 'Slytherin', 2525: None, 2526: None, 2527: 'Gryffindor', 2528: None, 2529: 'Ravenclaw', 2530: None, 2531: 'Gryffindor (possibly)', 2532: None, 2533: None, 2534: 'Slytherin', 2535: 'Ravenclaw', 2536: None, 2537: None, 2538: None, 2539: None, 2540: None, 2541: None, 2542: None, 2543: None, 2544: None, 2545: None, 2546: None, 2547: 'Gryffindor', 2548: 'Hufflepuff', 2549: None, 2550: None, 2551: None, 2552: None, 2553: 'Ravenclaw', 2554: None, 2555: None, 2556: None, 2557: None, 2558: None, 2559: None, 2560: None, 2561: 'Ravenclaw', 2562: None, 2563: 'Ravenclaw (possibly)', 2564: None, 2565: 'Slytherin', 2566: None, 2567: None, 2568: None, 2569: None, 2570: None, 2571: None, 2572: None, 2573: None, 2574: 'Gryffindor', 2575: 'Gryffindor', 2576: None, 2577: None, 2578: None, 2579: 'Hufflepuff', 2580: None, 2581: 'Ravenclaw', 2582: None, 2583: 'Gryffindor', 2584: None, 2585: 'Gryffindor', 2586: None, 2587: None, 2588: None, 2589: None, 2590: None, 2591: None, 2592: 'Ravenclaw', 2593: 'Slytherin', 2594: None, 2595: None, 2596: None, 2597: 'Hufflepuff', 2598: None, 2599: None, 2600: 'Gryffindor (possibly)', 2601: None, 2602: 'Gryffindor', 2603: None, 2604: 'Slytherin', 2605: None, 2606: None, 2607: 'Ravenclaw', 2608: None, 2609: None, 2610: 'Gryffindor', 2611: None, 2612: 'Slytherin', 2613: None, 2614: None, 2615: None, 2616: None, 2617: 'Gryffindor', 2618: 'Gryffindor', 2619: 'Gryffindor', 2620: None, 2621: None, 2622: None, 2623: 'Gryffindor', 2624: None, 2625: None, 2626: 'Hufflepuff', 2627: 'Hufflepuff', 2628: None, 2629: 'Ravenclaw', 2630: None, 2631: None, 2632: None, 2633: None, 2634: 'Slytherin', 2635: 'Slytherin (possibly)', 2636: None, 2637: None, 2638: 'Slytherin', 2639: None, 2640: None, 2641: None, 2642: None, 2643: None, 2644: None, 2645: 'Slytherin', 2646: 'Gryffindor', 2647: None, 2648: None, 2649: None, 2650: None, 2651: None, 2652: None, 2653: None, 2654: None, 2655: 'Gryffindor', 2656: None, 2657: 'Slytherin (possibly)', 2658: 'Gryffindor', 2659: 'Hufflepuff', 2660: 'Slytherin', 2661: None, 2662: 'Hufflepuff', 2663: None, 2664: 'Hufflepuff', 2665: 'Thunderbird', 2666: None, 2667: None, 2668: None, 2669: 'Gryffindor (possibly)', 2670: 'Hogwarts School of Witchcraft and Wizardry', 2671: None, 2672: None, 2673: None, 2674: None, 2675: None, 2676: None, 2677: None, 2678: None, 2679: None, 2680: 'Gryffindor (possibly)', 2681: 'Gryffindor (possibly)', 2682: None, 2683: None, 2684: None, 2685: None, 2686: None, 2687: None, 2688: None, 2689: None, 2690: None, 2691: None, 2692: None, 2693: None, 2694: None, 2695: None, 2696: None, 2697: None, 2698: None, 2699: None, 2700: None, 2701: 'Hufflepuff', 2702: None, 2703: None, 2704: None, 2705: None, 2706: None, 2707: None, 2708: None, 2709: None, 2710: None, 2711: None, 2712: None, 2713: None, 2714: None, 2715: None, 2716: None, 2717: None, 2718: None, 2719: None, 2720: None, 2721: None, 2722: None, 2723: None, 2724: None, 2725: None, 2726: None, 2727: 'Pukwudgie', 2728: None, 2729: None, 2730: None, 2731: None, 2732: None, 2733: None, 2734: None, 2735: None, 2736: None, 2737: None, 2738: None, 2739: None, 2740: 'Ravenclaw', 2741: None, 2742: 'Hufflepuff', 2743: 'Slytherin', 2744: 'Gryffindor', 2745: 'Slytherin', 2746: None, 2747: None, 2748: None, 2749: None, 2750: None, 2751: None, 2752: None, 2753: None, 2754: None, 2755: None, 2756: 'Gryffindor', 2757: None, 2758: None, 2759: None, 2760: None, 2761: None, 2762: 'Ravenclaw', 2763: None, 2764: None, 2765: None, 2766: None, 2767: None, 2768: 'Ravenclaw', 2769: 'Ravenclaw', 2770: 'Ravenclaw', 2771: None, 2772: 'Ravenclaw', 2773: None, 2774: None, 2775: None, 2776: 'Gryffindor', 2777: 'Ravenclaw', 2778: None, 2779: None, 2780: None, 2781: None, 2782: None, 2783: None, 2784: None, 2785: None, 2786: None, 2787: None, 2788: None, 2789: 'Slytherin', 2790: 'Slytherin (possibly)', 2791: None, 2792: 'Slytherin', 2793: 'Gryffindor', 2794: 'Gryffindor', 2795: None, 2796: None, 2797: 'Hufflepuff', 2798: None, 2799: 'Gryffindor', 2800: None, 2801: None, 2802: 'Gryffindor', 2803: None, 2804: None, 2805: None, 2806: None, 2807: None, 2808: 'Gryffindor', 2809: 'Gryffindor', 2810: None, 2811: None, 2812: None, 2813: None, 2814: 'Gryffindor', 2815: None, 2816: 'Gryffindor', 2817: None, 2818: 'Ravenclaw', 2819: None, 2820: None, 2821: None, 2822: None, 2823: 'Ravenclaw', 2824: None, 2825: None, 2826: None, 2827: None, 2828: None, 2829: None, 2830: None, 2831: 'Hufflepuff', 2832: 'Slytherin', 2833: 'Gryffindor', 2834: 'Gryffindor', 2835: 'Gryffindor', 2836: None, 2837: None, 2838: 'Gryffindor', 2839: 'Gryffindor', 2840: None, 2841: 'Slytherin', 2842: None, 2843: None, 2844: 'Ravenclaw', 2845: None, 2846: None, 2847: 'Hufflepuff or Ravenclaw', 2848: None, 2849: 'Hufflepuff', 2850: 'Ravenclaw', 2851: None, 2852: None, 2853: None, 2854: None, 2855: None, 2856: None, 2857: 'Gryffindor', 2858: 'Gryffindor', 2859: 'Slytherin', 2860: None, 2861: None, 2862: None, 2863: 'Gryffindor', 2864: None, 2865: 'Gryffindor', 2866: None, 2867: None, 2868: 'Gryffindor', 2869: 'Hufflepuff', 2870: None, 2871: None, 2872: None, 2873: None, 2874: None, 2875: None, 2876: None, 2877: None, 2878: None, 2879: None, 2880: None, 2881: None, 2882: None, 2883: None, 2884: 'Ravenclaw', 2885: None, 2886: None, 2887: 'Slytherin', 2888: None, 2889: None, 2890: None, 2891: None, 2892: None, 2893: None, 2894: 'Gryffindor', 2895: None, 2896: None, 2897: None, 2898: None, 2899: None, 2900: None, 2901: None, 2902: None, 2903: None, 2904: None, 2905: 'Slytherin', 2906: 'Gryffindor, Hufflepuff, or Slytherin', 2907: None, 2908: 'Slytherin', 2909: None, 2910: None, 2911: 'Gryffindor', 2912: 'Gryffindor', 2913: None, 2914: 'Gryffindor', 2915: None, 2916: None, 2917: None, 2918: None, 2919: None, 2920: 'Ravenclaw', 2921: 'Slytherin', 2922: 'Ravenclaw', 2923: 'Gryffindor', 2924: None, 2925: None, 2926: None, 2927: None, 2928: 'Gryffindor', 2929: 'Slytherin', 2930: 'Gryffindor, Hufflepuff,  or Slytherin', 2931: 'Gryffindor', 2932: 'Gryffindor, Hufflepuff, or Slytherin', 2933: None, 2934: None, 2935: None, 2936: None, 2937: None, 2938: 'Gryffindor', 2939: None, 2940: None, 2941: None, 2942: None, 2943: None, 2944: None, 2945: None, 2946: None, 2947: 'Ravenclaw', 2948: None, 2949: None, 2950: None, 2951: None, 2952: 'Ravenclaw', 2953: None, 2954: 'Hufflepuff', 2955: 'Gryffindor', 2956: None, 2957: None, 2958: 'Slytherin', 2959: None, 2960: 'Slytherin', 2961: None, 2962: None, 2963: 'Slytherin', 2964: 'Ravenclaw', 2965: None, 2966: None, 2967: 'Gryffindor', 2968: None, 2969: None, 2970: 'Gryffindor', 2971: 'Hufflepuff', 2972: None, 2973: None, 2974: 'Slytherin', 2975: 'Slytherin', 2976: None, 2977: None, 2978: 'Ravenclaw', 2979: None, 2980: 'Slytherin', 2981: 'Gryffindor', 2982: 'Slytherin (possibly)', 2983: None, 2984: None, 2985: None, 2986: 'Gryffindor (possibly)', 2987: 'Hufflepuff (possibly)', 2988: 'Horned Serpent', 2989: None, 2990: 'Gryffindor', 2991: 'Slytherin', 2992: 'Ravenclaw', 2993: None, 2994: None, 2995: None, 2996: None, 2997: None, 2998: 'Slytherin', 2999: 'Ravenclaw', 3000: 'Gryffindor', 3001: None, 3002: 'Ravenclaw', 3003: None, 3004: None, 3005: None, 3006: None, 3007: None, 3008: 'Ravenclaw', 3009: None, 3010: 'Ravenclaw', 3011: None, 3012: None, 3013: 'Hufflepuff', 3014: None, 3015: None, 3016: 'Slytherin (possibly)', 3017: None, 3018: 'Hufflepuff', 3019: None, 3020: None, 3021: None, 3022: None, 3023: None, 3024: None, 3025: None, 3026: None, 3027: 'Slytherin', 3028: None, 3029: None, 3030: None, 3031: None, 3032: None, 3033: 'Hufflepuff', 3034: None, 3035: None, 3036: None, 3037: None, 3038: 'Gryffindor', 3039: None, 3040: None, 3041: None, 3042: None, 3043: None, 3044: None, 3045: None, 3046: None, 3047: 'Hufflepuff', 3048: 'Slytherin', 3049: None, 3050: None, 3051: None, 3052: None, 3053: None, 3054: None, 3055: 'Slytherin', 3056: 'Slytherin', 3057: 'Slytherin', 3058: 'Slytherin', 3059: 'Slytherin', 3060: 'Slytherin', 3061: None, 3062: None, 3063: None, 3064: None, 3065: None, 3066: None, 3067: None, 3068: 'Gryffindor', 3069: None, 3070: None, 3071: 'Gryffindor, Hufflepuff, or Slytherin', 3072: None, 3073: 'Slytherin', 3074: None, 3075: None, 3076: None, 3077: 'Slytherin', 3078: None, 3079: None, 3080: None, 3081: None, 3082: None, 3083: None, 3084: None, 3085: None, 3086: None, 3087: None, 3088: None, 3089: None, 3090: None, 3091: 'Hufflepuff', 3092: None, 3093: None, 3094: None, 3095: None, 3096: 'Gryffindor', 3097: 'Hufflepuff or Ravenclaw', 3098: 'Gryffindor', 3099: None, 3100: None, 3101: None, 3102: None, 3103: 'Ravenclaw', 3104: None, 3105: 'Slytherin', 3106: 'Gryffindor', 3107: None, 3108: 'Gryffindor', 3109: 'Ravenclaw', 3110: None, 3111: None, 3112: None, 3113: None, 3114: None, 3115: None, 3116: 'Slytherin', 3117: None, 3118: None, 3119: 'Hufflepuff', 3120: None, 3121: None, 3122: None, 3123: 'Ravenclaw', 3124: 'Gryffindor', 3125: 'Hufflepuff', 3126: 'Hufflepuff', 3127: None, 3128: None, 3129: 'Hufflepuff', 3130: 'Ravenclaw', 3131: None, 3132: None, 3133: 'Ravenclaw', 3134: None, 3135: 'Ravenclaw', 3136: None, 3137: None, 3138: 'Slytherin', 3139: None, 3140: None, 3141: None, 3142: None, 3143: 'Slytherin', 3144: None, 3145: None, 3146: 'Ravenclaw', 3147: 'Ravenclaw', 3148: None, 3149: None, 3150: None, 3151: None, 3152: 'Hufflepuff', 3153: None, 3154: 'Gryffindor', 3155: None, 3156: None, 3157: None, 3158: 'Gryffindor', 3159: None, 3160: None, 3161: None, 3162: None, 3163: None, 3164: None, 3165: None, 3166: 'Slytherin', 3167: None, 3168: 'Gryffindor', 3169: 'Ravenclaw', 3170: None, 3171: 'Gryffindor', 3172: None, 3173: None, 3174: None, 3175: None, 3176: None, 3177: 'Slytherin', 3178: None, 3179: None, 3180: 'Hufflepuff', 3181: 'Gryffindor', 3182: 'Gryffindor', 3183: None, 3184: None, 3185: 'Ravenclaw', 3186: 'Slytherin', 3187: None, 3188: None, 3189: None, 3190: None, 3191: 'Hufflepuff', 3192: None, 3193: None, 3194: None, 3195: 'Slytherin', 3196: 'Slytherin', 3197: None, 3198: None, 3199: 'Slytherin', 3200: 'Gryffindor', 3201: None, 3202: None, 3203: None, 3204: 'Hufflepuff', 3205: None, 3206: 'Gryffindor', 3207: None, 3208: None, 3209: None, 3210: None, 3211: None, 3212: None, 3213: None, 3214: None, 3215: None, 3216: None, 3217: None, 3218: None, 3219: None, 3220: None, 3221: None, 3222: None, 3223: None, 3224: None, 3225: 'Gryffindor', 3226: 'Slytherin', 3227: None, 3228: None, 3229: None, 3230: 'Slytherin', 3231: 'Gryffindor', 3232: None, 3233: None, 3234: 'Gryffindor', 3235: 'Ravenclaw', 3236: 'Gryffindor', 3237: None, 3238: None, 3239: None, 3240: None, 3241: None, 3242: None, 3243: 'Slytherin', 3244: None, 3245: 'Ravenclaw', 3246: None, 3247: 'Hufflepuff', 3248: None, 3249: None, 3250: None, 3251: None, 3252: None, 3253: None, 3254: 'Slytherin', 3255: 'Slytherin', 3256: 'Gryffindor', 3257: None, 3258: None, 3259: None, 3260: None, 3261: 'Gryffindor', 3262: None, 3263: 'Ravenclaw', 3264: 'Gryffindor', 3265: None, 3266: 'Hufflepuff', 3267: None, 3268: None, 3269: 'Slytherin', 3270: None, 3271: None, 3272: None, 3273: None, 3274: None, 3275: None, 3276: None, 3277: 'Hufflepuff', 3278: 'Slytherin', 3279: None, 3280: 'Ravenclaw', 3281: 'Ravenclaw', 3282: 'Ravenclaw', 3283: None, 3284: None, 3285: None, 3286: 'Slytherin', 3287: None, 3288: None, 3289: None, 3290: None, 3291: None, 3292: None, 3293: None, 3294: None, 3295: None, 3296: None, 3297: None, 3298: None, 3299: None, 3300: 'Gryffindor', 3301: None, 3302: None, 3303: 'Hufflepuff', 3304: None, 3305: None, 3306: None, 3307: None, 3308: None, 3309: None, 3310: None, 3311: None, 3312: None, 3313: None, 3314: None, 3315: None, 3316: None, 3317: None, 3318: 'Gryffindor', 3319: None, 3320: None, 3321: None, 3322: None, 3323: None, 3324: None, 3325: 'Gryffindor', 3326: 'Ravenclaw', 3327: 'Slytherin', 3328: None, 3329: None, 3330: 'Slytherin', 3331: 'Slytherin', 3332: None, 3333: 'Gryffindor', 3334: None, 3335: None, 3336: None, 3337: None, 3338: None, 3339: None, 3340: None, 3341: None, 3342: None, 3343: None, 3344: None, 3345: None, 3346: None, 3347: None, 3348: None, 3349: None, 3350: None, 3351: 'Slytherin', 3352: 'Gryffindor', 3353: None, 3354: None, 3355: None, 3356: None, 3357: 'Ravenclaw', 3358: None, 3359: None, 3360: None, 3361: None, 3362: 'Slytherin', 3363: None, 3364: None, 3365: None, 3366: 'Slytherin', 3367: None, 3368: None, 3369: None, 3370: None, 3371: None, 3372: None, 3373: 'Slytherin', 3374: None, 3375: None, 3376: None, 3377: None, 3378: None, 3379: None, 3380: None, 3381: None, 3382: None, 3383: None, 3384: None, 3385: None, 3386: None, 3387: None, 3388: None, 3389: None, 3390: None, 3391: None, 3392: None, 3393: None, 3394: None, 3395: None, 3396: None, 3397: None, 3398: None, 3399: None, 3400: None, 3401: None, 3402: 'Slytherin', 3403: None, 3404: None, 3405: None, 3406: None, 3407: None, 3408: None, 3409: None, 3410: None, 3411: None, 3412: None, 3413: None, 3414: None, 3415: None, 3416: None, 3417: None, 3418: None, 3419: None, 3420: 'Hufflepuff', 3421: 'Hufflepuff', 3422: 'Gryffindor', 3423: None, 3424: None, 3425: None, 3426: None, 3427: None, 3428: None, 3429: 'Wampus', 3430: None, 3431: None, 3432: None, 3433: None, 3434: None, 3435: None, 3436: None, 3437: None, 3438: None, 3439: None, 3440: None, 3441: 'Gryffindor', 3442: None, 3443: None, 3444: None, 3445: None, 3446: None, 3447: None, 3448: 'Slytherin', 3449: None, 3450: None, 3451: None, 3452: None, 3453: None, 3454: 'Gryffindor', 3455: None, 3456: None, 3457: None, 3458: None, 3459: None, 3460: None, 3461: None, 3462: None, 3463: None, 3464: None, 3465: None, 3466: None, 3467: None, 3468: None, 3469: None, 3470: None, 3471: None, 3472: 'Gryffindor', 3473: 'Slytherin', 3474: None, 3475: None, 3476: None, 3477: None, 3478: None, 3479: None, 3480: None, 3481: None, 3482: None, 3483: None, 3484: None, 3485: None, 3486: None, 3487: None, 3488: None, 3489: None, 3490: None, 3491: None, 3492: None, 3493: None, 3494: None, 3495: None, 3496: None, 3497: None, 3498: 'Slytherin', 3499: None, 3500: 'Ravenclaw', 3501: 'Gryffindor', 3502: None, 3503: 'Slytherin', 3504: None, 3505: None, 3506: None, 3507: None, 3508: None, 3509: 'Ravenclaw', 3510: None, 3511: None, 3512: None, 3513: None, 3514: None, 3515: None, 3516: None, 3517: None, 3518: 'Slytherin', 3519: None, 3520: None, 3521: 'Ravenclaw', 3522: 'Gryffindor', 3523: None, 3524: None, 3525: 'Ravenclaw', 3526: None, 3527: None, 3528: None, 3529: 'Hufflepuff', 3530: 'Gryffindor', 3531: None, 3532: 'Hufflepuff', 3533: None, 3534: None, 3535: None, 3536: None, 3537: 'Slytherin', 3538: None, 3539: None, 3540: 'Slytherin', 3541: None, 3542: None, 3543: None}\n"
     ]
    }
   ],
   "source": [
    "houses = list(filtered_data['House'])\n",
    "dict_houses = {}\n",
    "for i in range(len(houses)):\n",
    "    dict_houses[i] = houses[i]\n",
    "    \n",
    "print(dict_houses)\n",
    "#G.node_dict_factory(G, dict_houses, 'group')"
   ]
  },
  {
   "cell_type": "code",
   "execution_count": 194,
   "metadata": {},
   "outputs": [
    {
     "name": "stdout",
     "output_type": "stream",
     "text": [
      "[('Aberforth_Dumbledore', 256), ('Abernathy', 123), ('Abigail_Nicola', 264), ('Abigail_R._Cankus', 1), ('Able_Fleming', 84), ('Able_Spudmore', 4), ('Abraham', 3), ('Abraham_Grimblehawk', 4), ('Abraham_Peasegood', 2), ('Abraham_Potter', 96), ('Abraham_Ronen', 248), ('Abraxan_at_the_Magical_Creatures_Reserve', 44), ('Abraxas_Malfoy', 27), ('Achilles_Tolliver', 86), ('Acolyte_thug', 1), ('Actor_who_played_Crapaud', 6), ('Actor_who_played_Grenouille', 6), ('Adalbert_Waffling', 250), ('Adam_Pickering', 1), ('Addison_Fawley', 15), ('Adrian', 50), ('Adrian_Pucey', 267), ('Adrian_Tutley', 31), ('African_prince', 3), ('Agatha_Timms', 2), ('Aged_witch', 2), ('Agilbert_Fontaine', 13), ('Agnes', 2), ('Agnes_Monkleigh', 2), ('Agnes_Nutt', 55), (\"Agnes's_son\", 1), ('Aidan_Lynch', 317), ('Aisha', 3), (\"Aisha's_mother\", 2), ('Alain_Lacroix', 316), ('Alannis', 75), ('Alannis_Shepley', 3), ('Alanza_Alves', 23), (\"Alanza_Alves's_grandmother\", 1), ('Alasdair_Maddock', 321), ('Alastair', 5), ('Alastor_Gumboil', 96), ('Alastor_Moody', 371), ('Albanian_peasant', 7), ('Alberic_Grunnion', 246), ('Albert', 7), ('Albert_(No-Maj)', 2), ('Alberta_Toothill', 248), ('Albert_Bellchant', 4), ('Albert_Boot', 75), ('Albert_Einstein', 2), ('Albert_Stump', 3), ('Albert_Jorkins', 12), ('Albert_Perschky', 84), ('Albert_Runcorn', 149), ('Albert_Sallow', 21), ('Albert_Tillyman', 6), ('Albino_peacock', 3), (\"Albus_Dumbledore's_great-great-grandfather\", 6), (\"Albus_Dumbledore's_great-great-grandfather's_phoenix\", 2), ('Albus_Dumbledore', 787), (\"Albus_Potter's_ferret\", 4), (\"Albus_Potter's_owl\", 1), ('Albus_Potter', 171), ('Alderton', 11), (\"Arkie_Alderton's_alleged_son\", 7), ('Alecto_Carrow', 339), ('Alec_Webb', 6), ('Alejandra_Alonso', 318), ('Alexander_Pope', 2), ('Alexander_William', 264), ('Alexandra_Rokonski', 1), ('Alexandra_Walker', 2), ('Alexei_Levski', 318), ('Alexia_Walkin_Black', 3), ('Alexis_Marie', 264), ('Alex_Sykes_(I)', 4), ('Alex_Sykes_(II)', 4), ('Alfred_Cattermole', 11), ('Algie_Longbottom', 19), ('Alguff_the_Awful', 245), ('Ali_Bashir', 2), ('Alice', 3), ('Alice_Longbottom', 298), ('Alice_Tolipan_(witch)', 81), ('Alice_Tolipan_(Muggle)', 4), ('Alicia_Spinnet', 330), ('Aliko_Okoye', 318), ('Alison_Denbright', 2), ('Alison_Denshaw', 23), ('Alistair_Ballcocke', 3), ('Alistair_Darling', 4), ('Alistaire_Ballcocke', 2), ('Alistair_Fidgen', 10), ('Almeric_Sawbridge', 245), ('Alphard_Black', 40), ('Altheda', 46), ('Alys', 1), ('Amanda', 5), ('Amanda_Pettet', 2), ('Amarillo_Lestoat', 245), ('Amata', 52), (\"Amata's_lover\", 17), ('Amber_Noel', 264), ('Ambrose_Turner', 38), ('Ambrosius_Flume', 59), (\"Amelia_Bones's_assistant\", 47), ('Amelia_Fittleworth', 4), ('Amelia_Bones', 134), ('Amorette_Deneuve', 7), ('Amos_Diggory', 60), ('Amrose_Swott', 217), ('Amy_Benson', 8), ('Amycus_Carrow', 338), ('Ana_de_Lebron', 316), ('Ancient_African_sorcerer', 3), ('Anderson', 4), ('Andre_Egwu', 293), (\"Andre_Egwu's_grandmother\", 1), (\"Andre_Egwu's_sister\", 1), ('Andrew', 70), ('Andrew_Kirke', 266), ('Andrew_Owly', 1), ('Andrew_Snowy_Owl_(Slytherin)', 266), ('Andrew_Snowy_Owl_(Gryffindor)', 2), ('Andromeda_Tonks', 217), ('Andros_the_Invincible', 247), ('Andy_Smudgley', 52), ('Angelica_Cole', 372), ('Angelina_Appleby', 264), ('Angelina_Johnson', 371), ('Angelus_Moriattis', 1), ('Angus', 2), ('Angus_Buchanan', 10), (\"Angus_Buchanan's_father\", 3), (\"Angus_Buchanan's_mother\", 3), (\"Angus_Buchanan's_siblings\", 3), ('Angus_Campbell', 3), ('Angus_Fleet', 3), ('Angus_Matlock', 76), ('Angus_McMangus', 1), ('Anita_Macduff', 26), ('Anji_Oliver', 1), ('Annabel_Entwhistle', 2), ('Annalena_Gleam', 57), ('Anna_Mirfield', 1), ('Anne_Boleyn', 17), (\"Announcer_at_Henry_Shaw_Junior's_fundraising_dinner\", 2), ('Anthony_Goldstein', 175), ('Anthony_Otterburn', 70), ('Anthony_Rickett', 264), ('Antioch_Peverell', 90), (\"Antioch_Peverell's_enemy\", 2), (\"Antioch_Peverell's_killer\", 38), ('Antonia_Creaseworthy', 217), ('Antonin_Dolohov', 149), ('Antonio', 6), ('Anton_Vogel', 71), ('Apolline_Delacour', 20), (\"Apolline_Delacour's_mother\", 8), ('Apollyon_Pringle', 222), ('Apothecary_shopkeeper', 2), ('Aquila_Greengrass', 6), ('Arabella_Figg', 163), (\"Arabella_Figg's_parents\", 3), ('Aragog', 31), ('Araminta_Meliflua_Black', 12), ('Archer_Evermonde', 78), ('Archibald_Alderton', 251), ('Archibald_Bennett', 93), ('Archibald_Bienbon', 2), ('Archie_Aymslowe', 2), ('Architect_of_Hogwarts', 50), ('Arcturus_Black_I', 10), ('Arcturus_Black_II', 70), ('Arcturus_Black_III', 59), ('Arcus', 51), ('Argo_Pyrites', 2), ('Argus_Filch', 308), ('Ariana_Dumbledore', 33), (\"Ariana_Dumbledore's_phoenix\", 4), ('Ariel_Singleton', 317), ('Arif_Sikander', 218), ('Aristotle_Twelvetrees', 87), ('Arkie_Alderton', 7), ('Arkie_Philpott', 2), ('Armand_Malfoy', 18), ('Armando_Dippet', 498), ('Arman_Shettigar', 29), ('Armenian_warlock', 4), ('Arnold', 9), ('Arnold_Guzman', 39), ('Arnold_Peasegood', 109), ('Arnold_Vogler', 316), ('Arsenia_Gonzales', 4), ('Arsenius_Jigger', 279), ('Artemis_(owl)', 18), ('Artemis_(goddess)', 4), ('Artemisia_Lufkin', 318), ('Arthur_(Hufflepuff_student)', 4), ('Arthur', 20), ('Arthur_G.', 1), ('Arthur_Weasley', 422), (\"Arthur_Weasley's_brothers\", 25), (\"Arthur_Weasley's_contact_at_the_Floo_Regulation_Panel\", 6), (\"Arthur_Weasley's_ten_unidentified_subordinates\", 48), ('Arturo_Cephalopos', 3), ('Asgard_Pettersson', 317), ('Asgeir_Knutsen', 317), ('Asha', 53), ('Ashish_Patel', 4), ('Ashley_Sanders', 264), ('Ashok_Khanna', 3), ('Ashwinder_at_the_Magical_Creatures_Reserve', 52), ('Astor_Bellchant', 5), ('Astoria_Malfoy', 27), (\"Astoria_Malfoy's_ancestor\", 5), ('Astrix_Alixan', 264), ('Audrey_Weasley', 52), ('Augurey_at_the_Magical_Creatures_Reserve', 48), ('Augusta_Longbottom', 187), ('Augustus_Pye', 75), ('Augustus_Rookwood', 150), ('Augustus_Worme', 2), ('Aurélie_Dumont', 6), ('Aurora_Sinistra', 232), ('Avery_II', 118), ('Avery_Hawksworth', 316), ('Avery_I', 9), ('Aviemore_station_master', 6), ('Babajide_Akingbade', 34), ('Babayaga', 245), ('Babbitty_Rabbitty', 37), ('Badeea_Ali', 35), (\"Badeea_Ali's_mother\", 1), ('Badger_Picklish_III', 320), ('Baglan_Wellnelly', 141), ('Bagshot', 4), ('Balbine_Lestrange_(I)', 30), ('Bald_Healer', 1), ('Balfour_Blane', 260), (\"Band_at_William_Weasley_and_Fleur_Delacour's_wedding\", 3), ('Bane', 14), (\"Banga_O'Deluga\", 3), ('Barberus_Bragge', 247), ('Barker_(Muggle)', 3), ('Barnabas_Cuffe', 50), ('Barnabas_Deverill', 53), ('Barnabus_Blenkinsop', 75), ('Barnaby_Lee', 97), (\"Barnaby_Lee's_father\", 54), (\"Barnaby_Lee's_father's_Kneazle\", 2), (\"Barnaby_Lee's_grandmother\", 2), (\"Barnaby_Lee's_mother\", 53), ('Barnaby_Ollerton', 5), ('Barrett_Fay', 1), ('Barry_Ryan', 318), ('Barry_Winkle', 2), ('Bartemius_Crouch_Junior', 278), ('Bartemius_Crouch_Senior', 170), (\"Bartemius_Crouch_Senior's_grandfather\", 6), ('Bartholomew', 248), ('Bartholomew_Barebone', 7), ('Baruffio', 3), (\"Baruffio's_wife\", 2), ('Basil', 8), ('Basil_Aurelius_III', 6), ('Basil_Flack', 76), ('Basil_Fronsac', 261), ('Basil_Horton', 38), ('Bastien_Janvier', 316), ('Bastien_Queensbury', 29), ('Bathilda_Bagshot', 45), ('Bathsheda_Babbling', 214), ('B._C.', 4), ('B._Dunstan', 1), ('Bean', 266), ('Beatrice_Haywood', 41), ('Beatrix_Bloxam', 251), (\"Beatrix_Bloxam's_aunt\", 2), (\"Beatrix_Bloxam's_cousins\", 2), (\"Beatrix_Bloxam's_father\", 2), ('Beaumont_Marjoribanks', 288), ('Beedle_the_Bard', 53), ('Bell', 2), ('Bellatrix_Lestrange', 221), ('Belvina_Black', 57), (\"Belvina_Burke's_daughter\", 23), (\"Belvina_Burke's_sons\", 23), ('Bem', 12), ('Ben_Copper', 60), (\"Ben_Copper's_father\", 1), (\"Ben_Copper's_mother\", 1), ('Benedita_Dourado', 6), ('Benjamin_Slater', 1), ('Benjy_Fenwick', 149), ('Benjy_Williams', 317), ('Bernadette', 88), ('Bernard_Lockwood', 2), ('Bernard_Tremblay', 17), ('Bernie', 29), ('Bertha_Jorkins', 44), (\"Bertha_Jorkins's_aunt\", 3), (\"Bertha_Jorkins's_second_cousin\", 1), ('Berthilde_Roche', 84), ('Bertie_Bott', 247), ('Bertie_Higgs', 7), ('Bertram_Aubrey', 4), ('Beryl', 84), ('Bespectacled_Slytherin_girl', 2), ('Bethany_Harrison', 8), ('Bethany_Swordbane', 1), ('Betty_Bickering', 131), ('Betty_Braithwaite', 45), ('Betty_Burgess', 2), ('Betty_Huxley', 53), ('Bhavana_Patel', 6), ('Bilius', 48), ('Bilius_Finbok', 183), ('Billingsley', 7), (\"Billingsley's_niece\", 3), ('Bill_Ollerton', 5), (\"William_Weasley's_South_American_pen-friend\", 2), ('Billy_Stubbs', 5), (\"Billy_Stubbs's_rabbit\", 4), ('Billywig_at_the_Magical_Creatures_Reserve', 53), ('Billywig_swarm_at_the_Magical_Creatures_Reserve', 11), ('Bilm', 213), ('Bilton_Bilmes', 136), ('Bimp', 2), ('Binky', 8), ('Ghoul_in_Grimmauld_Place', 4), ('Black_Knight', 2), ('Blagdon_Blay', 39), ('Blaise_Zabini', 279), (\"Blaise_Zabini's_mother's_seven_husbands\", 1), ('Blenheim_Stalk', 247), ('Bletchley', 36), ('Blodwyn_Bludd', 245), ('Bloke_who_fixed_the_toilet_at_Leaky_Cauldron', 23), ('Blordak', 21), ('Blossom_Degrasse', 101), ('Bly', 37), ('Blythe_Parkin', 318), ('Boa_constrictor_at_the_Zoo', 2), ('Bob', 22), ('Bob_Hitchens', 20), ('Bob_Ogden', 114), ('Bob_Ollerton', 5), ('Bodrod_the_Bearded', 5), ('Bogle-banshee', 1), ('Bogomil_Levski', 148), ('Bogrod', 51), ('Boil-ridden_house-elf', 215), ('Bonawentura_Wójcik', 1), ('Boniface_Toubeau', 2), ('Borf', 11), ('Borgin', 124), ('Boris_the_Bewildered', 4), ('Boris_Vulchanov', 150), ('Bowman_Wright', 248), ('Bowtruckle_at_the_Magical_Creatures_Reserve', 46), ('Boy_in_Study_Hall', 2), ('Boyle', 2), ('Boy_who_failed_the_Avifors_Spell', 1), ('Boy_who_kept_a_bezoar_in_his_pocket', 11), (\"Boy_who_kept_a_bezoar_in_his_pocket's_brother\", 1), ('Boy_who_owned_a_magic_hamster', 11), ('Father_of_boy_who_owned_a_magic_hamster', 5), ('Mother_of_boy_who_owned_a_magic_hamster', 5), ('Boy_who_played_Sir_Luckless', 11), ('Bozo', 50), ('Bradley', 264), ('Bram_Stoker', 5), ('Brandon_Angel', 264), ('Bran_the_Bloodthirsty', 265), ('Brennan_Doyle', 266), ('Brevis_Birch', 4), ('Brian', 1), ('Brian_Gagwilde_III', 24), ('Brian_Gagwilde', 257), ('Brice_Badeaux', 1), ('Bridget', 71), ('Bridget_Wenlock', 307), (\"Bridget_Wenlock's_cousin\", 2), ('Brindlemore', 214), ('Broderick_Bode', 100), ('Brodwin', 4), ('Bronwyn_Trigg', 2), ('Broom_Shop_shopkeeper', 42), ('Benedict', 6), ('Boniface', 3), ('Brunhilde_Stokke', 1), ('Bruno_Bruunhart', 316), ('Bruno_Schmidt', 2), ('Brutus_Malfoy', 17), ('Brutus_Scrimgeour', 243), ('Buckbeak', 163), ('Buckley_Cooper', 8), ('Budleigh_Babberton_milkman', 1), ('Bufo', 34), ('Bungy', 2), ('Bunty_Broadacre', 38), ('Burdock_Muldoon', 245), ('Burgock', 41), ('Buried_Vault_Hungarian_Horntail', 8), ('Byron_Miller', 2), ('Cadmus_Peverell', 97), (\"Cadmus_Peverell's_fiancée\", 19), ('Cadogan', 93), (\"Cadogan's_children\", 1), (\"Cadogan's_ex-wives\", 1), (\"Cadogan's_father\", 2), (\"Cadogan's_mother\", 2), (\"Cadogan's_pony\", 7), (\"Cadogan's_portraitist\", 1), ('Cadwallader', 269), ('Caelan', 52), ('Caelan_MacBoon', 3), ('Calchas', 22), ('Calid', 3), ('Callidora_Black', 70), ('Camelia', 224), ('Cantankerus_Nott', 7), ('Captain_of_the_Brigade_of_Witch-Hunters', 46), ('Caractacus', 1), ('Caractacus_Burke', 36), ('Caractacus_Phelps', 3), ('Caradoc_Dearborn', 144), ('Carl_Hopkins', 8), ('Carlos_Clodoaldo', 318), ('Carlos_Lopez', 84), ('Carlotta_Pinkstone', 245), ('Carl_Sagan', 1), ('Carmen_Garcia', 317), ('Carmilla_Sanguina', 245), ('Carrow_(1920s)', 21), ('Cas_Carneirus', 87), ('Caspar_Crouch', 29), (\"Caspar_Crouch's_daughters\", 14), (\"Caspar_Crouch's_son\", 17), ('Cassandra_Mason', 53), (\"Cassandra_Mason's_tenants\", 25), ('Cassandra_Trelawney', 25), ('Cassandra_Vablatsky', 265), ('Cassandra_Vole', 14), (\"Cassandra_Vole's_father\", 15), (\"Cassandra_Vole's_uncle\", 1), ('Cassiopeia_Black', 61), ('Cassius_Bell', 38), ('Cassius_Warrington', 277), ('Catherine_Tyler', 5), ('Catriona_McCormack', 320), ('Catullus_Spangle', 1), ('Cecil_Edwards', 2), ('Cecilia', 13), ('Cecilia_Gallerani', 27), ('Cecil_Lee', 43), ('Cecily', 7), ('Cedrella_Black', 92), ('Cedric', 4), ('Cedric_Diggory', 429), (\"Cedric_Diggory's_friends\", 3), ('Céléase_Lestrange', 1), ('Celestina_Warbeck', 265), (\"Celestina_Warbeck's_first_husband\", 1), (\"Celestina_Warbeck's_second_husband\", 2), (\"Celestina_Warbeck's_son\", 2), ('Celia_Barnett', 2), ('Celine_Castillon', 4), ('Cerberus_Langarm', 99), ('Ceremony_official', 4), ('Cereus_Greengrass', 11), ('Chadwick_Boot', 28), ('Chambers', 264), (\"Cho_Chang's_grandfather\", 3), ('Charis_Black', 68), ('Charity_Burbage', 223), ('Charity_Wilkinson', 84), ('Charlatan', 48), ('Charles_Dana_Gibson', 2), ('Charles_Dickens', 4), ('Charlesetta_Nagy', 1), ('Charles_Weasley', 534), ('Charlie_Baverstock', 3), (\"Charles_Weasley's_colleagues\", 3), ('Charlus_Potter', 53), (\"Charlus_Potter's_son\", 35), ('Chas', 8), ('Chastity_Barebone', 12), ('Chauncey_Oldridge', 247), ('Chauncy', 3), ('Chavelle_Arbelo_Cartaya', 317), ('Chester_Davies', 186), ('Chester_Hidland', 3), ('Chiara_Lobosca', 59), (\"Chiara_Lobosca's_father\", 6), (\"Chiara_Lobosca's_mother\", 2), ('Chief_Snatcher', 2), ('Chief_Warlock_of_the_Wizengamot_in_1544', 2), ('Chimaera_at_the_Magical_Creatures_Reserve', 47), ('Chinese_Fireball_at_the_Magical_Creatures_Reserve', 46), ('Cho_Chang', 347), (\"Cho_Chang's_spouse\", 1), ('Chris_Huhne', 4), ('Christian_Alexander', 264), ('Christopher_Flack', 2), ('Chroniculus_Punnet', 4), ('Chudley_Cannons_groundskeeper', 3), ('Chupacabra_at_the_Magical_Creatures_Reserve', 55), ('Ciceron_Harkiss', 3), ('Circe', 289), ('Circus_Arcanus_house-elf', 2), ('Clairvius_Hyppolite', 316), ('Clara_Ivanova', 316), ('Clarisse_Lestrange', 29), ('Clarke', 2), ('Cleaner_at_Leaky_Cauldron', 20), ('Clever_goblin', 45), ('Cliodna', 274), (\"Cliodna's_birds\", 1), ('Clodagh_Dromgoole', 214), ('Clutterbuck_Crispe', 42), (\"Cobb_&_Webb's_shopkeeper\", 9), ('Cogg', 2), ('Colby_Frey', 9), ('Colin_Creevey', 103), ('Common_Welsh_Green_at_the_Magical_Creatures_Reserve', 46), ('Concepta_Battista', 265), ('Concordia_Rowle', 217), ('Connolly', 316), ('Constance_Pickering', 163), (\"Constance_Pickering's_mother\", 2), (\"Constance_Pickering's_Squib_brother\", 3), (\"Constance_Pickering's_Muggle_grandfather\", 1), (\"Constance_Pickering's_grandmother\", 1), (\"Constance_Pickering's_sister\", 2), (\"Constance_Pickering's_older_brother\", 2), ('Cook_at_the_Leaky_Cauldron', 23), ('Cook_of_The_Hanged_Man', 2), ('Cooper_children', 5), ('Corban_Yaxley', 227), (\"Corban_Yaxley's_wife\", 3), ('Cordelia_Gifford', 29), ('Cordelia_Misericordia', 245), ('Cordelia_Vexmoor', 2), ('Corey_Hayden', 113), (\"Corey_Hayden's_grandmother\", 2), (\"Corey_Hayden's_parents\", 26), ('Cormack_McLeod', 3), ('Cormac_McLaggen', 339), (\"Cormac_O'Brien\", 42), ('Cornelius_Agrippa', 248), ('Cornelius_Fudge', 208), ('Corrine_Cribb', 13), ('Corvinus_Gaunt', 16), ('Corvus_Lestrange_(II)', 39), ('Corvus_Lestrange_(III)', 42), ('Corvus_Lestrange_(I)', 31), ('Corvus_Lestrange_(V)', 41), ('Corvus_Lestrange_(IV)', 56), ('Cottismore_Croyne', 33), ('Council_of_Magical_Law_guards', 2), ('Count', 18), ('Count_Dracula', 7), (\"Boy_who_failed_the_Avifors_Spell's_cousin\", 6), ('Craig_Bowker_Junior', 12), ('Craig_Dunn', 31), ('Cranville_Quincey', 42), ('Crapaud', 5), ('Credence_Barebone', 93), (\"Credence_Barebone's_aunt\", 4), (\"Credence_Barebone's_mother\", 8), (\"Credence_Barebone's_phoenix\", 8), ('Cresswell_brothers', 8), ('Crispa_Culpepper', 13), ('Crispin_Cronk', 246), (\"Crispin_Cronk's_sphinxes\", 1), ('C._Roemmele', 4), ('Crookshanks', 57), ('Crowd_outside_bakery_in_Surrey', 2), ('Curious_Gryffindor_girl', 2), ('Curtis_Evercreech', 1), ('Cuthbert_Binns', 262), ('Cuthbert_Mockridge', 20), ('C._Williamsum', 5), ('Cybèle_Peltier', 145), ('Cyclops', 265), ('Cygnus_Black_I', 11), ('Cygnus_Black_II', 68), ('Cygnus_Black_III', 60), ('Cyprian_Youdle', 246), (\"Cyprian_Youdle's_killer\", 1), ('Cyrille_Lestrange_(III)', 26), ('Cyrille_Lestrange_(IV)', 17), ('Cyrille_Lestrange_(II)', 26), ('Cyrille_Lestrange_(I)', 26), ('Cyril_Meakin', 88), ('Dagbert_Pips', 1), ('Dahlia_F.', 1), ('Dai_Llewellyn', 322), ('Dai_Ryusaki', 82), ('Daisy_Corran', 4), ('Daisy_Dodderidge', 267), ('Daisy_Hookum', 2), ('Daisy_Pennifold', 36), ('Daisy_Twemlove', 4), ('Damara_Dodderidge', 47), ('Damian_Perriss', 88), ('Damocles_Belby', 85), ('Damocles_Rowle', 84), ('Dan_Darker', 264), ('Danielle', 4), ('Daniel_Page', 29), ('Daniel_Radcliffe_(in-universe)', 1), ('Danielle_Amorinus', 2), ('Daphne_Greengrass', 18), ('Daphne_Mauboisan', 7), ('Daphne_Wenlock', 2), ('Darenne_Lestrange', 25), ('Darius_Smackhammer', 317), ('Dark_Wizard_from_Knockturn_Alley', 1), ('Darrel_Turner', 6), ('Darren_Floyd', 146), (\"Darren_O'Hare\", 145), ('Daryl_Morden', 1), ('Dave_Monk', 6), ('Davet_Dumont', 1), ('Davey_Gudgeon', 5), ('David_(king)', 3), ('David_Boorman_II', 31), ('David_Boorman_I', 2), ('David_Hamblin', 264), ('David_Heyman_(in-universe)', 2), ('David_Makehay', 264), ('David_Nolton', 2), ('David_Yates_(in-universe)', 3), ('Davies', 5), ('Dawn_Withey', 317), ('Day_maid_at_Leaky_Cauldron', 25), ('Dean_Thomas', 379), (\"Dean_Thomas's_father\", 1), (\"Dean_Thomas's_half-siblings\", 1), ('Death_(The_Tale_of_the_Three_Brothers)', 89), ('Debbie_Amy', 8), ('Debbie_Muntz', 317), ('Dedalus_Diggle', 149), ('Deek', 213), (\"Delacour_sisters'_cousins\", 7), ('Delfina_Crimp', 38), ('Deliverance_Dane', 5), ('Delphini', 182), ('Demelza_Robins', 271), ('Demetrius_Prod', 4), ('Dempster_Wiggleswade', 144), ('Denison_Frisby', 316), ('Dennis_(toad)', 11), ('Dennis', 9), ('Dennis_Aldermaston', 4), (\"Dennis_Aldermaston's_mother\", 1), ('Dennis_Bishop', 7), ('Dennis_Creevey', 90), ('Dennis_Moon', 152), (\"Derek_(Wizard_Card_Collectors'_Club)\", 1), ('Derek', 1), ('Derwent_Shimpling', 245), ('Devil', 3), ('Devlin_Whitehorn', 245), ('Dexter_Fortescue', 239), ('D._Figueiredus', 4), ('Diadema_Goshawk', 8), ('Diane_Carter', 1), ('Diane_Launier', 1), ('Diego_Caplan', 20), (\"Diego_Caplan's_father\", 1), (\"Diego_Caplan's_grandfather\", 1), (\"Diego_Caplan's_grandmother\", 1), ('Dilys_Derwent', 299), ('Dimitar_Draganov', 316), ('Dinah_Stevenson', 2), ('Dinaz_Zac', 1), ('Director_of_the_Investigation_Department_No._61042', 97), ('Director_of_the_Ministry_Police_No._41041', 2), ('Dirk', 4), ('Dirk_Cresswell', 57), (\"Dirk_Cresswell's_friends\", 5), ('Dishevelled_Wizard', 1), ('Distractible_Douglas', 2), (\"Distractible_Douglas's_father\", 2), ('DJ_Martha', 1), ('Dobbin', 267), ('Dobby', 379), ('Dolores_Umbridge', 514), (\"Dolores_Umbridge's_brother\", 3), ('Dominic_Maestro', 57), ('Dominique_Maestro', 3), ('Dominique_Weasley', 62), ('Donaghan_Tremlett', 253), (\"Donaghan_Tremlett's_spouse\", 3), ('Don_Harrison', 5), ('Dora_Williams', 25), ('Dorcas_Meadowes', 143), ('Dorcas_Wellbeloved', 245), ('Dorcus_Twelvetrees', 7), ('Dorea_Black', 80), ('Dorian_Fungbury', 96), ('Doris_Crockford', 6), ('Doris_Purkiss', 4), ('Dot', 3), ('Dotty_McNiven', 1), ('Double-ended-newt_wizard', 2), ('Dougal', 3), ('Dougal_McBride', 318), ('Dougal_McGregor', 9), (\"Dougal_McGregor's_children\", 1), (\"Dougal_McGregor's_father-in-law\", 2), ('Doxy_Queen', 5), ('Draco_Malfoy', 677), (\"Draco_Malfoy's_eagle_owl\", 2), ('Dragomir_Gorgovitch', 320), ('Dragon_keeper', 2), ('Drake', 2), ('Dre_Head', 6), ('Driving_test_examiner', 3), ('Ubbly', 79), ('Druella_Black', 50), ('D._Shaman', 45), ('Dudley_Dursley', 83), (\"Dudley_Dursley's_children\", 10), (\"Dudley_Dursley's_parrot\", 1), (\"Dudley_Dursley's_tortoise\", 2), (\"Dudley_Dursley's_wife\", 5), ('Dugald_McClivert', 3), ('Dugald_McPhail', 75), ('Dugbog_at_the_Magical_Creatures_Reserve', 48), ('Duke_of_Wellington', 4), ('Dunbar_Oglethorpe', 245), ('Duncan_Ashe', 26), ('Duncan_Inglebee', 264), ('Dungeon_Corridor_Slytherin_Prefect_(I)', 48), ('Dungeon_Corridor_Slytherin_Prefect_(II)', 43), ('Durmstrang_boy', 2), ('Durmstrang_girl', 6), ('D._Williams', 1), ('Dymphna_Furmage', 245), ('Dzou_Yen', 245), ('E._A._Limus', 88), ('Eargit_the_Ugly', 246), ('Earl_of_Paunchley', 8), (\"Earl_of_Paunchley's_forced_servants\", 2), (\"Earl_of_Paunchley's_four_burly_servants\", 3), ('Eddie_Carmichael', 3), ('Edessa_Sakndenberg', 228), ('Edgar_Bones', 151), (\"Edgar_Bones'_children\", 4), ('Edgar_Cloggs', 3), ('Edgar_Stroulger', 257), ('Edgar_Wallace', 1), ('Edgecombe', 14), ('Edith', 3), ('Edith_Abernathy', 1), ('Edmund_Gaddlegate', 6), ('Edmund_Grubb', 1), ('Edmund_Major_II', 2), ('Edmund_Spiers', 88), ('Edric_Vosper', 316), ('Eduardo', 4), ('Eduardo_Lima_Filho', 5), ('Eduardo_Lima_(in-universe)', 5), ('Eduardus_Lima', 46), ('Eduardus_Limette_Black', 4), ('Eduardus_Limus_(Ministry_employee)', 6), ('Eduardus_Limus_(criminal)', 4), ('Edward', 70), ('Edward_Almeida_Peidus', 3), ('Edward_Fountain', 2), ('Edward_Rabnott', 59), ('Edward_Lupin', 140), ('Edward_Tonks', 176), ('Edwardus_Lima', 5), ('Edwin_Avarus', 44), ('Eekins', 264), ('Egbert_the_Egregious', 51), ('Eglantine_Lestrange', 34), ('Eglantine_Puffett', 2), ('Egmont_Hobday', 6), ('Eileen_Prince', 38), ('Ekrizdis', 1), ('Elderly_visitor_at_Leaky_Cauldron', 2), ('Elderly_wizard_in_an_emerald-green_cloak', 2), ('Eldon_Elsrickle', 4), ('Eldon_Pembroke', 1), ('Eldred_Worple', 7), ('Eldritch_Diggory', 79), ('Eleanor_Branstone', 2), ('Eleanor_Sarah_Gibbs', 1), ('Eleazar_Fig', 218), ('Elena_Eldritch', 317), ('E._L._Filhus', 2), ('Elfrida_Clagg', 249), ('Elfrida_Cragg', 7), ('Eliana', 5), (\"Eliana's_parents\", 2), ('E._Lima', 4), ('E._Limus', 50), ('Elite_No-Maj', 2), ('Eliza', 2), ('Elizabeth_Burke', 306), ('Elizabeth_I', 17), ('Elizabeth_II', 23), ('Elizabeth_McGilliguddy', 86), ('Elizabeth_Smudgling', 10), ('Ella_Max', 3), ('Elladora_Black', 33), ('Elladora_Guffy', 2), ('Elladora_Ketteridge', 245), ('Ella_Jo', 264), ('Ella_Wilkins', 24), ('Ellen_Cracknell', 6), ('Ellerby', 2), ('Ellie_Cattermole', 11), ('Elliot_Evers', 12), ('Elliot_Smethwyck', 40), ('Elodie_Dembélé', 145), ('Eloise_Midgen', 13), ('Eloise_Mintumble', 90), ('Elora_Dunn', 6), ('Elphias_Doge', 169), ('Elphinstone_Urquart', 160), ('Elsie_Prod', 4), ('Elspeth_MacGillony', 220), (\"Elspeth_MacGillony's_father\", 1), ('Elveira_Elkins', 2), ('Emanuel_Hurwitz', 8), ('Emeric_Switch', 24), ('Emeric_the_Evil', 59), ('Emily_(mural)', 25), ('Emily_(Gryffindor)', 36), ('Emily_(Hufflepuff)', 3), ('Emily_Rappaport', 88), ('Emily_Taylor', 265), ('Emily_Tyler', 15), ('Emma_Squiggle', 45), ('Emma_Vane_(Muggle)', 5), ('Emma_Vane_(witch)', 5), ('Emma_Vanity_(Gryffindor)', 2), ('Emma_Vanity_(Slytherin)', 267), ('Emmeline_Vance', 146), ('Employee_of_the_Hogsmeade_Post_Office', 56), ('Enid_Longbottom', 12), ('Enid_Pettigrew', 7), ('Enid_Smeek', 5), ('Erica_J.', 264), ('Erica_Stainwright', 77), ('Erich_Ludendorff', 2), ('Eric_Munch', 9), ('Eric_Murley', 88), ('Eric_Whalley', 2), ('Erie_Yenning', 1), ('Erika_Rath', 270), (\"Erika_Rath's_father\", 1), (\"Erika_Rath's_friend_(II)\", 130), (\"Erika_Rath's_friend_(I)\", 130), ('Erling_the_Great', 12), ('Ernest_Hawkworth', 1), ('Ernest_Macmillan', 178), ('Ernesto_Jags', 213), ('Ernest_Prang', 12), ('Errol', 17), ('Esme_Page', 87), ('Esposito', 4), ('Ethan_Bexley', 15), ('Ethan_Gerard', 264), ('Ethan_Parkin', 582), ('Ethel', 46), ('Ethelbard_Mordaunt', 2), ('Ethelred_the_Ever-Ready', 245), ('Euan_Abercrombie', 1), ('Eugene_Belcher', 2), ('Eugenia_Jenkins', 79), ('Eulalie_Hicks', 50), (\"Eulalie_Hicks's_grandmother\", 2), ('Eunice_Murray', 316), ('Euphemia_Potter', 27), ('Euphemia_Rowle', 16), ('Eupraxia_Mole', 218), ('Eurig_Cadwallader', 5), ('Eustace_Burke', 85), ('Eustace_Fawley', 7), (\"Eustace_Fawley's_uncle\", 1), ('Evangeline_Orpington', 79), ('Evan_Rosier', 122), ('Everard', 219), ('Fabian_Prewett', 159), ('Fabius_Watkins', 316), ('Face_Paint_Kid', 2), (\"Faris_Spavin's_centaur_assailant\", 1), ('Fairy_at_the_Magical_Creatures_Reserve', 44), ('Falco_Aesalon', 160), ('Falco_Lestrange', 28), ('Falco_Tremblay', 26), ('Fang', 49), ('Faris_Spavin', 81), (\"Faris_Spavin's_secretary\", 39), ('Fat_ghost_in_stairwell', 3), ('Fawkes', 156), ('Fay_Dunbar', 173), ('FDM', 2), ('Felicitania_Tugwood', 9), ('Felicity_Eastchurch', 25), ('Felix_Brunt_(I)', 2), ('Felix_Brunt_(II)', 17), ('Felix_Rosier', 97), ('Felix_Summerbee', 279), ('Female_Death_Eater_at_the_Graveyard', 8), ('Fenella_Flowerday', 1), ('Fenrir_Greyback', 170), ('Ferdinand_Jägendorf', 1), ('Fergus', 5), ('Fergus_Cowley', 71), ('Fernando_Diaz', 316), ('Figgy', 3), ('Filemina_Alchin', 264), ('Filibuster', 1), ('Filius_Flitwick', 418), (\"Filius_Flitwick's_goblin_ancestor\", 1), ('Filk', 213), ('Finbar_Quigley', 317), ('Finn', 12), ('Firenze', 359), ('First-floor_fighter', 2), ('First_Headmaster_of_Hogwarts', 255), ('First_semi-finalist_of_the_1379_duelling_contest', 5), ('Fischer_Frey', 9), ('Fisher', 5), ('Flannery', 4), ('Flavius_Belby', 250), ('Flavius_Flint', 11), ('Fleamont_Potter', 153), ('Fleetwing', 1), ('Fleetwood', 2), ('Fleur_Delacour', 259), ('Flora_Buchanan', 7), ('Flora_Carrow', 12), ('Florean_Fortescue', 32), ('Florence', 3), (\"Florence's_boyfriend\", 2), ('Floxel_Lestrange', 19), ('Fluffy', 25), ('Forbidden_Forest_Mooncalf_herd', 2), ('Foreign_President', 3), ('Forest_Troll_at_the_Forest_Lake', 6), ('Forest_Vault_Acromantula', 10), ('Fortinbras', 248), ('Foul-smelling_Snatcher', 5), (\"Fox_near_Spinner's_End\", 3), ('Francis', 6), ('Franciscus_Fieldwake', 1), ('Frank_(Thunderbird)', 13), ('Frank_Bryce', 41), ('Frank_Longbottom', 306), ('Frank_Doyle', 5), ('Franklin_Greenwood', 6), ('Franziska_Faust', 2), ('Freckle-faced_six-year-old', 1), ('Fred_Weasley_II', 53), ('Fred_Weasley', 554), ('Friar', 4), ('Fridwulfa', 30), ('Fry', 4), ('Fubster', 6), ('Fugitive_werewolf', 75), ('Fulbert_the_Fearful', 245), ('Fulcran_Lestrange_(I)', 37), ('Fulcran_Lestrange_(II)', 15), ('Fuzzclaw', 2), ('F._Wakefield', 84), ('Fytherley_Undercliffe', 214), ('Gabrielle_Delacour', 25), ('Gabriel_Truman', 56), ('Galatea_Merrythought', 220), ('Galileo_Galilei', 2), ('Galvin_Gudgeon', 321), ('Gamp', 4), ('Gareth_Greengrass', 42), (\"Gareth_Greengrass's_brother\", 60), ('Gareth_Pewsey', 29), ('Garius_Tomkink', 3), ('Garrick_Ollivander', 240), (\"Garrick_Ollivander's_peacock\", 2), ('Garvin_Lügner', 2), ('Gaspard_Shingleton', 247), ('Gavin', 2), ('Gawain_Robards', 99), ('Gellert_Grindelwald', 208), (\"Gellert_Grindelwald's_bodyguard\", 1), (\"Gellert_Grindelwald's_Qilin\", 7), ('Gemma_Farley', 96), ('Genevieve_Bladt', 1), ('Geoffrey_Hooper', 264), ('George_Eliot', 3), ('George_III', 16), ('George_Orwell', 1), ('George_Osborne', 3), ('Georges_Clemenceau', 4), ('George_Sipel', 9), ('George_von_Rheticus', 103), ('George_W._Bush', 3), ('George_Weasley', 551), (\"George_Weasley's_dance_partner\", 1), ('Georgios_Xenakis', 1), ('Georgi_Zdravko', 145), ('Geraint_Ollivander', 8), ('Gerbold_Ollivander', 13), ('Gerda_Curd', 2), ('German-speaking_children', 5), ('German-speaking_woman', 7), ('Gertie_Keddle', 4), ('Gervaise_Ollivander', 12), ('Gethsemane_Prickle', 132), ('G._F.', 1), (\"G._F.'s_grandfather\", 1), ('Ghost_at_Gryffindor_Tower', 4), ('Ghoul_in_the_Muggle_Studies_Classroom', 6), ('Gianna_Grace_Marie', 264), ('Gianni_Fedele', 317), ('Giant_Dung_Beetle_at_the_Magical_Creatures_Reserve', 47), ('Giant_rat_(creature)', 3), ('Gibbon', 114), ('Gideon_Crumb', 245), ('Gideon_Flatworthy', 1), ('Gideon_Prewett', 159), ('Giffard_Abbott', 262), (\"Giffard_Abbott's_dog\", 1), ('Gifford_Ollerton', 249), ('Gigantic_serpent', 2), ('Gilbert_Bingley', 7), ('Gilbert_Wimple', 20), ('Gilderoy_Lockhart', 725), (\"Gilderoy_Lockhart's_helper\", 2), (\"Gilderoy_Lockhart's_mother\", 2), (\"Gilderoy_Lockhart's_neighbour\", 1), (\"Gilderoy_Lockhart's_sisters\", 2), ('Gillian_Ossett', 1), ('Gimkey', 213), ('Ginevra_Weasley', 901), ('Ginger_(musician)', 2), ('Ginger_Witch', 4), ('Girl_Sorted_in_1858', 3), ('Girl_who_played_Amata', 11), ('Girl_who_played_Asha', 10), ('Girl_whose_quill_was_taken_by_Cedric', 7), ('Girl_who_tested_Fainting_Fancies', 1), ('Girl_with_Flowers', 29), ('Gladys_Gudgeon', 6), ('Gladys_Prescott', 1), ('Glanmore_Peakes', 294), ('Glenda_Chittock', 247), ('Gloomy_nuns', 1), ('Glover_Hipworth', 313), ('Glynnis_Griffiths', 317), ('Gnarlak', 12), ('Goblet_of_Fire_casket_carriers', 3), ('Goblin_family_near_Nottingham', 4), ('Goblin_jazz_singer', 2), ('Godelot', 51), ('Godric_Gryffindor', 444), (\"Godric's_Hollow_Muggle_boy\", 1), (\"Goldstein_sisters'_grandfather\", 3), ('Golgomath', 136), ('Goliath', 267), (\"Goliath's_slayer\", 2), ('Golpalott', 78), ('Gonçalo_Flores', 148), ('Gondoline_Oliphant', 245), ('Gondulphus_Graves', 86), ('Goodwin_Kneen', 320), ('Google_Flange', 29), ('Google_Stump', 73), ('Gordon', 11), ('Gordon_Brown', 4), ('Gordon_Horton', 190), ('Gordon_Pummell_(I)', 2), ('Gordon_Pummell_(II)', 4), (\"Gordon's_parents\", 1), ('Gorilla_at_the_Zoo', 2), ('Gormlaith_Gaunt', 34), ('Gormless_Morgan', 3), (\"Gormless_Morgan's_boss\", 1), (\"Gormless_Morgan's_friends\", 2), ('Gornuk', 37), ('Graham_Montague', 277), ('Graham_Pritchard', 3), ('Graham_Romsey', 22), ('Grant_Page', 265), ('Granville_Jorkins', 12), ('Graphorn_at_the_Magical_Creatures_Reserve', 48), (\"Graphorn_at_the_Magical_Creatures_Reserve's_baby\", 4), ('Grawp', 192), (\"Grawp's_father\", 15), ('Greek_man', 4), ('Gregory_Cotton', 318), ('Gregory_Goyle', 392), ('Gregory_the_Smarmy', 320), ('Greg_Ruczinski', 316), ('Grenouille', 321), ('Greta_Catchlove', 282), ('Grim_Fawley', 55), ('Grimwold_Jorkins', 12), ('Gringott', 287), (\"Gringott's_Dragon\", 29), ('Gringotts_Head_Goblin', 46), ('Griphook', 82), ('Griselda_Jorkins', 12), ('Griselda_Marchbanks', 42), ('Grizel_Hurtz', 47), ('Grogan_Stump', 321), ('Group_of_injured_giants', 20), ('Gruffyd_Wellnelly', 141), ('Grumble', 18), ('Entrance_Hall_Gryffindor_Prefect', 42), (\"Gryffindor_Wizard's_Chess_champion\", 1), (\"Gryffindor_Wizard's_Chess_champion_(IV)\", 1), (\"Gryffindor_Wizard's_Chess_champion_(II)\", 1), (\"Gryffindor_Wizard's_Chess_champion_(III)\", 1), (\"Gryffindor_Wizard's_Chess_champion_(V)\", 1), ('Guillory', 1), ('Gulliver_Pokeby', 245), ('Gunhilda_de_Gorsemoor', 328), ('Gunhilda_Kneen', 320), ('Gunnar_Grimmson', 37), ('Gwendoline_Babcocke', 31), (\"Gwendoline_Babcocke's_mother\", 1), ('Gwendoline_Hedgeflower', 5), ('Gwendolyn_Morgan', 4), ('Gwenog', 318), ('Gwenog_Jones', 578), ('Hadrian_Whittle', 30), ('Haley_Dakota', 264), ('Hamish_Buchanan', 7), ('Hamish_Frater', 264), ('Hamish_Knighton', 2), ('Hamish_MacFarlan', 4), ('Hamish_Steed', 6), ('Handsome_Poltergeist', 2), ('Haniball_Carathi', 4), ('Hankerton_Humble', 215), ('Hannah_Abbott', 212), ('Hannah_Cockleford', 5), ('Hans', 5), ('Hardik_Tandel', 2), ('Hardwin_Potter', 26), ('Harfang_Longbottom', 31), (\"Harfang_Longbottom's_daughter\", 16), (\"Harfang_Longbottom's_son\", 14), ('Harfang_Munter', 5), ('Harold', 5), ('Harold_Dingle', 3), ('Harold_Grace', 2), ('Harold_Minchum', 75), ('Harold_Skively', 1), ('Harper', 265), ('Harry_Potter', 1468), ('Harry_Trigg', 2), ('Harvey_Ridgebit', 3), ('Havelock_Sweeting', 247), ('Hawk-like_owl', 2), ('Haywood_family_Puffskein', 2), (\"Haywood_sisters'_mother\", 2), ('Headmaster_of_Castelobruxo_during_1989', 3), ('Headmaster_of_Mahoutokoro_during_1990', 2), ('Headteacher_of_Beauxbatons_Academy_of_Magic_during_1792', 7), ('Headteacher_of_Durmstrang_Institute_during_1792', 7), ('Headteacher_of_Hogwarts_School_of_Witchcraft_and_Wizardry_during_1792', 217), ('Heady', 2), ('Healer_(Diagon_Alley)', 43), ('Portrait_of_the_Healers', 53), ('Heathcote_Barbary', 245), ('Heather', 70), ('Hebridean_Black_at_the_Magical_Creatures_Reserve', 49), ('Hecat', 158), ('Hecate_Oakham', 1), ('Hector_Bolobolo', 2), ('Hector_Dagworth-Granger', 80), ('Hector_Fawley', 79), ('Hector_Lamont', 318), ('Hector_Podmore', 67), ('Hedley_Fleetwood', 3), ('Hedwig_(wizard)', 4), ('Hedwig', 65), (\"Hedwig's_killer\", 7), ('Heidi_Macavoy', 264), ('Heinrich_Eberstadt', 38), ('Helbert_Spleen', 118), ('Helena_Ravenclaw', 198), ('Helen_Dawlish', 73), ('Helga_Hufflepuff', 473), ('Heliotrope_Wilkins', 232), ('Heliotrope_Willis', 2), ('Helixa_Hyslop', 36), ('Helmut', 39), ('Helmut_Weiss', 88), ('Heloise_Lestrange', 34), ('Hemani_Roshan', 1), ('Hengist_of_Upper_Barnton', 264), ('Hengist_of_Woodcroft', 305), ('Hengist_Rawkes', 17), ('Henrietta_Fischer', 38), ('Henry', 2), ('Henry_Bumblepuft', 47), ('Henry_Potter', 72), ('Henry_Shaw_Senior', 15), ('Henry_Shaw_Junior', 28), ('Henry_VI', 8), ('Henry_VII', 24), ('Henry_VIII', 10), ('Henry_Willis', 1), ('Hepzibah_Smith', 23), ('Herbert_Beery', 238), ('Herbert_Burke', 45), ('Herbert_Chorley', 78), ('Herbert_Fleet', 264), ('Herbert_Varney', 246), ('Hereward', 51), ('Herman_Junker', 1), ('Hermann_Wiel', 317), ('Herman_Wintringham', 245), ('Hermes', 10), ('Hermione_Granger', 848), ('Herpo_the_Foul', 248), (\"Herpo_the_Foul's_Basilisk\", 2), ('Herschel_Haesito', 2), ('Hesper_Black', 6), ('Hesper_Gamp', 51), ('Hesper_Starkey', 319), ('Hesphaestus_Gore', 79), ('Hester', 4), ('Hestia_Carrow', 12), ('Hestia_Jones', 151), ('Hieronymus', 3), ('Hilda_Kendrick', 4), ('Hildegarde_Lafarge', 316), ('Hilliard_Hobday', 6), ('Hippocrates_Smethwyck', 79), ('H._Knighton', 4), (\"H._Knighton's_offspring\", 1), ('H._Mogrix', 1), ('Hodag_at_the_Magical_Creatures_Reserve', 47), ('Hodrod_the_Horny-Handed', 4), ('Hogsmeade_street_sweeper', 1), ('Hogwarts_Express_conductor', 7), ('Hogwarts_Express_driver', 4), ('Hogwarts_Giant_Squid', 11), ('Hogwarts_house-elves', 348), ('Hogwarts_potions_champion', 10), ('Hogwarts_school_mice', 1), ('Hogwarts_student_that_bet_on_Fleur_Delacour', 3), ('Hokey', 8), ('Holden_Ledbury', 3), ('Holly_Blackbird', 92), ('Honoria', 15), ('Honoria_Nutcombe', 248), (\"Honoria's_fiancé\", 48), ('Hooky', 30), ('Hope_Howell', 15), ('Hoppy', 8), ('Horace', 54), ('Horace_Slughorn', 528), (\"Horace_Slughorn's_father\", 3), (\"Horace_Slughorn's_friend\", 1), (\"Horace_Slughorn's_owl\", 5), ('Horatio_Cloke', 5), (\"Olive_Hornby's_brother\", 2), ('Hortense_Cooper', 6), ('Hortensia_Milliphutt', 74), ('Hothoof', 1), ('House_of_Black_house-elves', 12), ('Howard', 25), ('Howard_Chalk', 2), ('H._R._Nigellus', 1), ('Hufflepuff_boy_that_blames_Harry_Potter_(II)', 3), ('Hufflepuff_Wizard_Duelling_Champion', 3), ('Hugh_Biggs', 266), ('Hugo_Granger-Weasley', 58), ('Hugo_Mattingley', 2), ('Hugo_Pepper', 2), ('Huguette_Perrot', 29), ('Humphrey_Balsamo', 2), ('Humphrey_Belcher', 4), ('Hungarian_Horntail_in_the_Dragon_Sanctuary', 5), ('Iain_Claverdon', 2), ('Ice_cream_seller', 4), ('Ida_Webb', 39), ('Iefan_Rice', 147), ('Ignatia_Wildsmith', 246), ('Ignatius_Prewett', 31), ('Ignatius_Tuft', 74), ('Ignis_Nagy', 1), ('Ignotus_Peverell', 104), (\"Ignotus_Peverell's_son\", 40), ('Igor_Brand', 320), ('Igor_Karkaroff', 146), (\"Igor_Karkaroff's_Yule_Ball_partner\", 113), ('Illyius', 5), ('Imogen_Stretton', 4), ('Imp_at_the_Magical_Creatures_Reserve', 48), ('Indira_Choudry', 317), ('Ingolfr_the_Iambic', 2), ('Inigo_Fuente_Marrero', 317), ('Inigo_Imago', 12), ('Iola_Black', 21), ('Iolanthe_Peverell', 43), ('Irene_Kneedander', 84), ('Irfan_Mustaq', 70), ('Iris', 5), ('Iris_Pius', 12), ('Irma_Crabbe', 46), ('Irma_Dugard', 23), ('Irma_Pince', 266), ('Irving_Cram_(I)', 2), ('Irving_Cram_(II)', 2), ('Irving_Warble', 6), ('Isaac', 2), ('Isaac_Newton', 1), ('Ismelda_Murk', 158), (\"Ismelda_Murk's_father\", 2), (\"Ismelda_Murk's_mother\", 2), (\"Ismelda_Murk's_paternal_grandmother\", 2), ('Isobel_Ross', 150), ('Isodora_Rose', 1), ('Isolt_Sayre', 34), ('Ivan_Popa', 2), ('Ivan_Renshaw_(I)', 2), ('Ivan_Renshaw_(II)', 30), ('Ivan_Volkov', 317), ('Ivor_Dillonsby', 5), ('Ivy_Warrington', 23), ('Jack', 3), ('Jackie_Jernigan', 145), ('Jack_Jodieman', 1), ('Jack_Monk', 6), ('Jack_Sloper', 266), ('Jackson_Sheppard', 264), ('Jacob_(Hogwarts_student)', 132), ('Jacob_Kowalski', 83), (\"Jacob_Kowalski's_grandfather\", 2), (\"Jacob_Kowalski's_grandmother\", 2), (\"Jacob_Kowalski's_foreman\", 2), (\"Jacob's_family_Puffskein\", 1), (\"Jacob's_mother\", 2), (\"Jacob's_sibling's_cat\", 2), (\"Jacob's_sibling's_Crup\", 1), (\"Jacob's_sibling's_rat\", 3), ('Jacques_Miskine', 316), ('Jacturus_Cloke_III', 6), ('Jada_Angela', 264), ('Jae_Kim', 34), (\"Jae_Kim's_father\", 1), (\"Jae_Kim's_mother\", 2), ('Jake_Flinton', 88), ('Jakub_Gorski', 218), (\"James_and_Lily_Potter's_Muggle_betrayer\", 5), ('J._B._Yabsley', 1), ('James_Killick', 2), ('James_Potter_I', 577), (\"James_Potter_II's_owl\", 1), ('James_Potter_II', 131), ('James_Steward', 28), ('James_Tuckett_(II)', 5), ('James_Tuckett_(I)', 2), ('Jamie_Wolpert_(in-universe)', 8), ('Jane_Austen', 3), ('Jane_Court', 90), ('Janek', 2), ('Janice_Pepper', 2), ('Jan_Kowalski', 1), ('Janus_Thickey', 4), (\"Janus_Thickey's_children\", 2), ('Jarleth_Hobart', 38), ('Jarrett', 264), ('Jasichus', 4), ('Jason_Charmer', 133), ('Jason_Denbright', 2), ('Jason_Huntingdon', 3), ('Jason_Samuels', 264), ('Jason_Swann', 30), ('Jay', 1), (\"Jay's_friend\", 1), ('J._Dorny', 1), ('Jean-Baptiste_Bloncourt', 316), ('Jennifer_Dawn', 264), ('J._E._Prewitt', 130), ('Jeremiah_Garnet', 1), ('Jeremy_Clarkson', 2), ('Jeremy_Stretton', 266), ('Jesus', 17), ('Jimbo_Blishwick', 2), ('Jim_Hamilton', 6), ('Jim_McGuffin', 6), ('Jimmy_Kiddell', 42), ('Jimmy_Peakes', 274), ('J._K._Rowling_(in-universe)', 4), ('Joan_Maguire_Cook', 1), ('Jocunda_Sykes', 282), ('Jodelle_Lestrange', 11), ('Jodie_Pritchard', 3), ('Jody_Jacknife', 264), ('Joey_Jenkins', 319), ('Johan_Hoffman', 24), ('Johannes_Jonker', 7), ('John', 8), ('John_Haas', 6), ('John_Bastedo', 1), ('John_Bunyan', 1), ('Calvin_Coolidge', 2), ('John_Dawlish', 276), ('John_Garry', 7), ('John_Homme', 1), ('John_Joseph_Merlin', 2), ('John_Stevenson', 2), ('John_Talisker', 316), ('John_Terry', 4), ('Jo_King_(Gryffindor)', 5), ('Jo_King_(Slytherin)', 267), ('Jonathan_Spratt', 88), (\"Johannes_Jonker's_father\", 1), ('Jonny_Nuhaka', 317), ('Joscelind_Wadcock', 557), ('José_Barboza', 4), ('Josefina_Calderon', 15), ('Josef_Wronski', 316), ('Joseph_Friend', 4), ('Josephina_Flint', 77), ('Josephine_Marat', 316), ('Joseph_Snuka', 318), ('Josette_Gage', 35), ('Joshua_Sankara', 145), ('Josiah_Jackson', 84), ('Josiah_Plunkett', 7), ('Joyce_Haddock', 1), ('J._Pippin', 168), ('Judges_of_the_1379_duelling_contest', 7), ('Jugson', 112), ('Jules_Egwu', 5), (\"Jules_Egwu's_parents\", 2), ('Julia_Dehoff_(witch)', 1), ('Julia_Dehoff_(Muggle)', 2), ('Julie_Parkes', 1), ('Julius_Dehoff', 1), ('Justin_Finch-Fletchley', 160), ('Justin_Steele', 5), ('Justus_Pilliwickle', 340), ('J._Ward', 84), ('Kaleena_Page', 8), (\"Karkaroff's_Aide\", 7), ('Karkus', 163), (\"Karkus's_wife\", 79), ('Karl', 31), ('Karl_Broadmoor', 316), ('Karl_Jenkins', 12), ('Karl_Limpley', 71), ('Karl_Wang', 146), ('Katie_Bell', 418), ('Katie_Killick', 2), ('Katie_Rayknolls', 264), ('Katrina_von_Glockenspieler', 317), ('Katura_Melkor', 1), ('Kay_Hurwitz', 8), ('Kazuhiro_Shiratori', 18), ('K._Bundy', 1), ('Keaton_Flitney', 317), ('Keiko_Takahashi', 317), ('Kellah', 14), ('Kelly', 5), ('Kelly_Brown', 8), ('Kelly_Whakkaarangapawarau', 317), ('Kelpie_in_the_Great_Lake', 6), ('Kendra_Dumbledore', 21), ('Kenneth_Hastings', 317), ('Kenneth_Towler', 1), ('Kennilworthy_Whisp', 7), ('Kensington_Millbottom', 4), ('Kevin', 4), ('Kevin_Bletchley', 268), ('Kevin_Broadmoor', 316), ('Kevin_Entwhistle', 12), ('Kevin_Farrell', 6), (\"Kevin_Farrell's_mother\", 2), (\"Kevin's_father\", 1), (\"Kevin's_mother\", 1), ('Kevin_Sterndale', 88), ('Kevinus_Morrisons', 1), ('Khanna_family_house-elf', 1), ('Kikis_Trecus', 45), ('Kimiko_Kurosawa', 145), ('Kim_Sheringham', 3), ('King_(Babbitty_Rabbitty_and_her_Cackling_Stump)', 47), (\"King's_Cross_Station_guard\", 3), ('Kingsley_Shacklebolt', 324), ('William_I', 15), ('Kirley_Duke', 255), ('Kit_Gerrard', 8), ('K._Machadus', 4), ('Knarl_(individual)', 7), ('Kneil', 5), ('Knight_with_an_arrow_sticking_out_of_his_forehead', 6), ('Koldovstoretz_potions_champion', 2), ('Konrad_Weiss', 319), ('Kouta_Ohnishi', 71), (\"Jacob_Kowalski's_brother\", 2), ('Kquewanda_Bailey', 316), ('Krafft', 31), ('Krafty', 213), ('Krall', 32), ('Kreacher', 425), (\"Kreacher's_mother\", 5), ('Kris_Kolumbiko', 264), ('Kursten_Blijk', 317), ('Kurt_Todt', 316), ('Kylie_Meadows', 317), ('Lachlan_MacKenzie', 318), ('Lachlan_the_Lanky', 50), ('Ladislaw_Zamojski', 316), ('Lady_Grieve', 4), ('Lady_Wimborne', 1), ('Laith', 2), ('Lamont', 2), ('Lana_Tuttle', 5), ('Lancelot_(Healer)', 78), ('Landlady_of_the_Green_Dragon', 4), ('Landlord_of_The_Hanged_Man', 1), (\"Landlord_of_the_Siren's_Rest\", 2), ('Langdon_Shaw', 14), ('Lara_Von_Sigg', 1), ('Lars_Lundekvam', 2), ('Lars_Moberly', 1), ('Latisha_Randle', 3), ('Laura', 8), ('Laura_Madley', 2), ('Laura_Thorn', 78), (\"Laura_Thorn's_sister\", 1), ('Laurelle_Perrot', 29), ('Laurena_Kama', 19), (\"Laurent_D'Arcy\", 1), ('Lavender_Brown', 113), ('Laverne_de_Montmorency', 313), ('Lawrence_Feldman', 3), ('Leaky_Cauldron_bartender', 23), ('Leaky_Cauldron_wizard_from_Belgium', 10), ('Leanne', 60), ('Lee_Jordan', 226), (\"Lee_Jordan's_tarantula\", 5), ('Lenelle_Paraison', 316), ('Lennox_Campbell', 318), ('Leon', 8), ('Leonardo_Da_Vinci', 8), ('Leonard_Spencer-Moon', 89), ('Leonie_Tremblay', 31), ('Leonora_Gore', 8), ('Leopoldina_Smethwyck', 249), ('Lestrange', 14), ('Leta_Lestrange', 172), ('Leticia_Somnolens', 245), ('Leucrotta_at_the_Magical_Creatures_Reserve', 43), ('Levina_Monkstanley', 56), ('Lev_Zograf', 316), ('Libatius_Borage', 79), ('Licorus_Black', 9), ('Lilith_Molesby', 2), ('Lily_J._Potter', 196), ('Lily_L._Potter', 93), ('Lily_Moon', 9), ('Limebert', 227), ('Lim_Po', 1), ('Limus_Filhous', 2), ('Lina_Tande', 4), ('Linderina_Crane', 103), ('Linfred_of_Stinchcombe', 99), ('Lisa_Cullen', 24), ('Mona_Lisa', 2), ('Lisa_Turpin', 3), ('Lisette_de_Lapin', 6), ('Little_Hangleton_boys', 5), ('Little_Whinging_milkman', 2), ('Little_Whinging_postman', 2), ('Liu_Tao', 9), (\"Liu_Tao's_supporter\", 1), ('Livius', 51), ('Liza_Cherks', 1), ('Liz_Tuttle', 39), (\"Liz_Tuttle's_maternal_grandfather\", 2), (\"Liz_Tuttle's_maternal_grandmother\", 2), ('Loch_Ness_Monster', 3), (\"Lorcan_d'Eath\", 3), ('Lorcan_McLaird', 77), ('Lorcan_Scamander', 15), ('Lord_Byron', 1), ('Lord_North', 6), ('Lord_Palmerston', 6), ('Loretta_Fieldwake_(criminal)', 3), ('Loretta_Fieldwake_(Ministry_employee)', 6), ('Lorre_Gustafson', 317), (\"L._O'Sullivan\", 42), ('Lottie_Turner', 15), ('Louise', 2), (\"Louise's_admirer\", 2), ('Louis_Gage', 29), ('Louis_Weasley', 63), ('Loxias', 53), (\"Loxias's_mother\", 1), ('Luca_Caruso_(Muggle)', 4), ('Luca_Caruso_(wizard)', 80), ('Lucas_Bargeworthy', 145), ('Lucas_Picquery', 154), ('Lucas_Sparrowvale', 29), ('Lucian_Bole', 265), ('Luciano_Limus', 4), ('Luciano_Volpi', 317), ('Lucinda_Talkalot', 264), ('Lucinda_Thomsonicle-Pocus', 213), ('Lucius_Malfoy', 304), ('Lucius_Malfoy_I', 19), ('Lucretia_Fawley', 10), ('Lucretia_Black', 43), ('Lucy_Evans', 2), ('Lucy_Hurst', 24), ('Lucy_Karoonda', 317), ('Lucy_Lanyon', 53), ('Lucy_Weasley', 52), ('Ludovic_Bagman', 361), ('Luisa', 137), ('Lukas_Karuzos', 10), ('Luke', 8), ('Luke_Cholderton', 1), ('Luminosa_Lestrange', 15), ('Luna_Lovegood', 434), ('Luxo_Karuzos', 3), ('Luxo_Karuzos_II', 1), ('Lyall_Lupin', 14), ('Lycoris_Black', 51), ('Lydian_Xeep', 5), ('Lydia_Scarlett', 1), ('Lynette_Sawley', 2), ('Lysander_Scamander', 15), ('Lysandra_Yaxley', 63), ('Mable_Dwillingwort', 1), ('MacDuff', 34), (\"Cho_Chang's_mother\", 18), ('Bletchley_(musician)', 6), ('Bonhabille', 6), ('Glossy', 77), ('Miraforum_(British_witch)', 6), ('Marsh', 3), ('Maerwynn_Montfort', 2), ('Mafalda', 6), ('Mafalda_Hopkirk', 206), (\"Mafalda_Hopkirk's_Ministerial_Superior\", 47), (\"Mafalda's_mother\", 2), ('Magali_Crowe', 84), ('Magenta_Tripe', 3), ('Magenta_Comstock', 5), ('Magical_Menagerie_salesman', 27), ('Magical_Menagerie_saleswoman', 33), ('Magic_goblin', 45), ('Magnus', 4), ('Magnus_MacDonald', 2), ('Magorian', 6), ('Mahoutokoro_potions_champion', 2), ('Maiden', 46), ('Maisie_Cattermole', 12), ('Maisy_Reynolds', 83), (\"Maisy_Reynolds's_father\", 2), ('Malcolm', 8), ('Malcolm_Baddock', 4), ('Malcolm_McGonagall', 21), ('Malcolm_Preece', 264), ('Malecrit', 5), ('Malkin', 35), ('Malodora_Grymm', 248), (\"Malodora_Grymm's_husband\", 1), (\"Malodora_Grymm's_victim\", 1), ('M._Amerinus', 46), ('Manager_at_Eeylops_Owl_Emporium', 22), ('Manager_of_Flourish_and_Blotts', 31), ('Manager_of_Gambol_and_Japes_Wizarding_Joke_Shop', 44), ('Mandy_Brocklehurst', 4), ('Manoj_Pandit', 23), ('Manon_Perrot', 35), ('Man_who_gave_Mr_Roberts_Galleons', 2), ('Man_with_knowledge_of_the_Taboo', 2), ('Marcus_Belby', 16), ('Marcus_Fenwick', 20), ('Marcus_Flint', 282), ('Marcus_Hitchin', 4), (\"Marcus_Hitchin's_mother\", 1), ('Marcus_Turner', 94), ('Margaretta_Ironbark', 4), ('Maria_Glossop', 1), ('Maria_Monteith', 317), ('Marietta_Edgecombe', 98), ('Marigold', 4), ('Marilyn', 4), ('Marina_Sanchez', 1), ('Marius', 44), ('Marius_Black', 55), ('Marjorie_Dursley', 25), ('Mark', 8), ('Mark_Constantine', 3), ('Mark_Evans', 6), ('Mark_Overcliff', 264), ('Mark_Sommertime', 264), ('Marlene_McKinnon', 148), ('Marlow', 11), ('Marshall_Fawley', 11), ('Martha_(British_Muggle)', 2), ('Martha_Steward_II', 29), ('Martha_Steward', 11), (\"Martha_Steward_II's_friend\", 3), (\"Martha_Steward_II's_husband\", 6), ('Martine_Copplestone', 1), ('Martin_Frolik', 1), ('Martin_MacFusty', 3), ('Martin_Miggs', 2), ('Martin_Helstrom', 317), ('Marvolo_Gaunt', 72), ('Mary', 7), (\"Mary_Cattermole's_father\", 10), (\"Mary_Cattermole's_mother\", 10), ('Mary_Dorkins', 4), ('Mary_Doyle', 2), ('Mary_Cattermole', 26), ('Mary_I', 12), ('Mary_II', 10), ('Mary_Jauncey', 84), ('Mary_Karasu', 10), ('Mary_Lou_Barebone', 33), ('Mary_Macdonald', 9), ('Mary_Riddle', 14), ('Masaki_Hongo', 150), ('Mason_Tremblay', 4), ('Matagot_at_the_Magical_Creatures_Reserve', 42), ('Matey', 4), ('Mathilda_Grimblehawk', 95), (\"Mathilda_Grimblehawk's_partner\", 3), ('Mathilde_Mallard', 316), ('Mathis_Gage', 29), ('Matilda_Dukelow', 1), ('Matthew', 8), ('Matthew_Echunga', 317), ('Matthew_Jenkins', 2), ('Matthias_Pickering', 6), ('Mattie_Lovett', 6), ('Maud_Ashborn', 3), ('Maud_Montagu', 1), ('Maud_Montague', 4), ('Mauler', 8), ('Maurice_Netto', 1), ('Maurice_Willard', 7), ('Maurice_Willards', 2), ('Mauricio_Carneiro', 5), ('Mauricius', 4), ('Mauricius_Carneirus', 1), ('Maximilian_Crowdy', 76), ('Maximus_Brankovitch_III', 317), (\"Maxine_O'Flaherty\", 129), ('Maxwell_Barnett', 2), ('Maxwell_Lima', 6), ('Mayer', 4), ('Maynard_Hatton', 70), ('Mazoni', 213), ('M._Carneiro_(Muggle)', 2), ('M._Carneiro_(wizard)', 2), ('M._Carneirus_(American)', 11), ('McClaggan', 7), ('McGonagall_family_cat', 3), ('Meaghan_McCormack', 4), ('Medusa', 27), ('Megan_Jones', 15), ('Megan_Scott', 7), ('Melania_Macmillan', 22), ('Melinda_Bobbin', 2), ('Melody_Fawley', 15), ('Melusine', 5), ('Mentor_Metaxas', 35), ('Mercy_Lewis', 4), ('Mercy_Ojukwu', 318), ('Mercy_Wardwell', 5), ('Merlin', 268), ('Merope_Riddle', 42), ('Merqueen', 3), ('Merton_Graves', 249), ('Merula_Snyde', 95), (\"Merula_Snyde's_aunt\", 2), (\"Merula_Snyde's_father\", 53), (\"Merula_Snyde's_mother\", 53), (\"Merula_Snyde's_mother's_unicorn\", 1), ('Mervyn_Fenwick', 8), ('Mervyn_Wynch', 88), ('Merwyn_Finwick', 319), ('Merwyn_the_Malicious', 302), ('M._G._McGonagall', 276), ('Michael', 5), ('Michael_Babatola', 3), ('Michael_Corner', 99), ('Michael_Karume', 1), ('Michael_McManus', 264), (\"Michael's_escort_at_King's_Cross_Station\", 1), (\"Alice_Longbottom's_midwife\", 3), ('Mike_Boon', 132), ('Mildred_(1990s)', 4), ('Mildred_(1920s)', 5), ('Mildred_Peebles', 2), ('Miles_Bletchley', 271), ('Millicent_Bagnold', 95), ('Millicent_Bulstrode', 98), (\"Millicent_Bulstrode's_cat\", 4), ('Millie_Gudabi', 316), ('Milly', 8), ('Milvus_Grizedale', 27), ('Minaka_Hirakata', 317), ('Mina_Lima', 7), ('Minerva', 12), ('Minerva_McGonagall', 757), (\"Minerva_McGonagall's_hornbill\", 2), (\"Minerva_McGonagall's_nieces_and_nephews\", 6), ('Minette_Lestrange', 44), ('Minister_for_Magic_Support_Staff_official', 42), ('Ministry_Official_No._39423', 28), ('Ministry_of_Magic_lift_attendant', 18), ('Ministry_of_Magic_meeting_assigner', 31), ('Mirabella_Plunkett', 289), ('Miraforum_(American_witch)', 2), ('Miranda_Goshawk', 331), (\"Miranda_Goshawk's_father\", 4), (\"Miranda_Goshawk's_mother\", 4), ('Miraphora_Mina_(Ministry_employee)', 6), ('Miraphora_Mina_(Hogwarts_student)', 6), ('Miras_Phlaras', 45), ('Miriam_Strout', 87), ('Misapinoa_Black', 5), (\"Hermione_Granger's_sister\", 5), ('M._L._Minus', 84), ('M._Mina', 8), ('M._Miraphorusus', 1), ('Mnemone_Radford', 46), ('Modesty_Barebone', 20), (\"Modesty_Barebone's_biological_father\", 2), (\"Modesty_Barebone's_biological_mother\", 2), ('Modesty_Rabnott', 9), (\"Modesty_Rabnott's_Hippogriff\", 2), ('Molly_Weasley_II', 53), ('Molly_Weasley', 247), (\"Molly_Weasley's_second_cousin\", 8), ('Momolu_Wotorson', 36), (\"Delacour_sisters'_father\", 11), ('Monstrous_Leaky_Cauldron_guest', 1), ('Montague_Knightley', 246), ('Montgomery', 80), ('Montgomery_sisters', 8), ('Mooncalf_at_the_Magical_Creatures_Reserve', 47), ('Mopsus_(antiquity)', 288), ('Mopsus_(Potter-era)', 23), ('Mopsy_Fleabert', 59), ('Morag', 3), ('Morag_MacDougal', 6), ('Moran', 317), ('Mordecai_Berrycloth', 54), ('Mordicus_Egg', 214), ('Morfin_Gaunt', 77), (\"Morfin_Gaunt's_first_snake\", 4), (\"Morfin_Gaunt's_second_snake\", 3), ('Morgan_le_Fay', 280), ('Morholt', 265), (\"Morholt's_brother\", 14), ('Moribund', 16), ('Morrigan', 42), ('Morten_Parpidum', 4), ('Mortlake', 2), ('Mosag', 5), ('Mountain_Troll_in_the_Forest_Grove', 5), ('M._P._Carneirus', 88), ('M._P._N._Carneirus', 5), ('M._Ralphous', 2), (\"Ludovic_Bagman's_father\", 3), (\"Marcus_Belby's_father\", 3), (\"Katie_Bell's_father\", 1), ('Mr_Bigglesby', 2), (\"Cuthbert_Binns's_father\", 2), (\"Amelia_Bones's_father\", 6), (\"Boot_brothers'_father\", 7), (\"Lavender_Brown's_father\", 4), (\"Reginald_Cattermole's_father\", 5), (\"Cho_Chang's_father\", 6), (\"Buckley_Cooper's_brother\", 3), ('Crabbe', 113), (\"Creevey_brothers'_father\", 3), ('Dudley', 18), (\"Marietta_Edgecombe's_father\", 3), (\"Evans_sisters'_father\", 10), (\"Eustace_Fawley's_father\", 2), (\"Seamus_Finnigan's_father\", 2), (\"Goldstein_sisters'_father\", 6), ('Goyle', 113), (\"Hermione_Granger's_father\", 13), (\"Rubeus_Hagrid's_father\", 3), ('Hall', 8), (\"Haywood_sisters'_father\", 3), ('Higglebottom', 4), (\"Angelina_Johnson's_father\", 4), (\"Lee_Jordan's_father\", 4), (\"Rowan_Khanna's_father\", 1), (\"Viktor_Krum's_father\", 3), ('Mr_Leucrotta', 11), ('Limunus', 45), (\"Gilderoy_Lockhart's_father\", 2), (\"Frank_Longbottom's_father\", 10), ('Mason', 9), (\"Robert_McGonagall_Senior's_father\", 5), (\"Dougal_McGregor's_father\", 2), (\"Cormac_McLaggen's_father\", 4), (\"Eloise_Midgen's_father\", 3), (\"Graham_Montague's_father\", 5), (\"Alastor_Moody's_father\", 1), ('Mulpepper', 132), (\"Page_siblings'_father\", 4), (\"Patil_twins'_father\", 4), ('Mr_Paws', 9), ('Payne', 3), ('Prentice', 3), (\"Molly_Weasley's_father\", 17), ('Roberts', 11), (\"Isobel_Ross's_father\", 6), (\"Hannah_Abbott's_mother\", 4), (\"Patrick_Bagby's_mother\", 1), (\"Katie_Bell's_mother\", 1), (\"Gilbert_Bingley's_wife\", 3), (\"Trevor_Birch's_mother\", 1), (\"Edgar_Bones's_wife\", 6), (\"Amelia_Bones's_mother\", 6), (\"Boot_brothers'_mother\", 7), (\"Webster_Boot's_wife\", 8), (\"Lavender_Brown's_mother\", 4), (\"Zygmunt_Budge's_mother\", 1), (\"Bruno_Schmidt's_father\", 1), ('Cole', 15), (\"Dirk_Cresswell's_wife\", 5), (\"Bartemius_Crouch_Junior's_mother\", 9), (\"Cedric_Diggory's_mother\", 5), (\"Dursley_siblings'_mother\", 4), (\"Evans_sisters'_mother\", 10), (\"Justin_Finch-Fletchley's_mother\", 2), (\"Seamus_Finnigan's_mother\", 10), (\"Ambrosius_Flume's_wife\", 25), (\"Cornelius_Fudge's_wife\", 5), (\"Edmund_Gaddlegate's_mother\", 3), ('Gibson', 11), (\"Goldstein_sisters'_mother\", 5), (\"Gregory_Goyle's_mother\", 2), (\"Hermione_Granger's_mother\", 11), (\"Hall's_wife\", 5), (\"Rowan_Khanna's_mother\", 1), (\"H._Knighton's_wife\", 1), (\"Viktor_Krum's_mother\", 3), (\"Mason's_wife\", 6), (\"Robert_McGonagall_Senior's_mother\", 4), (\"Dougal_McGregor's_wife\", 2), ('Mills', 8), (\"Zacharias_Smith's_father\", 5), (\"Graham_Montague's_mother\", 4), (\"Montgomery_children's_mother\", 4), (\"Alastor_Moody's_mother\", 1), (\"Dursleys'_female_neighbour\", 2), ('Mrs_Norris', 68), (\"Theodore_Nott's_mother\", 5), (\"Garrick_Ollivander's_mother\", 2), (\"Garrick_Ollivander's_wife\", 2), (\"Patil_twins'_mother\", 4), (\"Peter_Pettigrew's_mother\", 3), (\"Mirabella_Plunkett's_father\", 1), (\"Mirabella_Plunkett's_mother\", 1), (\"Piers_Polkiss's_mother\", 4), (\"Henry_Potter's_mother\", 8), (\"Molly_Weasley's_mother\", 21), (\"Roberts's_wife\", 2), (\"Isobel_Ross's_mother\", 5), (\"Scamander_brothers'_mother\", 4), (\"Janus_Thickey's_wife\", 2), (\"Dean_Thomas's_mother\", 3), (\"Sybill_Trelawney's_mother\", 3), (\"Donaghan_Tremlett's_mother\", 1), (\"Liz_Tuttle's_mother\", 14), ('Sugarplum', 42), (\"Emma_Vane's_mother\", 2), (\"Celestina_Warbeck's_mother\", 2), (\"Myrtle_Warren's_mother\", 4), (\"Westenberg's_wife\", 70), (\"Oliver_Wood's_mother\", 2), (\"Bowman_Wright's_mother\", 1), (\"Blaise_Zabini's_mother\", 4), (\"Dean_Thomas's_stepfather\", 4), ('Mr_Tibbles', 6), (\"Sybill_Trelawney's_father\", 3), (\"Donaghan_Tremlett's_father\", 1), (\"Celestina_Warbeck's_father\", 2), ('Mr_Whiskers', 2), (\"Oliver_Wood's_father\", 3), (\"Bowman_Wright's_father\", 1), (\"Fisher's_daughter\", 2), ('Muggle_Artefact_Smuggler', 2), ('Muggle_residents_of_Budleigh_Babberton', 2), (\"Male_Muggle_Studies_teacher's_student_assistant\", 1), ('Mulciber_I', 57), ('Muldoon_Cragg', 216), ('Mullet', 316), ('Mundungus_Fletcher', 244), ('Mungo_Bonham', 319), ('Mungo_MacDuff', 89), ('Murcus', 2), ('Muriel', 159), (\"Muriel's_mother\", 9), ('Murphy_McNully', 14), (\"Murphy_McNully's_grandmother\", 1), (\"Murphy_McNully's_mother\", 1), ('Music_classroom_monitor', 2), ('Musidora_Barkwith', 245), ('Mustafa_Kama', 9), ('Mykew_Gregorovitch', 62), ('Mylor_Silvanus', 3), ('Myra_Curio', 7), ('Myron_Otherhaus', 7), ('Myron_Wagtail', 254), ('Myrtle_Warren', 62), ('Naasz', 73), ('Nagel', 32), ('Nagini', 188), ('Nagnok', 22), ('Name', 2), ('Name_author', 2), ('N._Amorinus', 2), ('Nandini_Johar', 1), ('Nanette_Desford', 1), ('Narcissa_Malfoy', 181), ('Narinder_Singh', 316), ('Natalie_Fairbourne', 2), ('Natalie_Holkham', 264), ('Natalie_McDonald', 1), ('Natalya', 4), ('Natsai_Onai', 36), ('Natsumi_Suzuki', 2), ('Ned', 1), ('Needlefingers', 2), ('Neil_Lament', 264), ('Neil_La_Mounte', 1), ('Neil_Nuts', 1), ('Neil_Randall', 70), ('Nellie_Lo_Russell', 6), ('Nelson_Selgado', 2), ('Nepali_wizard', 29), ('Nerida_Vulchanova', 7), ('Nerissa_Brody', 23), ('Nerys_Orpington', 2), ('Neville_Longbottom', 643), ('Nevin', 2), ('Newspaper_seller', 2), ('Newton_Scamander', 423), (\"Newton_Scamander's_Qilin\", 5), ('Ngapo_Ponika', 145), ('Nicholas_de_Mimsy-Porpington', 247), (\"Nicholas_de_Mimsy-Porpington's_doorman\", 5), (\"Nicholas_de_Mimsy-Porpington's_executioner\", 2), (\"Ghost_who_played_Sir_Nicholas_de_Mimsy-Porpington's_executioner\", 1), ('Nicholas_Malfoy', 17), ('Nicholas_Saunders_(in-universe)', 1), ('Nick_Alas', 1), ('Nick_Clegg', 4), ('Nicolas_Flamel', 134), ('Nicolas_Grimmett', 88), ('Nicolaus_Copernicus', 5), ('Nienna_Robins', 49), ('Nigel', 3), (\"Nigel's_nephew\", 1), (\"Nigel's_nephew's_father\", 1), (\"Nigel's_wife\", 1), ('Nigel_Wolpert', 92), (\"Nigel_Wolpert's_owl\", 1), ('Nigel_Wroxton', 28), ('Night_maid_at_the_Leaky_Cauldron', 23), ('Nikola_Vassileva', 146), ('Niko_Nenad', 147), ('Niles_Hanley', 1), ('Ninon_Saucet', 316), ('N._Newzer', 4), ('Nobby', 7), ('Nobby_Leach', 78), ('Noltie', 25), ('Norberta', 24), ('Noriko_Sato', 152), ('Noriyuki_Sato', 317), ('Norman_Tuttle', 1), ('Norvel_Twonk', 281), ('Norville_Bezerko', 4), ('Norwegian_Minister_for_Magic_in_1932', 5), ('Nott', 118), ('Nozéa_Lestrange', 13), ('Smeltings_nurse', 1), ('Nymphadora_Tonks', 373), ('NYPD_Police_Officer_No._247', 1), ('Oakden_Hernshaw', 2), ('Oakden_Hobday', 7), ('Oblansk', 3), ('Octavia_Xeep', 5), ('Octavius_Pepper', 1), ('Odbert', 42), (\"Odbert's_father\", 2), ('Odile_Perrot', 29), ('Odo', 8), ('Odysseus', 2), ('Ogg', 216), ('Olaf', 4), ('Olaf_Andersen', 317), ('Old_Man_in_Portrait', 26), (\"Old_man's_donkey\", 17), ('Old_Mother_Hubbard', 245), ('Old_Posh_Baron', 48), ('Olin_Oakwood', 4), ('Olive_Hornby', 5), ('Oliver_Cartwright', 3), ('Oliver_Rivers', 12), ('Oliver_Wiseman', 1), ('Oliver_Wood', 754), ('Olivia_Green', 250), ('Olivier_Kikkert', 33), ('Ollie', 5), (\"Garrick_Ollivander's_daughter\", 2), (\"Garrick_Ollivander's_son\", 2), ('Ollivander_(382_B.C._era)', 9), ('Olympe_Maxime', 179), (\"Olympe_Maxime's_father\", 3), (\"Olympe_Maxime's_mother\", 3), ('Omar_Abasi', 79), ('Oona', 3), ('Oona_Ballington', 265), ('Orabella_Nuttley', 137), ('Oraclitus_Spheer', 81), ('Orford_Umbridge', 21), ('Orion_Amari', 269), ('Orion_Black', 57), ('Orsino_Thruston', 250), ('Oswald_(Niffler)', 2), ('Oswald_Beamish', 246), ('Otmar_Frick', 316), ('Ottaline_Gambol', 77), ('Otto_Bagman', 7), ('Otto_Eduard', 2), ('Otto_Obermeier', 4), ('Over-attentive_wizard', 1), ('Overweight_Ministry_of_Magic_worker', 27), ('Owen_Anthony', 264), ('Owner_of_7_Privet_Drive', 3), ('Owner_of_the_Railview_Hotel', 2), ('Picasso', 3), ('Padma_Patil', 176), ('Painting_of_a_caged_monkey', 49), ('Painting_of_a_hippopotamus', 50), ('Painting_of_an_elephant', 50), ('Painting_of_a_tiger', 49), ('Painting_of_a_wolfhound', 27), ('Painting_of_sinister-looking_monks', 37), ('Paloma_Proudfoot', 86), ('Pamela_Alton', 4), (\"Pamela_Alton's_mother\", 1), ('Pandora_Lovegood', 11), ('Panju_Weasley', 10), ('Pansy_Parkinson', 235), ('Paper_shop_girl', 5), ('Parkin_(Seeker)', 317), ('Parkin_(Beater_I)', 317), ('Parkin_(Beater_II)', 317), ('Parkin_(Chaser_I)', 317), ('Parkin_(Chaser_II)', 317), ('Parkin_(Chaser_III)', 317), ('Parkin_(Keeper)', 317), ('Parvati_Patil', 118), ('Patricia_Rakepick', 302), (\"Patricia_Rakepick's_mother\", 3), ('Patricia_Stimpson', 1), ('Patrick', 2), ('Patrick_Bagby', 3), ('Patrick_Delaney-Podmore', 5), ('Patrick_Fincher', 1), ('Paul_Mawdesley', 22), ('Paul_Stark', 1), (\"Peasant_woman's_granddaughter\", 17), ('Peasant_woman', 46), ('Peeves', 202), ('Pelowski', 2), ('Penelope_Clearwater', 105), ('Penelope_Fawley', 116), (\"Penelope_Fawley's_father\", 55), (\"Penelope_Fawley's_mother\", 57), ('Penelope_Taylor', 3), ('Penny_Haywood', 172), ('Percival_Dumbledore', 17), ('Percival_Graves', 102), ('Percival_Pratt', 30), ('Percival_Shacklehorn', 4), ('Percy_Weasley', 331), ('Peregrine', 26), ('Peregrine_Derrick', 266), ('Perenelle_Flamel', 6), ('Perkins', 100), ('Perpetua_Fancourt', 250), ('Perseus_Ecklington', 4), ('Perseus_Parkinson', 79), ('Peter', 70), ('Peter_Blotting', 45), ('Peter_Hansen', 317), ('Peter_Jones', 6), ('Peter_Pettigrew', 323), (\"Peter_Pettigrew's_unidentified_victims\", 9), ('Petrova_Porskoff', 316), ('Petunia_Dursley', 78), ('Phelan_Noel', 264), ('Philbert_Chivers', 75), ('Philbert_Deverill', 2), ('Philip', 2), ('Philip_K.', 1), ('Phillip_Montgomery', 5), ('Phillipus_von_Hohenheim', 266), ('Phineas_Black', 53), ('Phineas_Bourne', 77), ('Phineas_Fletcher', 2), ('Phineas_Nigellus_Black', 307), ('Phoebe_Black', 7), ('Phoebus_Penrose', 15), ('Phyllida_Spore', 237), ('Pickett', 41), ('Pidgron_sisters', 6), ('Pierre_Bonaccord', 34), ('Piers_Polkiss', 12), ('Pigwidgeon', 16), ('Pike', 17), ('Pippa_Macmillan', 9), ('Pitts', 227), ('Pius_Thicknesse', 274), (\"Pius_Thicknesse's_sycophants\", 39), ('Poderick_Crookshank', 9), ('Poderick_Cruickshank', 4), ('Podric_Batworthy', 3), ('Podric_Batworthy_XXIII', 57), ('Podric_Piles', 213), ('Poliakoff', 7), ('Pollux_Black', 83), ('Polly_Chapman', 5), ('Pomona_Sprout', 390), ('Poppy', 12), ('Poppy_Caxton', 29), ('Poppy_Pomfrey', 374), ('Poppy_Sweeting', 2), ('Porpentina_Goldstein', 159), ('Porteus_Knatchbull', 78), ('Portly_ghost', 6), ('Portrait_of_a_family', 6), ('Portrait_of_a_female_etiquette_teacher', 35), ('Painting_of_a_giraffe', 50), ('Portrait_of_a_group_of_journeying_wizards', 49), ('Portrait_of_a_group_of_women_in_crinolines', 37), (\"Portrait_of_a_Healer_in_St_Mungo's_Hospital\", 1), ('Portrait_of_a_mad_old_man', 26), ('Portrait_of_a_male_nurse_in_the_hospital_wing', 16), ('Portrait_of_a_man_on_a_flying_carpet', 26), ('Portrait_of_a_mermaid', 4), ('Portrait_of_a_mother_and_baby', 50), ('Portrait_of_a_Professor', 127), ('Portrait_of_a_Quidditch_player', 37), ('Portrait_of_a_scholar', 17), ('Portrait_of_a_sleeping_hermit', 26), ('Portrait_of_a_witch_flying_to_the_moon', 51), ('Portrait_of_a_witch_in_green', 27), ('Portrait_of_a_witch_in_Pompadour_hairstyle', 27), ('Portrait_of_a_wizard_in_black', 27), ('Portrait_of_a_wizard_in_black_flowing_robes', 51), ('Portrait_of_a_wizard_in_blue', 49), ('Portrait_of_a_wizard_in_red', 27), ('Portrait_of_a_wizard_with_a_broomstick', 49), ('Portrait_of_a_wizard_with_a_walrus_moustache', 48), ('Portrait_of_people_watching_Quidditch', 47), ('Portrait_of_three_young_ladies', 49), ('Portrait_of_two_lovers_in_a_graveyard', 49), ('Portrait_of_wailing_women', 26), ('Portrait_of_a_witch_in_a_meadow', 1), ('Portrait_of_a_female_nurse_in_the_hospital_wing', 16), ('Potage', 65), ('Potions_Club_girl', 9), (\"Potters'_cat\", 6), ('P._Oxley', 2), ('Prendergast', 217), ('Prentiss_Pagett-Goggins', 5), ('Priest_who_comforted_Nicholas_de_Mimsy-Porpington', 2), ('British_Prime_Minister_in_1996', 17), (\"Prime_Minister's_predecessor\", 3), (\"Prime_Minister's_niece\", 2), (\"Prime_Minister's_political_opponent\", 6), ('Primpernelle', 42), ('Primrose_Jorkins', 10), ('Pringle', 151), ('Priscilla_Dupont', 76), ('Marazion', 3), ('Pronk', 30), ('Proudfoot', 100), ('Prudence', 4), ('Ptolemy', 5), ('Pucine_Lestrange_(I)', 21), ('Pucine_Lestrange_(II)', 14), ('Puddifoot', 62), ('Pyotr_Vulchanov', 319), ('Pyrites', 63), ('Pythagoras', 1), ('Queenie_Goldstein', 159), ('Maeve', 246), ('Quentin_Kowalski', 323), ('Quentin_Trimble', 228), ('Quiac_Marinus', 28), ('Quigley', 316), ('Quintia_McQuoid', 77), ('Quintia_Qarase', 316), ('Quintilla_Lestrange', 18), ('Quintius_MacBoon', 4), ('Quintius_Umfraville', 1), ('Quintus_Stranger', 1), ('Quirinus_Quirrell', 349), ('Quong_Po', 246), ('Rabastan_Lestrange', 126), ('Rachel', 70), ('Raczidian', 5), ('Radolphus_Lestrange', 81), ('Radolphus_Pittiman', 5), ('Radulf', 317), ('Rafael_Santos', 320), ('Ghost_of_a_ragged_man_wearing_chains', 5), ('Ragmar_Dorkins', 3), ('Ragnok', 49), ('Ragnok_the_Pigeon-Toed', 2), ('Ragnuk', 11), ('Rahul_Tandel', 2), ('Ralph_Heidelberger', 318), ('Ralston_Potter', 16), ('R._Amorim_(British)', 46), ('R._Amorim_(American)', 6), ('Rancorous_Carpe', 218), ('Randolph_Burrow', 264), ('Randolph_Keitch', 36), ('Randolph_Pauncefoot', 1), ('Randolph_Spudmore', 2), ('Ranrok', 14), ('Raul_Almeida', 319), ('Ravenclaw_Lad_(I)', 1), ('Ravenclaw_Wizard_Duelling_Champion', 3), (\"Ravenclaw_Wizard's_Chess_champion\", 1), ('Rawya_Zaghloul', 2), ('Raymond', 3), (\"Raymond's_kitten\", 3), ('Raymund_Lambus', 2), ('Raza_Mohammad', 1), ('Rebecca', 70), ('Red', 84), ('Red_Cap_in_the_Forbidden_Forest', 9), ('Red-haired_Muggle_boy', 5), ('Red-haired_young_witch', 11), (\"Red-haired_young_witch's_friends\", 3), ('Reggie_Page', 7), ('Reginald_Cattermole', 44), ('Reginald_Heartachus', 2), ('Reginald_Oddpick', 14), ('Regina_Rowle', 30), ('Regulus_Black', 417), ('Regulus_Black_I', 48), ('Regulus_Moonshine', 78), ('Remus_Lupin', 450), ('Remy_Olivier', 264), ('Retch', 213), ('Reynard_Gage', 23), ('Rhonda_Fladbury', 70), ('Ricbert', 46), ('Richard_Carter', 264), ('Richard_Griffiths_(in-universe)', 1), ('Richard_I', 8), ('Richard_Sky', 264), ('Wealthy_man_who_owned_the_Riddle_House', 2), (\"Riddles'_cook\", 1), (\"Riddles'_maid\", 2), ('Riley_Frazer', 264), (\"Rionach_O'Neal\", 9), ('Rionach_Sayre', 20), ('Rionach_Steward', 32), ('Ripper', 12), ('Rita_Skeeter', 284), ('Ritchie_Coote', 269), ('Riya_Patel', 101), ('R._J._H._King', 133), ('Robbie_Fenwick', 9), ('Robert_Bliss', 2), ('Robert_Green', 318), ('Robert_Grimsditch', 84), ('Robert_Hawking', 88), ('Robert_Hilliard', 96), ('R._L._Stevenson', 1), ('Robert_McGonagall_Junior', 17), ('Robert_McGonagall_Senior', 21), (\"Robert_McGonagall_Senior's_friends\", 3), ('Roberts_children', 3), ('Robertus_Tallis', 3), ('Robert_Wood', 2), ('Robin_Higgy', 264), ('Robyn_Thistlethwaite', 11), (\"Robyn_Thistlethwaite's_roommate\", 2), ('Roddy_Pontner', 1), ('Roderick_Seaton', 4), ('Rodolphus_Lestrange', 145), ('Roderick_Plumpton', 561), ('Roger_Davies', 274), (\"Roger_Davies's_girlfriend\", 3), ('Roger_Malone', 9), ('Rogue_alchemist', 82), ('Roland_Abberley', 3), ('Rolanda_Hooch', 262), ('Roland_Kegg', 245), ('Rolf_Scamander', 70), ('Romanian_vampire', 2), ('Romilda_Goshawk', 8), (\"Romilda_Vane's_grandmother\", 2), ('Romilda_Vane', 151), ('Ronald_Weasley', 1030), ('Ronan', 8), ('Rosa_Karasu', 10), ('Rosalind_Bungs', 2), ('Rosana_Amorim', 1), ('Rose_Granger-Weasley', 322), ('Rose_Wax', 1), ('Rosie', 1), ('Rosier_(male)', 118), ('Rosmerta', 88), (\"Rosmerta's_cat\", 3), (\"Rosmerta's_dog\", 5), ('Ross_(woman)', 9), ('Ross_(Crup)', 5), ('Ross_Gibberd_(II)', 3), ('Ross_Gibberd_(I)', 2), ('Rowan_Khanna', 78), (\"Rowan_Khanna's_brother\", 3), (\"Rowan_Khanna's_uncle\", 2), ('Rowboat_owner', 4), ('Rowena_Ravenclaw', 480), ('Rowena_Rowle', 10), ('Roxanne_Weasley', 53), ('Roy', 72), ('Royden_Poke', 23), ('Royston_Idlewind', 35), (\"R's_second_messenger\", 1), ('Rubens_Winikus', 79), ('Rubeus_Hagrid', 579), (\"Rubeus_Hagrid's_Ashwinder\", 3), (\"Rubeus_Hagrid's_Crups\", 3), (\"Rubeus_Hagrid's_Occamy\", 3), ('Ruby_(witch)', 87), ('Rudolf_Brand', 4), ('Rudolph_Spielman', 46), ('Rufus_Foster', 4), ('Rufus_Fudge', 99), ('Rufus_Scrimgeour', 210), ('Rufus_Winickus', 264), ('Runcorn', 3), ('Rupert_Brookstanton', 3), ('Russell_Lucky', 264), ('Rutherford_Poke', 75), ('Ruth_Mina', 7), ('Ruth_Winikus', 2), ('Ryan_Henry', 264), ('Ryan_Westrup', 88), ('Ryotaro_Tanaka', 317), ('Ryuichi_Yamaguchi', 145), ('Sabre', 46), ('Sacharissa_Tugwood', 314), ('Sage_Bragnam', 29), ('Sage_Kelleen', 264), ('Brutus', 1), ('Oswald', 2), ('Salazar_Slytherin', 431), ('Sally-Anne_Perks', 5), ('Sally_Birchgrove', 1), ('Sally_Smith', 8), ('Salomé_Lestrange', 13), ('Sam_(Obliviator)', 88), ('Sam_(dog)', 2), ('Samson_Wiblin', 2), (\"Sam's_owner\", 2), ('Samuel_Equiano', 316), ('Samuel_G._Quahog', 88), ('Samuel_Plunkett', 4), ('Sanguini', 5), ('Sanjay_Shanker', 29), (\"Sanjay_Shanker's_daughter\", 1), ('Sara_Farnham', 3), ('Saranna_Wilkinson', 84), ('Saul_Croaker', 19), ('Savage', 96), ('Scabior', 117), (\"Scamander_brothers'_father\", 2), ('Scarlett_Lympsham', 1), ('Scarlett_Sparks', 3), ('Scarpin', 36), ('Scorpius_Malfoy', 87), ('Scott_Ancrum', 5), ('Scouthibou', 4), ('Scrivenshaft', 53), ('Seamus_Finnigan', 171), ('Sean_Miller', 2), ('Sean_Ogbourne', 1), ('Sean_Peakes', 6), ('Sea_Serpent_of_Cromer', 2), ('Sebastian', 2), ('Sebastian_Sallow', 13), ('Sebastien_Perrot', 23), ('Second_semi-finalist_of_the_1379_duelling_contest', 8), ('Secret_student_sweetshop_manager', 1), ('Selina', 3), ('Selina_Sapworthy', 44), ('Selwyn', 143), ('Sendelina_de_la_Felino', 317), ('Septima_Vector', 226), ('Septimus_Malfoy', 22), ('Septimus_Weasley', 63), ('Seraphina_Bones', 3), ('Seraphina_Picquery', 108), ('Serpent_of_Slytherin', 172), ('Seventh-floor_corridor_Gryffindor_Prefect', 5), ('Severus_Snape', 659), ('Fawcett', 77), ('Shafiq_(1920s)', 4), ('Shanice_Higgins', 316), ('Shawn_Morris', 1), ('Sheila_Brooks', 1), ('Shepherdess', 32), ('Shifty_wizard', 1), ('Shikoba_Wolfe', 8), ('Shimmy_Hardoteer', 42), ('Shintaro_Shingo', 149), ('Shizuka_Watanabe', 317), ('Shoma_Ichikawa', 70), ('Shrunken_heads_in_the_Three_Broomsticks', 6), ('Sickleworth', 51), ('Sidley_Smirk_Platter', 45), ('Sidney_Todd', 2), ('Sigrid_Kristoffersen', 4), ('Silas_Crump', 3), (\"Silas_Crump's_cat\", 1), ('Silvanus_Kettleburn', 300), (\"Silvanus_Kettleburn's_Bowtruckle\", 4), (\"Silvanus_Kettleburn's_Chimaera\", 4), (\"Silvanus_Kettleburn's_father\", 1), (\"Silvanus_Kettleburn's_mother\", 1), (\"Silvanus_Kettleburn's_twelve_Nifflers\", 1), ('Silvia', 2), ('Silvio_Astolfi', 5), ('Simeon_Woderuff', 3), ('Simon_Dedworth_(II)', 2), ('Simon_Dedworth_(I)', 2), ('Simon_Dentata', 1), ('Sinistra', 3), ('Sinistra_Lowe', 2), ('Bedivere', 7), ('Elric_Parpidum', 9), ('Sirius_Black_I', 23), ('Sirius_Black_II', 62), ('Sirius_Black', 350), (\"Sirius_Black's_barn_owl\", 3), (\"Sirius_Black's_owl\", 3), ('Lancelot_(knight)', 7), ('Sir_Luckless', 52), ('Menzies', 4), ('Percivale', 7), ('Sir_Ribbithe', 8), ('Winogrand', 28), ('Sixth-year_Inquisitorial_Squad_member', 9), ('Skender', 8), ('Skower', 77), ('Skye_Parkin', 275), (\"Skye_Parkin's_cousin\", 1), ('Skylar_Flame', 4), ('Sloan_Travers', 6), ('Slytherin_boy_who_drank_a_botched_potion', 3), ('Slytherin_Duelling_Club_Captain', 71), ('Slytherin_student_that_blames_Harry_Potter_(I)', 3), ('Slytherin_student_that_blames_Harry_Potter_(II)', 3), ('Slytherin_Wizard_Duelling_Champion', 3), (\"Slytherin_Wizard's_Chess_champion\", 1), ('Smirnoff', 1), ('Smoky-eyed_Potions_professor', 281), ('Snaglok', 41), ('Snickerton', 2), ('Snowy', 8), ('Sofie', 4), ('Sol_Campbell', 4), ('Sophia_Prickett', 132), ('Sophie_Roper', 1), ('Sotère_Lestrange', 5), ('Sparky', 1), ('Spellman', 5), (\"Sphinx_in_the_Red_Cap's_Hole\", 2), ('Squat_wizard_in_a_purple_pork-pie_hat', 2), ('Squawk', 8), ('Stamford_Jorkins', 38), ('Stanley', 7), ('Stanley_Shunpike', 128), ('Staring_Muggle', 2), ('Staring_Portrait', 94), ('Stebbins_(1990s_Hogwarts_student)', 7), ('Stebbins_(1970s_Hogwarts_student)', 5), ('Stebbins_(Auror)', 9), ('Stefan_Hoghedge', 1), ('Stephen_Cornfoot', 10), ('Stephen_Gould', 264), ('Stephen_Hawking', 11), ('Steve_McClaren', 4), ('Steve_Laughalot', 264), ('Stevens', 2), ('Stewart', 71), ('Stewart_Ackerley', 1), (\"St_Mungo's_Welcome_Witch\", 37), ('Stoddard_Withers', 245), ('Portrait_at_the_Storeroom_(sixth_floor)', 16), ('Stormswift', 1), ('Stoyanka_Grozda', 145), ('Stuart_Craggius', 3), ('Stuart_Craggy', 267), ('Stuart_Hogg', 4), ('Stuart_Jones', 1), ('Stubby_Boardman', 9), ('Stunned_Death_Eater', 2), ('Sturgis_Podmore', 152), ('Sue_Li', 2), ('Sujita_Tande', 2), ('Sullivan_Fawley', 1), ('Summers', 1), ('Susan_Blancheflower', 5), ('Susan_Bones', 109), ('Susanna_Hesleden', 2), (\"Susanna_Hesleden's_mother\", 1), ('Susie_Sooth', 22), ('Swoopstikes', 220), ('Sybill_Trelawney', 393), (\"Sybill_Trelawney's_cat\", 2), ('Sylvian_Boigny', 147), ('Sylvian_Jolicoeur', 316), ('Syna_Hyslop', 36), ('Tabitha_Tabella', 1), ('Talbott_Winger', 58), (\"Talbott_Winger's_father\", 5), (\"Talbott_Winger's_mother\", 52), ('Tall_goblin', 45), ('Tamotsu_Iwamoto', 317), ('Tamsin_Applebee', 264), ('Tangwystl_Goshawk', 8), ('Tanner_Van_Burm', 264), ('Tarquin_McTavish', 6), (\"Tarquin_McTavish's_neighbour\", 1), ('Tarragon', 2), ('Ted', 3), ('Teddy_(Niffler)', 28), ('Teddy_Taylor', 2), ('Teffington', 27), ('Temeritus_Shanks', 99), (\"Temeritus_Shanks's_owl\", 1), ('Tenebrus', 1), ('Terence_Higgs', 266), ('Terrence_Fogarty', 3), ('Terry_Boot', 136), ('Terry_Chloe', 8), ('Terry_Skeres', 1), ('Terry_Strickland', 88), ('Tertius', 43), (\"Tertius's_brothers\", 2), ('Tessie', 25), ('Thaddeus_Thurkell', 254), ('Bloody_Baron', 71), ('Fallen_Fifty', 24), ('The_Fates', 2), ('Fat_Friar', 59), ('Fat_Lady', 75), (\"The_Maiden's_kinsfolk\", 17), ('Theodard_Fontaine', 86), ('Theodore', 1), ('Theodore_Nott', 130), ('Theophilus_Abbot', 1), ('Theopholos_Malentus', 1), ('Theresa_Stadt', 2), ('Theseus_Scamander', 152), ('Thestral_at_the_Magical_Creatures_Reserve', 45), ('Thiago_Quintana', 6), ('Third-floor_corridor_Slytherin_Prefect_(I)', 44), ('Third-floor_corridor_Slytherin_Prefect_(II)', 43), ('Third_semi-finalist_of_the_1379_duelling_contest', 7), ('Thomas_McGruder', 1), ('Thomas_Paley', 3), ('Thomas_Riddle', 16), ('Thomas_Vace', 2), ('Thorfinn_Rowle', 135), ('Thorin', 1), ('Thornton_Harkaway', 84), ('Thorsten_Pfeffer', 319), ('Barman_at_the_Three_Broomsticks', 28), ('Waiter_at_the_Three_Broomsticks', 56), ('Three_unidentified_Snatchers_who_disintegrated_during_the_Battle_of_Hogwarts', 1), ('Thurkell_brothers', 2), ('Tiago_Montoya', 317), ('Tiberius', 12), ('Tiberius_Ogden', 28), ('Tiffin', 3), ('Tilden_Toots', 104), ('Tilly_Monk', 6), ('Tilly_Toke', 246), ('Tim', 1), ('Tim_(Wampus_cat)', 11), ('Timothy_Blenkinsop', 3), ('Timothy_Butler', 2), ('Timothy_Hale', 52), ('Timothy_Justin', 264), ('Timothy_Morcott', 2), ('Timothy_the_Timid', 51), ('Tina_Lundstrom', 317), ('Titus', 13), ('Titus_Mitcham', 1), ('Toad_Toazer', 1), ('Tobias_Misslethorpe', 17), ('Tobias_Snape', 16), ('Tobias_Stump', 218), ('Toby_Lennox_(Ravenclaw)', 1), ('Todd_Cribb', 8), ('Tofty', 30), ('Tom_(Bowtruckle)', 11), ('Tom_(vandal)', 1), ('Tom', 51), ('Tom_Riddle', 622), ('Tom_Monk', 6), ('Tom_Riddle_Senior', 41), ('Tom_Stevens', 1), ('Tony_Silva', 318), ('Torquil_McTavish', 7), ('Torquil_Travers', 117), ('Torvus', 16), (\"Torvus's_father\", 1), ('Tracey_Davis', 4), ('Tracey_Nettlebed', 2), ('Trading_Card_Shop_shopkeeper', 21), ('Transylvanian_farmer', 2), ('Transylvanian_Head_of_Magical_Co-operation', 4), ('Travers', 215), ('Trev_Mallory', 264), ('Trevor', 22), ('Trevor_Birch', 75), ('Trinity_Lynn', 264), ('Trio_of_Red_Caps', 1), ('Trismus', 27), ('Tristan', 2), ('Trocar', 213), ('Troll_at_the_Training_Grounds', 1), ('Trolley_witch', 23), ('Troll_in_the_Bathroom', 21), ('Troll_in_the_Underground_Chambers', 8), ('Troy', 316), ('Troy_Duvall', 316), ('Tufty', 9), ('Tulip_Karasu', 50), (\"Tulip_Karasu's_father\", 53), (\"Tulip_Karasu's_mother\", 53), ('Two_little_witches', 2), ('Tycho_Dodonus', 24), ('Uagadou_potions_champion', 2), ('Uchi_Akimbo', 1), ('Ugga', 316), ('Ug_the_Unreliable', 246), ('Ulick_Gamp', 83), ('Unctuous_Osbert', 76), ('Unicorn_at_the_Magical_Creatures_Reserve', 48), (\"Unicorn_at_the_Magical_Creatures_Reserve's_mate\", 4), (\"Mundungus_Fletcher's_associate\", 1), ('Fiery_Death_Eater', 1), ('Evil_sorcerer', 46), (\"Poppy_Pomfrey's_Death_Eater_Opponent\", 6), ('Gimlet-eyed_Hogwarts_Headmistress', 216), ('Boy_2', 2), ('Pink-faced_Hogwarts_Headmaster', 213), (\"Jacob's_sibling\", 297), ('Hufflepuff_boy_that_blames_Harry_Potter_(I)', 3), ('Squat,_wheezy_man', 11), ('Little_Hangleton_milkman', 4), ('NYPD_Police_Officer_No._743', 1), (\"Amycus_Carrow's_successor\", 111), (\"Gilbert_Bingley's_secretary\", 2), (\"Bitten_St_Mungo's_patient\", 38), (\"Grubby-looking_St_Mungo's_patient\", 37), ('Hogwarts_student_that_blamed_Harry_Potter', 1), ('Three_Aurors_who_tried_to_arrest_Rubeus_Hagrid', 6), ('Woman_tended_by_bald_man', 1), (\"Freckle-faced_six-year-old's_father\", 1), ('Gryffindor_boy_who_fetched_Harry_Potter', 4), (\"Oliver_Wood's_friends\", 2), ('Woman_at_Wedding_of_Bill_and_Fleur', 3), (\"Marjorie_Dursley's_unknown_eleven_bulldogs\", 2), ('Unnamed_Kwidditch_players', 1), ('Urgruff_the_Unwary', 5), ('Urg_the_Unclean', 249), ('Uric_Oapley', 213), ('Uric_the_Oddball', 256), ('Urquhart', 268), ('Urquhart_Rackharrow', 1), ('Ursula_Flint', 50), ('Vaisey', 264), ('Valentina_Vázquez', 2), ('Valeria_Myriadd', 293), ('Valmai_Morgan', 3), ('Vampire_in_Minsk', 1), ('Vargot', 1), ('Vasco_Santini', 316), ('Vasily_Dimitrov', 317), ('Vaults_Guardian', 42), ('Vekey', 214), ('Venusia_Crickerly', 74), ('Verity', 43), ('Vernon_Dursley', 91), (\"Vernon_Dursley's_secretary\", 2), ('Veronica_Smethley', 4), ('Veronica_Vexmoor', 2), ('Verucca_Buckthorn-Snyde', 30), ('Vibes_Twins', 1), ('Vicência_Santos', 24), ('Vicky_Bishopper', 264), ('Vicky_Frobisher', 129), ('Victoire_Weasley', 67), ('Victor', 7), ('Victor_Gridley', 13), ('Victoria', 11), ('Victor_Ketsueki', 18), ('Victor_Rookwood', 8), ('Herbert', 13), ('Vietch', 28), ('Viking_Girl', 1), ('Vikram_Thakur', 28), ('Viktor_Krum', 380), (\"Viktor_Krum's_grandfather\", 3), ('Villanelle', 51), ('Vincent_Crabbe', 401), ('Vinda_Rosier', 58), ('Vindictus_Viridian', 295), ('Violet', 52), ('Violeta_Stitch', 36), ('Violet-cloaked_wizard', 8), ('Violetta_Beauvais', 9), ('Violetta_Bulstrode', 64), ('Violetta_Hobday', 6), ('Violet_Tillyman', 7), (\"Violet_Tillyman's_mother\", 3), (\"Violet_Tillyman's_children\", 4), ('Virginia_Flowers', 2), ('Visitor_of_the_Three_Broomsticks_Inn', 2), ('Vlad_Drakul', 251), ('Vladimir_Plot', 53), ('Vlad_the_Impaler', 5), (\"Anton_Vogel's_bodyguard\", 1), ('Vulpus', 227), ('Wagga_Wagga_Werewolf', 7), ('Wailing_Widow', 4), ('Wainscott', 213), ('Waiter_in_The_Leaky_Cauldron', 1), ('Decorative_waiter_serving_dragon_tartare', 7), (\"Waiters_at_William_Weasley_and_Fleur_Delacour's_wedding\", 2), ('Waiter_serving_dragon_tartare', 3), ('Waitress_at_Luchino_Caffe', 6), ('Waitress_at_Treats', 1), ('Wakanda', 31), ('Walburga_Black', 69), ('Walden_Macnair', 147), ('Walker_(Hogwarts_student)', 1), ('Wallace_Lassiter', 1), ('Wally_Wimbles', 53), ('Walter_Aragon', 227), ('Walter_Crane', 2), ('Walter_Parkin', 12), ('Wandkeeper', 26), ('Wandless', 13), (\"Warlock_(The_Warlock's_Hairy_Heart)\", 18), (\"The_Warlock's_friends\", 17), (\"Myrtle_Warren's_father\", 4), (\"Warrington_sisters'_father\", 2), (\"Warrington_sisters'_grandmother\", 2), ('Warty_Harris', 3), ('Wayne_Hopkins', 5), ('W._de_S._Trenholm', 2), (\"Weasley_children's_cousin\", 16), (\"Weasley_children's_uncle\", 13), ('Weasley_family_chickens', 7), ('Weasley_family_ghoul', 14), ('Weasley_family_Puffskein', 7), ('Webster_Boot', 31), ('Weeoanwhisker', 20), ('Wendelin_the_Weird', 260), ('Wendy_Slinkhard', 4), ('Westenberg', 141), ('Wigby', 213), ('Wiggins', 73), ('Wilbert_Slinkhard', 6), ('Wilda_Griffiths', 319), ('Wilfred_Kidd_Senior', 2), ('Wilfred_Levi_Kidd', 17), ('Wilfred_the_Wistful', 14), ('Wilhelm_Fischer', 86), ('Wilhelmina_Grubbly-Plank', 222), ('Wilhelmina_Tuft', 74), ('Wilhelm_Wigworthy', 1), ('Wilkes', 109), ('Wilkie_Twycross', 15), ('Will', 7), ('William_(Pukwudgie)', 21), ('William_(Hogwarts_student)', 4), ('William_Alderton', 6), ('William_Weasley', 368), ('William_Friend', 6), ('William_III', 10), ('Bill_Clinton', 2), ('William_Sayre', 17), ('William_Shakespeare', 24), ('Williamson', 98), ('William_McGonagall', 4), ('Willi_Wenzel', 316), ('Willy_Widdershins', 15), (\"Winged_St_Mungo's_patient\", 36), ('Winifred_Haywood', 5), ('Winifred_Warrington', 80), ('Winifred_Whittle', 9), ('Winkus_Oddpick', 47), ('Winky', 359), ('Winky_Crockett_(Gryffindor)', 3), ('Winky_Crockett_(Slytherin)', 266), (\"Winky's_grandmother\", 2), (\"Winky's_mother\", 2), ('Winston', 2), ('Winston_Churchill', 13), (\"Winston's_niece\", 2), ('Witch_and_Wizard_Couple', 25), ('Witch_with_a_hairy_chin', 2), ('Wizard_(The_Wizard_and_the_Hopping_Pot)', 47), ('Wizard_in_plus-fours', 16), ('Wizard_in_the_Leaky_Cauldron', 2), (\"Wizard's_father\", 18), ('Wizard_who_claimed_to_be_a_dragon_killer', 2), ('Wizard_who_claimed_to_be_a_Vampire_Hunter', 3), ('Wizard_who_killed_a_Chimaera', 1), ('Wladyslaw_Wolfke', 317), ('Wolfgang_Amadeus_Mozart', 6), ('Wool_woman', 3), ('Workmen_at_Tottenham_Court_Road', 6), ('Wyvern_of_Wye', 8), ('Xander_Lofthouse', 4), ('Xavier_Rastrick', 245), ('Xenophilius_Lovegood', 176), ('Yann_Fredericks', 11), ('Yardley_Platt', 245), ('Yaxley_(1920s)', 9), (\"Yaxley's_wife\", 4), ('Ya_Zhou', 34), ('Y._Blishen', 84), ('Ye_Olde_Curiosity_Shop_shopkeeper', 16), ('Yoshihiro_Suzuki', 319), ('Yoshi_Wakahisa', 145), ('Young_witch_maid', 21), ('Young_woman', 18), (\"Young_woman's_child\", 18), ('Yuri_Blishenov', 1), ('Yusuf_Kama', 48), ('Yvonne', 7), ('Yvonne_Bampton', 1), ('Zabini', 36), ('Zacharias_Smith', 333), ('Zamira_Gulch', 47), ('Zara_Valli', 29), ('Zenith_Xeep', 163), ('Zonko', 53), ('Zoo_director', 1), ('Zygmunt_Budge', 86), (\"Zygmunt_Budge's_great-grandmother\", 1), (\"Zygmunt_Budge's_sheep\", 1)]\n"
     ]
    }
   ],
   "source": [
    "print(G.degree)"
   ]
  },
  {
   "cell_type": "code",
   "execution_count": 195,
   "metadata": {},
   "outputs": [
    {
     "name": "stdout",
     "output_type": "stream",
     "text": [
      "The number of communities is 227\n"
     ]
    }
   ],
   "source": [
    "# Finding communities\n",
    "import networkx.algorithms.community as nx_community\n",
    "communities = nx_community.louvain_communities(G)\n",
    "\n",
    "no_comm = len(communities)\n",
    "print('The number of communities is ' + str(no_comm))"
   ]
  },
  {
   "cell_type": "code",
   "execution_count": 196,
   "metadata": {},
   "outputs": [
    {
     "data": {
      "text/plain": [
       "(None, None)"
      ]
     },
     "execution_count": 196,
     "metadata": {},
     "output_type": "execute_result"
    }
   ],
   "source": [
    "netwulf.interactive.visualize(G)"
   ]
  },
  {
   "attachments": {},
   "cell_type": "markdown",
   "metadata": {},
   "source": [
    "## Code snippet for webscraping of actual wikipedia"
   ]
  },
  {
   "cell_type": "code",
   "execution_count": 25,
   "metadata": {},
   "outputs": [],
   "source": [
    "for name in character_list:\n",
    "    name_url = name.replace(' ', '_')\n",
    "    url = f\"https://en.wikipedia.org/wiki/{name_url}\"\n",
    "\n",
    "    # Send request \n",
    "    response = requests.get(url)\n",
    "\n",
    "    # Exists? \n",
    "    if response.status_code == 200:\n",
    "        print(f\"{name}: Wikipedia page exists.\")\n",
    "    else:\n",
    "        print(f\"{name}: Wikipedia page does not exist.\")"
   ]
  }
 ],
 "metadata": {
  "kernelspec": {
   "display_name": "base",
   "language": "python",
   "name": "python3"
  },
  "language_info": {
   "codemirror_mode": {
    "name": "ipython",
    "version": 3
   },
   "file_extension": ".py",
   "mimetype": "text/x-python",
   "name": "python",
   "nbconvert_exporter": "python",
   "pygments_lexer": "ipython3",
   "version": "3.9.6"
  },
  "orig_nbformat": 4,
  "vscode": {
   "interpreter": {
    "hash": "3a5c5daede66250a52d758be5d57490f14f7efe1f4cb46e79440d68554ab5513"
   }
  }
 },
 "nbformat": 4,
 "nbformat_minor": 2
}
