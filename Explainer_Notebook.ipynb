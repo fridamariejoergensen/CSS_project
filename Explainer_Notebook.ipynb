{
 "cells": [
  {
   "cell_type": "code",
   "execution_count": 1,
   "metadata": {},
   "outputs": [
    {
     "name": "stderr",
     "output_type": "stream",
     "text": [
      "[nltk_data] Error loading stopwords: <urlopen error [SSL:\n",
      "[nltk_data]     CERTIFICATE_VERIFY_FAILED] certificate verify failed:\n",
      "[nltk_data]     unable to get local issuer certificate (_ssl.c:1129)>\n"
     ]
    }
   ],
   "source": [
    "from bs4 import BeautifulSoup\n",
    "import requests\n",
    "import nltk\n",
    "import math\n",
    "nltk.download('stopwords')\n",
    "import pandas as pd\n",
    "import pickle\n",
    "import pandas as pd\n",
    "import random\n",
    "import numpy as np\n",
    "import matplotlib.pyplot as plt\n",
    "import os\n",
    "import networkx as nx\n",
    "import networkx.algorithms.community as nx_community\n",
    "from nltk.corpus import stopwords\n",
    "import re\n",
    "import string\n",
    "from nltk.tokenize import word_tokenize\n",
    "import networkx.algorithms.community as nx_comm\n",
    "import netwulf\n",
    "import warnings\n",
    "warnings.filterwarnings(\"ignore\", category=RuntimeWarning)\n",
    "from sklearn.feature_extraction.text import CountVectorizer\n",
    "from wordcloud import WordCloud\n"
   ]
  },
  {
   "attachments": {},
   "cell_type": "markdown",
   "metadata": {},
   "source": [
    "# Webscraping \n",
    "Retrieving all character names from wikisite: \n",
    "\"https://en.wikipedia.org/wiki/List_of_Harry_Potter_characters\""
   ]
  },
  {
   "cell_type": "code",
   "execution_count": 70,
   "metadata": {},
   "outputs": [
    {
     "name": "stdout",
     "output_type": "stream",
     "text": [
      "['Hannah Abbott', 'Ludo Bagman', 'Bathilda Bagshot', 'Katie Bell', 'Cuthbert Binns', 'Phineas Nigellus Black', 'Sirius Black', 'Amelia Bones', 'Susan Bones', 'Terry Boot', 'Lavender Brown', 'Slytherin', 'Charity Burbage', 'Frank Bryce', 'Alecto Carrow', 'Amycus Carrow', 'Reginald Cattermole', 'Cho Chang', 'Percy Weasley', 'Crabbe', 'Vincent Crabbe', 'Colin Creevey', 'Dennis Creevey', 'Dirk Cresswell', 'Barty Crouch Sr', 'Barty Crouch Jr', 'John Dawlish', 'Fleur Delacour', 'Dedalus Diggle', 'Amos Diggory', 'Cedric Diggory', 'Elphias Doge', 'Antonin Dolohov', 'Aberforth Dumbledore', 'Albus Dumbledore', 'Ariana Dumbledore', 'Dudley Dursley', 'Marge Dursley', 'Petunia Dursley', 'Vernon Dursley', 'Marietta Edgecombe', 'Arabella Figg', 'Argus Filch', 'Justin Finch-Fletchley', 'Seamus Finnigan', 'Mundungus Fletcher', 'Filius Flitwick', 'Cornelius Fudge', 'Marvolo Gaunt', 'Merope Gaunt', 'Morfin Gaunt', 'Anthony Goldstein', 'Goyle', 'Gregory Goyle', 'Hermione Granger', 'Draco Malfoy', 'Eastern European', 'Fenrir Greyback', 'Gellert Grindelwald', 'Wilhelmina Grubbly-Plank', 'Godric Gryffindor', 'Rubeus Hagrid', 'Rolanda Hooch', 'Mafalda Hopkirk', 'Helga Hufflepuff', 'Angelina Johnson', 'Lee Jordan', 'Bertha Jorkins', 'Igor Karkaroff', 'Viktor Krum', 'Silvanus Kettleburn', 'Bellatrix Lestrange', 'Gilderoy Lockhart', 'Alice and Frank Longbottom', 'Augusta Longbottom', 'Neville Longbottom', 'Luna Lovegood', 'Xenophilius Lovegood', 'Remus Lupin', 'Walden Macnair', 'Draco Malfoy', 'Lucius Malfoy', 'Narcissa Malfoy', 'Draco Malfoy', 'Diagon Alley', 'Olympe Maxime', 'Ernie Macmillan', 'Minerva McGonagall', 'Horace Slughorn', 'Vanishing Cabinet', 'Alastor (Mad-Eye) Moody', 'Gaunt family', 'Garrick Ollivander', 'Pansy Parkinson', 'Padma Patil', 'Parvati Patil', 'Peter Pettigrew', 'Antioch, Cadmus, and Ignotus Peverell', 'Irma Pince', 'Sturgis Podmore', 'Poppy Pomfrey', 'Harry Potter', 'James Potter', 'Lily Potter', 'Quirinus Quirrell', 'Helena Ravenclaw/The Grey Lady', 'Rowena Ravenclaw', 'Harry Potter and the Cursed Child', 'Merope Gaunt', 'Lord Voldemort', 'Augustus Rookwood', 'Thorfinn Rowle', 'Albert Runcorn', 'Newt Scamander', 'Rufus Scrimgeour', 'Kingsley Shacklebolt', 'Stan Shunpike', 'Aurora Sinistra', 'Rita Skeeter', 'Horace Slughorn', 'Zacharias Smith', 'Severus Snape', 'Alicia Spinnet', 'Pomona Sprout', 'Pius Thicknesse', 'Dean Thomas', 'Andromeda Tonks', 'Nymphadora Tonks', 'Ted Tonks', 'Sybill Trelawney', 'Wilkie Twycross', 'Dolores Umbridge', 'Emmeline Vance', 'Septima Vector', 'Lord Voldemort', 'Myrtle Warren', 'Arthur Weasley', 'Bill Weasley', 'Charlie Weasley', 'Fred Weasley', 'George Weasley', 'Ginny Weasley', 'Molly Weasley', 'Percy Weasley', 'Ron Weasley', 'Oliver Wood', 'Corban Yaxley', 'Slytherin', 'Aragog', 'Bane', 'Beedle the Bard', 'The Bloody Baron', 'Gringotts', 'Buckbeak', 'Crookshanks', 'Dobby', 'Errol', 'Fang', 'The Fat Friar', 'The Fat Lady', 'Fawkes', 'Firenze', 'Fluffy', 'Gringotts', 'Grawp', 'Griphook', 'Hedwig', 'Hokey', 'Black family', 'Magorian', 'Great Aunt Muriel', 'Nagini', 'Nearly Headless Nick', 'Norbert', 'Peeves', 'Pigwidgeon', 'Madam Rosmerta', 'Ronan', 'Scabbers', 'Death Eater', 'Barty Crouch Sr']\n"
     ]
    }
   ],
   "source": [
    "# Characterlist from Wikipedia\n",
    "url = 'https://en.wikipedia.org/wiki/List_of_Harry_Potter_characters'\n",
    "response = requests.get(url)\n",
    "soup = BeautifulSoup(response.content, 'html.parser')\n",
    "\n",
    "# List for characters\n",
    "character_list = []\n",
    "content_div = soup.find('div', {'id': 'bodyContent'})\n",
    "for heading in content_div.find_all('h3'):\n",
    "    # find the <ul> tag immediately following this heading\n",
    "    character_ul = heading.find_next_sibling('ul')\n",
    "    for character_li in character_ul.find_all('li'):\n",
    "        # extract the character name from the <a> tag within the <li>, if it exists\n",
    "        character_a = character_li.find('a')\n",
    "        if character_a:\n",
    "            character_name = character_a.text\n",
    "            character_list.append(character_name)\n",
    "\n",
    "print(character_list)"
   ]
  },
  {
   "cell_type": "code",
   "execution_count": 71,
   "metadata": {},
   "outputs": [
    {
     "name": "stdout",
     "output_type": "stream",
     "text": [
      "['Hannah Abbott', 'Ludo Bagman', 'Bathilda Bagshot', 'Katie Bell', 'Cuthbert Binns', 'Phineas Nigellus Black', 'Sirius Black', 'Amelia Bones', 'Susan Bones', 'Terry Boot', 'Lavender Brown', 'Millicent Bulstrode', 'Charity Burbage', 'Frank Bryce', 'Alecto Carrow', 'Amycus Carrow', 'Reginald Cattermole', 'Cho Chang', 'Penelope Clearwater', 'Crabbe', 'Vincent Crabbe', 'Colin Creevey', 'Dennis Creevey', 'Dirk Cresswell', 'Winky', 'Barty Crouch Jr', 'John Dawlish', 'Fleur Delacour', 'Dedalus Diggle', 'Amos Diggory', 'Cedric Diggory', 'Elphias Doge', 'Antonin Dolohov', 'Aberforth Dumbledore', 'Albus Dumbledore', 'Ariana Dumbledore', 'Dudley Dursley', 'Marge Dursley', 'Petunia Dursley', 'Vernon Dursley', 'Marietta Edgecombe', 'Arabella Figg', 'Argus Filch', 'Justin Finch-Fletchley', 'Seamus Finnigan', 'Mundungus Fletcher', 'Filius Flitwick', 'Cornelius Fudge', 'Marvolo Gaunt', 'Tom Riddle Sr.', 'Morfin Gaunt', 'Anthony Goldstein', 'Goyle', 'Gregory Goyle', 'Hermione Granger', 'Astoria Greengrass', 'Gregorovitch', 'Fenrir Greyback', 'Gellert Grindelwald', 'Wilhelmina Grubbly-Plank', 'Godric Gryffindor', 'Rubeus Hagrid', 'Rolanda Hooch', 'Mafalda Hopkirk', 'Helga Hufflepuff', 'Angelina Johnson', 'Lee Jordan', 'Bertha Jorkins', 'Igor Karkaroff', 'Viktor Krum', 'Silvanus Kettleburn', 'Bellatrix Lestrange', 'Gilderoy Lockhart', 'Alice and Frank Longbottom', 'Augusta Longbottom', 'Neville Longbottom', 'Luna Lovegood', 'Xenophilius Lovegood', 'Remus Lupin', 'Walden Macnair', 'Astoria Greengrass', 'Lucius Malfoy', 'Narcissa Malfoy', 'Astoria Greengrass', 'Madam Malkin', 'Olympe Maxime', 'Ernie Macmillan', 'Minerva McGonagall', 'Cormac McLaggen', 'Graham Montague', 'Alastor (Mad-Eye) Moody', 'Gaunt family', 'Garrick Ollivander', 'Pansy Parkinson', 'Padma Patil', 'Parvati Patil', 'Peter Pettigrew', 'Antioch, Cadmus, and Ignotus Peverell', 'Irma Pince', 'Sturgis Podmore', 'Poppy Pomfrey', 'Harry Potter', 'James Potter', 'Lily Potter', 'Quirinus Quirrell', 'Helena Ravenclaw/The Grey Lady', 'Rowena Ravenclaw', 'Delphi Riddle', 'Tom Riddle Sr.', 'Thomas Marvolo Riddle', 'Augustus Rookwood', 'Thorfinn Rowle', 'Albert Runcorn', 'Newt Scamander', 'Rufus Scrimgeour', 'Kingsley Shacklebolt', 'Stan Shunpike', 'Aurora Sinistra', 'Rita Skeeter', 'Cormac McLaggen', 'Zacharias Smith', 'Severus Snape', 'Alicia Spinnet', 'Pomona Sprout', 'Pius Thicknesse', 'Dean Thomas', 'Andromeda Tonks', 'Nymphadora Tonks', 'Ted Tonks', 'Sybill Trelawney', 'Wilkie Twycross', 'Dolores Umbridge', 'Emmeline Vance', 'Septima Vector', 'Thomas Marvolo Riddle', 'Myrtle Warren', 'Arthur Weasley', 'Bill Weasley', 'Charlie Weasley', 'Fred Weasley', 'George Weasley', 'Ginny Weasley', 'Molly Weasley', 'Penelope Clearwater', 'Ron Weasley', 'Oliver Wood', 'Corban Yaxley', 'Millicent Bulstrode', 'Aragog', 'Bane', 'Beedle the Bard', 'The Bloody Baron', 'Gornuk', 'Buckbeak', 'Crookshanks', 'Dobby', 'Errol', 'Fang', 'The Fat Friar', 'The Fat Lady', 'Fawkes', 'Firenze', 'Fluffy', 'Gornuk', 'Grawp', 'Griphook', 'Hedwig', 'Hokey', 'Kreacher', 'Magorian', 'Great Aunt Muriel', 'Nagini', 'Nearly Headless Nick', 'Norbert', 'Peeves', 'Pigwidgeon', 'Madam Rosmerta', 'Ronan', 'Scabbers', 'Travers', 'Winky']\n"
     ]
    }
   ],
   "source": [
    "# Ikke optimal løsning, men fikser alle fejlene, så vi kan smide en liste til API'en lidt hurtigt. \n",
    "replacements = {\n",
    "    \"Slytherin\": \"Millicent Bulstrode\",\n",
    "    \"Percy Weasley\": \"Penelope Clearwater\",\n",
    "    \"Draco Malfoy\": \"Astoria Greengrass\",\n",
    "    \"Eastern European\": \"Gregorovitch\",\n",
    "    \"Diagon Alley\": \"Madam Malkin\",\n",
    "    \"Horace Slughorn\": \"Cormac McLaggen\",\n",
    "    \"Vanishing Cabinet\": \"Graham Montague\",\n",
    "    \"Harry Potter and the Cursed Child\": \"Delphi Riddle\",\n",
    "    \"Merope Gaunt\": \"Tom Riddle Sr.\",\n",
    "    \"Lord Voldemort\": \"Thomas Marvolo Riddle\",\n",
    "    \"Bogrod\": \"Gringotts\",\n",
    "    \"Gringotts\": \"Gornuk\",\n",
    "    \"Black family\": \"Kreacher\",\n",
    "    \"Death Eater\" : \"Travers\",\n",
    "    \"Barty Crouch Sr\": \"Winky\"}\n",
    "\n",
    "for i in range(len(character_list)):\n",
    "    if character_list[i] in replacements:\n",
    "        character_list[i] = replacements[character_list[i]]\n",
    "\n",
    "additions = [\"Gabrielle Delacour\", \n",
    "             \"Kendra Dumbledore\", \n",
    "             \"Percival Dumbledore\", \n",
    "             \"Nicolas Flamel\", \n",
    "             \"Griselda Marchbanks\", \n",
    "             \"Eloise Midgen\", \n",
    "             \"Theodore Nott\", \n",
    "             \"Nott Sr\", \n",
    "             \"Albus Severus Potter\", \n",
    "             \"James Sirius Potter\", \n",
    "             \"Lily Luna Potter\", \n",
    "             \"Mary Riddle\", \n",
    "             \"Thomas Riddle\", \n",
    "             \"Demelza Robins\", \n",
    "             \"Salazar Slytherin\", \n",
    "             \"Romilda Vane\", \n",
    "             \"Hugo Weasley\", \n",
    "             \"Rose Weasley\",\n",
    "             \"Millicent Bulstrode\",\n",
    "             \"Blaise Zabini\",\n",
    "             \"Sir Cadogan\",\n",
    "             \"Scabior\",\n",
    "             \"Trevor\"]\n",
    "\n",
    "print(character_list)"
   ]
  },
  {
   "cell_type": "code",
   "execution_count": 73,
   "metadata": {},
   "outputs": [
    {
     "data": {
      "text/plain": [
       "{'data': {'message': 'Welcome to the Potter DB API!',\n",
       "  'api_routes': ['/v1/books/:book_id/chapters',\n",
       "   '/v1/books/:book_id/chapters/:id',\n",
       "   '/v1/books',\n",
       "   '/v1/books/:id',\n",
       "   '/v1/characters',\n",
       "   '/v1/characters/:id',\n",
       "   '/v1/movies',\n",
       "   '/v1/movies/:id',\n",
       "   '/v1/potions',\n",
       "   '/v1/potions/:id',\n",
       "   '/v1/spells',\n",
       "   '/v1/spells/:id']}}"
      ]
     },
     "execution_count": 73,
     "metadata": {},
     "output_type": "execute_result"
    }
   ],
   "source": [
    "# API for facts about Harry Potter characters\n",
    "API = {\"data\":{\"message\":\"Welcome to the Potter DB API!\",\"api_routes\":[\"/v1/books/:book_id/chapters\",\"/v1/books/:book_id/chapters/:id\",\"/v1/books\",\"/v1/books/:id\",\"/v1/characters\",\"/v1/characters/:id\",\"/v1/movies\",\"/v1/movies/:id\",\"/v1/potions\",\"/v1/potions/:id\",\"/v1/spells\",\"/v1/spells/:id\"]}}\n",
    "API"
   ]
  },
  {
   "cell_type": "code",
   "execution_count": 79,
   "metadata": {},
   "outputs": [
    {
     "name": "stdout",
     "output_type": "stream",
     "text": [
      "https://api.potterdb.com/v1/characters\n"
     ]
    }
   ],
   "source": [
    "# API link\n",
    "BASE_URL = \"https://api.potterdb.com/\"\n",
    "VERSION = \"v1/\"\n",
    "RESOURCE = \"characters\"\n",
    "\n",
    "my_url = BASE_URL + VERSION + RESOURCE\n",
    "print(my_url)"
   ]
  },
  {
   "cell_type": "code",
   "execution_count": 129,
   "metadata": {},
   "outputs": [
    {
     "name": "stdout",
     "output_type": "stream",
     "text": [
      "yes\n",
      "Aberforth Dumbledore\n",
      "yes\n",
      "Albert Runcorn\n",
      "yes\n",
      "Alecto Carrow\n"
     ]
    }
   ],
   "source": [
    "# Loading data\n",
    "params = {'query': '{}'.format(character_list), \"offset\":0,\n",
    "           \"limit\":1}\n",
    "r = requests.get(my_url, params=params)\n",
    "data = r.json()[\"data\"]\n",
    "\n",
    "# Setting all names from characterlist as keys in dictionary holding attributes\n",
    "all_data = {}\n",
    "for i in range(len(character_list)):\n",
    "    all_data[character_list[i]] = None\n",
    "\n",
    "# Comparing names from data with characterlist\n",
    "for i in data:\n",
    "    name = (i['attributes']['name'])\n",
    "    for j in all_data.keys():\n",
    "        #print(j)\n",
    "        if name == j:\n",
    "            print('yes')\n",
    "            print(name)\n",
    "            all_data[j] = i['attributes']['blood_status']\n",
    "\n",
    "#print(all_data['blood_status'])"
   ]
  },
  {
   "cell_type": "code",
   "execution_count": 186,
   "metadata": {},
   "outputs": [
    {
     "name": "stdout",
     "output_type": "stream",
     "text": [
      "{'slug': '1992-gryffindor-vs-slytherin-quidditch-match-spectators', 'name': '1992 Gryffindor vs Slytherin Quidditch match spectators', 'born': None, 'died': None, 'gender': None, 'species': None, 'height': None, 'weight': None, 'hair_color': None, 'eye_color': None, 'skin_color': None, 'blood_status': None, 'marital_status': None, 'nationality': None, 'animagus': None, 'boggart': None, 'house': None, 'patronus': None, 'alias_names': None, 'family_members': None, 'jobs': None, 'romances': None, 'titles': None, 'wands': None, 'image': None, 'wiki': 'https://harrypotter.fandom.com/wiki/1992_Gryffindor_vs_Slytherin_Quidditch_match_spectators'}\n"
     ]
    }
   ],
   "source": [
    "# Using api and making dataframe of data and attributes without wiki site\n",
    "# Loading data\n",
    "params = {'query': '{}'.format(character_list), \"offset\":0,\n",
    "           \"limit\":1}\n",
    "r = requests.get(my_url, params=params)\n",
    "data = r.json()[\"data\"]\n",
    "\n",
    "names_from_data = []\n",
    "for i in data:\n",
    "    names_from_data.append(i['attributes']['name'])\n",
    "\n",
    "print(data[0]['attributes'])\n",
    "\n",
    "all_data = {}\n",
    "for i in range(len(names_from_data)):\n",
    "    all_data[names_from_data[i]] = {}\n",
    "\n",
    "for i in data:\n",
    "    name = (i['attributes']['name'])\n",
    "    for j in all_data.keys():\n",
    "        if name == j:\n",
    "            all_data[j]['Blood type'] = i['attributes']['blood_status']\n",
    "            all_data[j]['House'] = i['attributes']['house']\n",
    "            all_data[j]['Death time'] = i['attributes']['died']\n",
    "            all_data[j]['Alias'] = i['attributes']['alias_names']"
   ]
  },
  {
   "cell_type": "code",
   "execution_count": 182,
   "metadata": {},
   "outputs": [
    {
     "data": {
      "text/html": [
       "<div>\n",
       "<style scoped>\n",
       "    .dataframe tbody tr th:only-of-type {\n",
       "        vertical-align: middle;\n",
       "    }\n",
       "\n",
       "    .dataframe tbody tr th {\n",
       "        vertical-align: top;\n",
       "    }\n",
       "\n",
       "    .dataframe thead th {\n",
       "        text-align: right;\n",
       "    }\n",
       "</style>\n",
       "<table border=\"1\" class=\"dataframe\">\n",
       "  <thead>\n",
       "    <tr style=\"text-align: right;\">\n",
       "      <th></th>\n",
       "      <th>Blood type</th>\n",
       "      <th>House</th>\n",
       "      <th>Death time</th>\n",
       "      <th>Alias</th>\n",
       "    </tr>\n",
       "  </thead>\n",
       "  <tbody>\n",
       "    <tr>\n",
       "      <th>1992 Gryffindor vs Slytherin Quidditch match spectators</th>\n",
       "      <td>None</td>\n",
       "      <td>None</td>\n",
       "      <td>None</td>\n",
       "      <td>None</td>\n",
       "    </tr>\n",
       "    <tr>\n",
       "      <th>1996 Gryffindor Quidditch Keeper trials spectators</th>\n",
       "      <td>None</td>\n",
       "      <td>None</td>\n",
       "      <td>None</td>\n",
       "      <td>None</td>\n",
       "    </tr>\n",
       "    <tr>\n",
       "      <th>19th-century Flying Instructor</th>\n",
       "      <td>None</td>\n",
       "      <td>None</td>\n",
       "      <td>None</td>\n",
       "      <td>None</td>\n",
       "    </tr>\n",
       "    <tr>\n",
       "      <th>19th-century Herbology professor</th>\n",
       "      <td>None</td>\n",
       "      <td>None</td>\n",
       "      <td>None</td>\n",
       "      <td>None</td>\n",
       "    </tr>\n",
       "    <tr>\n",
       "      <th>19th-century Potions professor</th>\n",
       "      <td>None</td>\n",
       "      <td>None</td>\n",
       "      <td>None</td>\n",
       "      <td>None</td>\n",
       "    </tr>\n",
       "    <tr>\n",
       "      <th>...</th>\n",
       "      <td>...</td>\n",
       "      <td>...</td>\n",
       "      <td>...</td>\n",
       "      <td>...</td>\n",
       "    </tr>\n",
       "    <tr>\n",
       "      <th>Alexia Walkin Black</th>\n",
       "      <td>Pure-blood</td>\n",
       "      <td>Slytherin (possibly)</td>\n",
       "      <td>Before 1996</td>\n",
       "      <td>None</td>\n",
       "    </tr>\n",
       "    <tr>\n",
       "      <th>Alexis Marie</th>\n",
       "      <td>None</td>\n",
       "      <td>Gryffindor</td>\n",
       "      <td>None</td>\n",
       "      <td>None</td>\n",
       "    </tr>\n",
       "    <tr>\n",
       "      <th>Alex Sykes</th>\n",
       "      <td>None</td>\n",
       "      <td>Slytherin</td>\n",
       "      <td>None</td>\n",
       "      <td>None</td>\n",
       "    </tr>\n",
       "    <tr>\n",
       "      <th>Alex Wednesbury</th>\n",
       "      <td>None</td>\n",
       "      <td>Gryffindor</td>\n",
       "      <td>None</td>\n",
       "      <td>None</td>\n",
       "    </tr>\n",
       "    <tr>\n",
       "      <th>Alfred Cattermole</th>\n",
       "      <td>Half-blood or Squib</td>\n",
       "      <td>None</td>\n",
       "      <td>None</td>\n",
       "      <td>None</td>\n",
       "    </tr>\n",
       "  </tbody>\n",
       "</table>\n",
       "<p>97 rows × 4 columns</p>\n",
       "</div>"
      ],
      "text/plain": [
       "                                                             Blood type  \\\n",
       "1992 Gryffindor vs Slytherin Quidditch match sp...                 None   \n",
       "1996 Gryffindor Quidditch Keeper trials spectators                 None   \n",
       "19th-century Flying Instructor                                     None   \n",
       "19th-century Herbology professor                                   None   \n",
       "19th-century Potions professor                                     None   \n",
       "...                                                                 ...   \n",
       "Alexia Walkin Black                                          Pure-blood   \n",
       "Alexis Marie                                                       None   \n",
       "Alex Sykes                                                         None   \n",
       "Alex Wednesbury                                                    None   \n",
       "Alfred Cattermole                                   Half-blood or Squib   \n",
       "\n",
       "                                                                   House  \\\n",
       "1992 Gryffindor vs Slytherin Quidditch match sp...                  None   \n",
       "1996 Gryffindor Quidditch Keeper trials spectators                  None   \n",
       "19th-century Flying Instructor                                      None   \n",
       "19th-century Herbology professor                                    None   \n",
       "19th-century Potions professor                                      None   \n",
       "...                                                                  ...   \n",
       "Alexia Walkin Black                                 Slytherin (possibly)   \n",
       "Alexis Marie                                                  Gryffindor   \n",
       "Alex Sykes                                                     Slytherin   \n",
       "Alex Wednesbury                                               Gryffindor   \n",
       "Alfred Cattermole                                                   None   \n",
       "\n",
       "                                                     Death time Alias  \n",
       "1992 Gryffindor vs Slytherin Quidditch match sp...         None  None  \n",
       "1996 Gryffindor Quidditch Keeper trials spectators         None  None  \n",
       "19th-century Flying Instructor                             None  None  \n",
       "19th-century Herbology professor                           None  None  \n",
       "19th-century Potions professor                             None  None  \n",
       "...                                                         ...   ...  \n",
       "Alexia Walkin Black                                 Before 1996  None  \n",
       "Alexis Marie                                               None  None  \n",
       "Alex Sykes                                                 None  None  \n",
       "Alex Wednesbury                                            None  None  \n",
       "Alfred Cattermole                                          None  None  \n",
       "\n",
       "[97 rows x 4 columns]"
      ]
     },
     "execution_count": 182,
     "metadata": {},
     "output_type": "execute_result"
    }
   ],
   "source": [
    "# Data as dataframe\n",
    "df_data = pd.DataFrame.from_dict(all_data, orient='index')\n",
    "#df_data = df_data.dropna(subset=['Blood type'])\n",
    "df_data"
   ]
  }
 ],
 "metadata": {
  "kernelspec": {
   "display_name": "base",
   "language": "python",
   "name": "python3"
  },
  "language_info": {
   "codemirror_mode": {
    "name": "ipython",
    "version": 3
   },
   "file_extension": ".py",
   "mimetype": "text/x-python",
   "name": "python",
   "nbconvert_exporter": "python",
   "pygments_lexer": "ipython3",
   "version": "3.9.6"
  },
  "orig_nbformat": 4,
  "vscode": {
   "interpreter": {
    "hash": "3a5c5daede66250a52d758be5d57490f14f7efe1f4cb46e79440d68554ab5513"
   }
  }
 },
 "nbformat": 4,
 "nbformat_minor": 2
}
