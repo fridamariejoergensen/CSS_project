{
 "cells": [
  {
   "cell_type": "code",
   "execution_count": 5,
   "metadata": {},
   "outputs": [
    {
     "name": "stderr",
     "output_type": "stream",
     "text": [
      "[nltk_data] Downloading package stopwords to\n",
      "[nltk_data]     /Users/fridajorgensen/nltk_data...\n",
      "[nltk_data]   Package stopwords is already up-to-date!\n"
     ]
    }
   ],
   "source": [
    "from bs4 import BeautifulSoup\n",
    "import requests\n",
    "import nltk\n",
    "import math\n",
    "nltk.download('stopwords')\n",
    "import pandas as pd\n",
    "import pickle\n",
    "import pandas as pd\n",
    "import random\n",
    "import numpy as np\n",
    "import matplotlib.pyplot as plt\n",
    "import os\n",
    "import networkx as nx\n",
    "import networkx.algorithms.community as nx_community\n",
    "from nltk.corpus import stopwords\n",
    "import re\n",
    "import string\n",
    "from nltk.tokenize import word_tokenize\n",
    "import networkx.algorithms.community as nx_comm\n",
    "import netwulf\n",
    "import warnings\n",
    "warnings.filterwarnings(\"ignore\", category=RuntimeWarning)\n",
    "from sklearn.feature_extraction.text import CountVectorizer\n",
    "from wordcloud import WordCloud\n"
   ]
  },
  {
   "attachments": {},
   "cell_type": "markdown",
   "metadata": {},
   "source": [
    "# Webscraping \n",
    "Retrieving all character names from wikisite: \n",
    "\"https://en.wikipedia.org/wiki/List_of_Harry_Potter_characters\""
   ]
  },
  {
   "cell_type": "code",
   "execution_count": null,
   "metadata": {},
   "outputs": [],
   "source": [
    "# Nedenstående kode outputter noget, men den gør det ud fra tag og alle navne har desværre ikke navne tags :'(\n",
    "# Så noget andet må gøres...\n",
    "\n",
    "url = \"https://en.wikipedia.org/wiki/List_of_Harry_Potter_characters\"\n",
    "response = requests.get(url)\n",
    "\n",
    "# Parse the HTML content using Beautiful Soup\n",
    "soup = BeautifulSoup(response.content, 'html.parser')\n",
    "\n",
    "# Find all the character names using the tag and class\n",
    "characters = []\n",
    "for element in soup.find_all('a', class_='mw-redirect'):\n",
    "    name = element.text\n",
    "    # Exclude characters that are not actual character names\n",
    "    if name.startswith('List') or name.startswith('Category'):\n",
    "        continue\n",
    "    characters.append(name)\n",
    "\n",
    "print(characters)\n"
   ]
  },
  {
   "cell_type": "code",
   "execution_count": 31,
   "metadata": {},
   "outputs": [],
   "source": [
    "# bedre, men mange fejl\n",
    "\n",
    "url = 'https://en.wikipedia.org/wiki/List_of_Harry_Potter_characters'\n",
    "response = requests.get(url)\n",
    "soup = BeautifulSoup(response.content, 'html.parser')\n",
    "\n",
    "character_list = []\n",
    "content_div = soup.find('div', {'id': 'bodyContent'})\n",
    "for heading in content_div.find_all('h3'):\n",
    "    # find the <ul> tag immediately following this heading\n",
    "    character_ul = heading.find_next_sibling('ul')\n",
    "    for character_li in character_ul.find_all('li'):\n",
    "        # extract the character name from the <a> tag within the <li>, if it exists\n",
    "        character_a = character_li.find('a')\n",
    "        if character_a:\n",
    "            character_name = character_a.text\n",
    "            character_list.append(character_name)"
   ]
  },
  {
   "cell_type": "code",
   "execution_count": 30,
   "metadata": {},
   "outputs": [
    {
     "name": "stdout",
     "output_type": "stream",
     "text": [
      "['Hannah Abbott', 'Ludo Bagman', 'Bathilda Bagshot', 'Katie Bell', 'Cuthbert Binns', 'Phineas Nigellus Black', 'Sirius Black', 'Amelia Bones', 'Susan Bones', 'Terry Boot', 'Lavender Brown', 'Millicent Bulstrode', 'Charity Burbage', 'Frank Bryce', 'Alecto Carrow', 'Amycus Carrow', 'Reginald Cattermole', 'Cho Chang', 'Penelope Clearwater', 'Crabbe', 'Vincent Crabbe', 'Colin Creevey', 'Dennis Creevey', 'Dirk Cresswell', 'Winky', 'Barty Crouch Jr', 'John Dawlish', 'Fleur Delacour', 'Dedalus Diggle', 'Amos Diggory', 'Cedric Diggory', 'Elphias Doge', 'Antonin Dolohov', 'Aberforth Dumbledore', 'Albus Dumbledore', 'Ariana Dumbledore', 'Dudley Dursley', 'Marge Dursley', 'Petunia Dursley', 'Vernon Dursley', 'Marietta Edgecombe', 'Arabella Figg', 'Argus Filch', 'Justin Finch-Fletchley', 'Seamus Finnigan', 'Mundungus Fletcher', 'Filius Flitwick', 'Cornelius Fudge', 'Marvolo Gaunt', 'Tom Riddle Sr.', 'Morfin Gaunt', 'Anthony Goldstein', 'Goyle', 'Gregory Goyle', 'Hermione Granger', 'Astoria Greengrass', 'Gregorovitch', 'Fenrir Greyback', 'Gellert Grindelwald', 'Wilhelmina Grubbly-Plank', 'Godric Gryffindor', 'Rubeus Hagrid', 'Rolanda Hooch', 'Mafalda Hopkirk', 'Helga Hufflepuff', 'Angelina Johnson', 'Lee Jordan', 'Bertha Jorkins', 'Igor Karkaroff', 'Viktor Krum', 'Silvanus Kettleburn', 'Bellatrix Lestrange', 'Gilderoy Lockhart', 'Alice and Frank Longbottom', 'Augusta Longbottom', 'Neville Longbottom', 'Luna Lovegood', 'Xenophilius Lovegood', 'Remus Lupin', 'Walden Macnair', 'Astoria Greengrass', 'Lucius Malfoy', 'Narcissa Malfoy', 'Astoria Greengrass', 'Madam Malkin', 'Olympe Maxime', 'Ernie Macmillan', 'Minerva McGonagall', 'Cormac McLaggen', 'Graham Montague', 'Alastor (Mad-Eye) Moody', 'Gaunt family', 'Garrick Ollivander', 'Pansy Parkinson', 'Padma Patil', 'Parvati Patil', 'Peter Pettigrew', 'Antioch, Cadmus, and Ignotus Peverell', 'Irma Pince', 'Sturgis Podmore', 'Poppy Pomfrey', 'Harry Potter', 'James Potter', 'Lily Potter', 'Quirinus Quirrell', 'Helena Ravenclaw/The Grey Lady', 'Rowena Ravenclaw', 'Delphi Riddle', 'Tom Riddle Sr.', 'Thomas Marvolo Riddle', 'Augustus Rookwood', 'Thorfinn Rowle', 'Albert Runcorn', 'Newt Scamander', 'Rufus Scrimgeour', 'Kingsley Shacklebolt', 'Stan Shunpike', 'Aurora Sinistra', 'Rita Skeeter', 'Cormac McLaggen', 'Zacharias Smith', 'Severus Snape', 'Alicia Spinnet', 'Pomona Sprout', 'Pius Thicknesse', 'Dean Thomas', 'Andromeda Tonks', 'Nymphadora Tonks', 'Ted Tonks', 'Sybill Trelawney', 'Wilkie Twycross', 'Dolores Umbridge', 'Emmeline Vance', 'Septima Vector', 'Thomas Marvolo Riddle', 'Myrtle Warren', 'Arthur Weasley', 'Bill Weasley', 'Charlie Weasley', 'Fred Weasley', 'George Weasley', 'Ginny Weasley', 'Molly Weasley', 'Penelope Clearwater', 'Ron Weasley', 'Oliver Wood', 'Corban Yaxley', 'Millicent Bulstrode', 'Aragog', 'Bane', 'Beedle the Bard', 'The Bloody Baron', 'Gornuk', 'Buckbeak', 'Crookshanks', 'Dobby', 'Errol', 'Fang', 'The Fat Friar', 'The Fat Lady', 'Fawkes', 'Firenze', 'Fluffy', 'Gornuk', 'Grawp', 'Griphook', 'Hedwig', 'Hokey', 'Kreacher', 'Magorian', 'Great Aunt Muriel', 'Nagini', 'Nearly Headless Nick', 'Norbert', 'Peeves', 'Pigwidgeon', 'Madam Rosmerta', 'Ronan', 'Scabbers', 'Travers', 'Winky']\n"
     ]
    }
   ],
   "source": [
    "# Ikke optimal løsning, men fikser alle fejlene, så vi kan smide en liste til API'en lidt hurtigt. \n",
    "replacements = {\n",
    "    \"Slytherin\": \"Millicent Bulstrode\",\n",
    "    \"Percy Weasley\": \"Penelope Clearwater\",\n",
    "    \"Draco Malfoy\": \"Astoria Greengrass\",\n",
    "    \"Eastern European\": \"Gregorovitch\",\n",
    "    \"Diagon Alley\": \"Madam Malkin\",\n",
    "    \"Horace Slughorn\": \"Cormac McLaggen\",\n",
    "    \"Vanishing Cabinet\": \"Graham Montague\",\n",
    "    \"Harry Potter and the Cursed Child\": \"Delphi Riddle\",\n",
    "    \"Merope Gaunt\": \"Tom Riddle Sr.\",\n",
    "    \"Lord Voldemort\": \"Thomas Marvolo Riddle\",\n",
    "    \"Bogrod\": \"Gringotts\",\n",
    "    \"Gringotts\": \"Gornuk\",\n",
    "    \"Black family\": \"Kreacher\",\n",
    "    \"Death Eater\" : \"Travers\",\n",
    "    \"Barty Crouch Sr\": \"Winky\"\n",
    "}\n",
    "\n",
    "for i in range(len(character_list)):\n",
    "    if character_list[i] in replacements:\n",
    "        character_list[i] = replacements[character_list[i]]\n",
    "\n",
    "additions = [\"Gabrielle Delacour\", \n",
    "             \"Kendra Dumbledore\", \n",
    "             \"Percival Dumbledore\", \n",
    "             \"Nicolas Flamel\", \n",
    "             \"Griselda Marchbanks\", \n",
    "             \"Eloise Midgen\", \n",
    "             \"Theodore Nott\", \n",
    "             \"Nott Sr\", \n",
    "             \"Albus Severus Potter\", \n",
    "             \"James Sirius Potter\", \n",
    "             \"Lily Luna Potter\", \n",
    "             \"Mary Riddle\", \n",
    "             \"Thomas Riddle\", \n",
    "             \"Demelza Robins\", \n",
    "             \"Salazar Slytherin\", \n",
    "             \"Romilda Vane\", \n",
    "             \"Hugo Weasley\", \n",
    "             \"Rose Weasley\",\n",
    "             \"Millicent Bulstrode\",\n",
    "             \"Blaise Zabini\",\n",
    "             \"Sir Cadogan\",\n",
    "             \"Scabior\",\n",
    "             \"Trevor\"]\n",
    "\n",
    "print(character_list)\n"
   ]
  },
  {
   "cell_type": "code",
   "execution_count": null,
   "metadata": {},
   "outputs": [],
   "source": []
  }
 ],
 "metadata": {
  "kernelspec": {
   "display_name": "base",
   "language": "python",
   "name": "python3"
  },
  "language_info": {
   "codemirror_mode": {
    "name": "ipython",
    "version": 3
   },
   "file_extension": ".py",
   "mimetype": "text/x-python",
   "name": "python",
   "nbconvert_exporter": "python",
   "pygments_lexer": "ipython3",
   "version": "3.9.13"
  },
  "orig_nbformat": 4,
  "vscode": {
   "interpreter": {
    "hash": "3a5c5daede66250a52d758be5d57490f14f7efe1f4cb46e79440d68554ab5513"
   }
  }
 },
 "nbformat": 4,
 "nbformat_minor": 2
}
