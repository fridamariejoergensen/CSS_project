{
 "cells": [
  {
   "cell_type": "code",
   "execution_count": 1,
   "metadata": {},
   "outputs": [
    {
     "name": "stderr",
     "output_type": "stream",
     "text": [
      "[nltk_data] Error loading stopwords: <urlopen error [SSL:\n",
      "[nltk_data]     CERTIFICATE_VERIFY_FAILED] certificate verify failed:\n",
      "[nltk_data]     unable to get local issuer certificate (_ssl.c:1129)>\n"
     ]
    }
   ],
   "source": [
    "from bs4 import BeautifulSoup\n",
    "import requests\n",
    "import nltk\n",
    "import math\n",
    "nltk.download('stopwords')\n",
    "import pandas as pd\n",
    "import pickle\n",
    "import pandas as pd\n",
    "import random\n",
    "import numpy as np\n",
    "import matplotlib.pyplot as plt\n",
    "import os\n",
    "import networkx as nx\n",
    "import networkx.algorithms.community as nx_community\n",
    "from nltk.corpus import stopwords\n",
    "import re\n",
    "import string\n",
    "from nltk.tokenize import word_tokenize\n",
    "import networkx.algorithms.community as nx_comm\n",
    "import netwulf\n",
    "import warnings\n",
    "warnings.filterwarnings(\"ignore\", category=RuntimeWarning)\n",
    "from sklearn.feature_extraction.text import CountVectorizer\n",
    "from wordcloud import WordCloud\n",
    "from collections import Counter\n",
    "from collections import defaultdict"
   ]
  },
  {
   "attachments": {},
   "cell_type": "markdown",
   "metadata": {},
   "source": [
    "## Collecting data with Harry Potter API"
   ]
  },
  {
   "cell_type": "code",
   "execution_count": 75,
   "metadata": {},
   "outputs": [
    {
     "name": "stdout",
     "output_type": "stream",
     "text": [
      "https://api.potterdb.com/v1/characters\n"
     ]
    }
   ],
   "source": [
    "# API link\n",
    "BASE_URL = \"https://api.potterdb.com/\"\n",
    "VERSION = \"v1/\"\n",
    "RESOURCE = \"characters\"\n",
    "\n",
    "my_url = BASE_URL + VERSION + RESOURCE\n",
    "print(my_url)\n",
    "all_data = {}\n",
    "counter = 0\n",
    "for i in range(50):\n",
    "\n",
    "    url = my_url + f\"?page[number={i+1}]&page[size=100]\"\n",
    "    r = requests.get(url)\n",
    "    data = r.json()[\"data\"]\n",
    "\n",
    "    for i in data:\n",
    "        all_data[counter] = {}\n",
    "        name = (i['attributes']['name'])\n",
    "        all_data[counter]['Name'] = i['attributes']['name']\n",
    "        all_data[counter]['Blood status'] = i['attributes']['blood_status']\n",
    "        all_data[counter]['House'] = i['attributes']['house']\n",
    "        all_data[counter]['Species'] = i['attributes']['species']\n",
    "        all_data[counter]['Death time'] = i['attributes']['died']\n",
    "        all_data[counter]['Alias'] = i['attributes']['alias_names']\n",
    "        all_data[counter]['Wiki'] = i['attributes']['wiki']\n",
    "        all_data[counter]['Gender'] = i['attributes']['gender']\n",
    "        counter +=1\n",
    "    \n",
    "df_data = pd.DataFrame.from_dict(all_data, orient='index')"
   ]
  },
  {
   "cell_type": "code",
   "execution_count": 210,
   "metadata": {},
   "outputs": [
    {
     "data": {
      "text/html": [
       "<div>\n",
       "<style scoped>\n",
       "    .dataframe tbody tr th:only-of-type {\n",
       "        vertical-align: middle;\n",
       "    }\n",
       "\n",
       "    .dataframe tbody tr th {\n",
       "        vertical-align: top;\n",
       "    }\n",
       "\n",
       "    .dataframe thead th {\n",
       "        text-align: right;\n",
       "    }\n",
       "</style>\n",
       "<table border=\"1\" class=\"dataframe\">\n",
       "  <thead>\n",
       "    <tr style=\"text-align: right;\">\n",
       "      <th></th>\n",
       "      <th>name</th>\n",
       "      <th>Blood status</th>\n",
       "      <th>House</th>\n",
       "      <th>Species</th>\n",
       "      <th>Death time</th>\n",
       "      <th>Alias</th>\n",
       "      <th>Wiki</th>\n",
       "      <th>Gender</th>\n",
       "      <th>Wiki text</th>\n",
       "      <th>Character links</th>\n",
       "      <th>Wiki name</th>\n",
       "      <th>Sum character links</th>\n",
       "    </tr>\n",
       "  </thead>\n",
       "  <tbody>\n",
       "    <tr>\n",
       "      <th>0</th>\n",
       "      <td>1992 Gryffindor vs Slytherin Quidditch match s...</td>\n",
       "      <td>None</td>\n",
       "      <td>None</td>\n",
       "      <td>None</td>\n",
       "      <td>None</td>\n",
       "      <td>None</td>\n",
       "      <td>https://harrypotter.fandom.com/wiki/1992_Gryff...</td>\n",
       "      <td>None</td>\n",
       "      <td>The title of this article is conjectural.  Alt...</td>\n",
       "      <td>[Canon, Filius_Flitwick, Irma_Pince, Severus_S...</td>\n",
       "      <td>1992_Gryffindor_vs_Slytherin_Quidditch_match_s...</td>\n",
       "      <td>{'Filius_Flitwick': 2, 'Irma_Pince': 3, 'Sever...</td>\n",
       "    </tr>\n",
       "    <tr>\n",
       "      <th>1</th>\n",
       "      <td>1996 Gryffindor Quidditch Keeper trials specta...</td>\n",
       "      <td>None</td>\n",
       "      <td>None</td>\n",
       "      <td>None</td>\n",
       "      <td>None</td>\n",
       "      <td>None</td>\n",
       "      <td>https://harrypotter.fandom.com/wiki/1996_Gryff...</td>\n",
       "      <td>None</td>\n",
       "      <td>In September 1996, a number of unidentified sp...</td>\n",
       "      <td>[Harry_Potter_and_the_Half-Blood_Prince, Septe...</td>\n",
       "      <td>1996_Gryffindor_Quidditch_Keeper_trials_specta...</td>\n",
       "      <td>{'Harry_Potter': 1, 'Ronald_Weasley': 1, 'Corm...</td>\n",
       "    </tr>\n",
       "  </tbody>\n",
       "</table>\n",
       "</div>"
      ],
      "text/plain": [
       "                                                name Blood status House  \\\n",
       "0  1992 Gryffindor vs Slytherin Quidditch match s...         None  None   \n",
       "1  1996 Gryffindor Quidditch Keeper trials specta...         None  None   \n",
       "\n",
       "  Species Death time Alias                                               Wiki  \\\n",
       "0    None       None  None  https://harrypotter.fandom.com/wiki/1992_Gryff...   \n",
       "1    None       None  None  https://harrypotter.fandom.com/wiki/1996_Gryff...   \n",
       "\n",
       "  Gender                                          Wiki text  \\\n",
       "0   None  The title of this article is conjectural.  Alt...   \n",
       "1   None  In September 1996, a number of unidentified sp...   \n",
       "\n",
       "                                     Character links  \\\n",
       "0  [Canon, Filius_Flitwick, Irma_Pince, Severus_S...   \n",
       "1  [Harry_Potter_and_the_Half-Blood_Prince, Septe...   \n",
       "\n",
       "                                           Wiki name  \\\n",
       "0  1992_Gryffindor_vs_Slytherin_Quidditch_match_s...   \n",
       "1  1996_Gryffindor_Quidditch_Keeper_trials_specta...   \n",
       "\n",
       "                                 Sum character links  \n",
       "0  {'Filius_Flitwick': 2, 'Irma_Pince': 3, 'Sever...  \n",
       "1  {'Harry_Potter': 1, 'Ronald_Weasley': 1, 'Corm...  "
      ]
     },
     "execution_count": 210,
     "metadata": {},
     "output_type": "execute_result"
    }
   ],
   "source": [
    "df_data.head(2)"
   ]
  },
  {
   "attachments": {},
   "cell_type": "markdown",
   "metadata": {},
   "source": [
    "## Webscrape text data and node links from wiki"
   ]
  },
  {
   "cell_type": "code",
   "execution_count": 114,
   "metadata": {},
   "outputs": [],
   "source": [
    "# Function to webscrape Harry Potter wiki for text and links\n",
    "def webscrapeWiki(url):\n",
    "    response = requests.get(url)\n",
    "    soup = BeautifulSoup(response.content, 'html.parser')\n",
    "\n",
    "    content_div = soup.find('div', {'id': 'mw-content-text'})\n",
    "    text = \"\"\n",
    "    for p in content_div.find_all('p'):\n",
    "        text += p.get_text() + \" \"\n",
    "\n",
    "    links = []\n",
    "    for a in content_div.find_all(\"a\"):\n",
    "        split = a['href'].split(\"/\")\n",
    "        if len(split)>1:\n",
    "            if split[1]==\"wiki\":\n",
    "                links.append(split[2])\n",
    "\n",
    "    return text, links\n",
    "\n",
    "df_data[\"Wiki text\"], df_data[\"Character links\"] = zip(*df_data[\"Wiki\"].apply(webscrapeWiki))"
   ]
  },
  {
   "cell_type": "code",
   "execution_count": 209,
   "metadata": {},
   "outputs": [
    {
     "data": {
      "text/html": [
       "<div>\n",
       "<style scoped>\n",
       "    .dataframe tbody tr th:only-of-type {\n",
       "        vertical-align: middle;\n",
       "    }\n",
       "\n",
       "    .dataframe tbody tr th {\n",
       "        vertical-align: top;\n",
       "    }\n",
       "\n",
       "    .dataframe thead th {\n",
       "        text-align: right;\n",
       "    }\n",
       "</style>\n",
       "<table border=\"1\" class=\"dataframe\">\n",
       "  <thead>\n",
       "    <tr style=\"text-align: right;\">\n",
       "      <th></th>\n",
       "      <th>name</th>\n",
       "      <th>Blood status</th>\n",
       "      <th>House</th>\n",
       "      <th>Species</th>\n",
       "      <th>Death time</th>\n",
       "      <th>Alias</th>\n",
       "      <th>Wiki</th>\n",
       "      <th>Gender</th>\n",
       "      <th>Wiki text</th>\n",
       "      <th>Character links</th>\n",
       "      <th>Wiki name</th>\n",
       "      <th>Sum character links</th>\n",
       "    </tr>\n",
       "  </thead>\n",
       "  <tbody>\n",
       "    <tr>\n",
       "      <th>0</th>\n",
       "      <td>1992 Gryffindor vs Slytherin Quidditch match s...</td>\n",
       "      <td>None</td>\n",
       "      <td>None</td>\n",
       "      <td>None</td>\n",
       "      <td>None</td>\n",
       "      <td>None</td>\n",
       "      <td>https://harrypotter.fandom.com/wiki/1992_Gryff...</td>\n",
       "      <td>None</td>\n",
       "      <td>The title of this article is conjectural.  Alt...</td>\n",
       "      <td>[Canon, Filius_Flitwick, Irma_Pince, Severus_S...</td>\n",
       "      <td>1992_Gryffindor_vs_Slytherin_Quidditch_match_s...</td>\n",
       "      <td>{'Filius_Flitwick': 2, 'Irma_Pince': 3, 'Sever...</td>\n",
       "    </tr>\n",
       "    <tr>\n",
       "      <th>1</th>\n",
       "      <td>1996 Gryffindor Quidditch Keeper trials specta...</td>\n",
       "      <td>None</td>\n",
       "      <td>None</td>\n",
       "      <td>None</td>\n",
       "      <td>None</td>\n",
       "      <td>None</td>\n",
       "      <td>https://harrypotter.fandom.com/wiki/1996_Gryff...</td>\n",
       "      <td>None</td>\n",
       "      <td>In September 1996, a number of unidentified sp...</td>\n",
       "      <td>[Harry_Potter_and_the_Half-Blood_Prince, Septe...</td>\n",
       "      <td>1996_Gryffindor_Quidditch_Keeper_trials_specta...</td>\n",
       "      <td>{'Harry_Potter': 1, 'Ronald_Weasley': 1, 'Corm...</td>\n",
       "    </tr>\n",
       "  </tbody>\n",
       "</table>\n",
       "</div>"
      ],
      "text/plain": [
       "                                                name Blood status House  \\\n",
       "0  1992 Gryffindor vs Slytherin Quidditch match s...         None  None   \n",
       "1  1996 Gryffindor Quidditch Keeper trials specta...         None  None   \n",
       "\n",
       "  Species Death time Alias                                               Wiki  \\\n",
       "0    None       None  None  https://harrypotter.fandom.com/wiki/1992_Gryff...   \n",
       "1    None       None  None  https://harrypotter.fandom.com/wiki/1996_Gryff...   \n",
       "\n",
       "  Gender                                          Wiki text  \\\n",
       "0   None  The title of this article is conjectural.  Alt...   \n",
       "1   None  In September 1996, a number of unidentified sp...   \n",
       "\n",
       "                                     Character links  \\\n",
       "0  [Canon, Filius_Flitwick, Irma_Pince, Severus_S...   \n",
       "1  [Harry_Potter_and_the_Half-Blood_Prince, Septe...   \n",
       "\n",
       "                                           Wiki name  \\\n",
       "0  1992_Gryffindor_vs_Slytherin_Quidditch_match_s...   \n",
       "1  1996_Gryffindor_Quidditch_Keeper_trials_specta...   \n",
       "\n",
       "                                 Sum character links  \n",
       "0  {'Filius_Flitwick': 2, 'Irma_Pince': 3, 'Sever...  \n",
       "1  {'Harry_Potter': 1, 'Ronald_Weasley': 1, 'Corm...  "
      ]
     },
     "execution_count": 209,
     "metadata": {},
     "output_type": "execute_result"
    }
   ],
   "source": [
    "df_data.head(2)"
   ]
  },
  {
   "cell_type": "code",
   "execution_count": 120,
   "metadata": {},
   "outputs": [],
   "source": [
    "def wikiName(wikiURL):\n",
    "    return wikiURL.split(\"/\")[-1]\n",
    "\n",
    "def checkLinks(linkCounter, wikiNames):\n",
    "    cleanLinks = linkCounter.copy()\n",
    "    for link in linkCounter.keys():\n",
    "        if link not in list(wikiNames):\n",
    "            del cleanLinks[link]\n",
    "    return cleanLinks\n",
    "\n",
    "df_data[\"Wiki name\"] = df_data[\"Wiki\"].apply(wikiName)\n",
    "df_data[\"Sum character links\"] = df_data[\"Character links\"].apply(Counter)\n",
    "df_data[\"Sum character links\"] = df_data[\"Sum character links\"].apply(checkLinks,wikiNames=df_data[\"Wiki name\"])\n",
    "\n",
    "#Save dataframe\n",
    "df_data.to_pickle(\"df_data\")"
   ]
  },
  {
   "attachments": {},
   "cell_type": "markdown",
   "metadata": {},
   "source": [
    "## Initial filtering of data"
   ]
  },
  {
   "cell_type": "code",
   "execution_count": 12,
   "metadata": {},
   "outputs": [],
   "source": [
    "# Load dataframe:\n",
    "df_data_loaded = pd.read_pickle(\"df_data\")"
   ]
  },
  {
   "cell_type": "code",
   "execution_count": 13,
   "metadata": {},
   "outputs": [],
   "source": [
    "# Getting filtered data\n",
    "def checkUnidentified(wikiName):\n",
    "    check = \"Unidentified\"\n",
    "    if len(wikiName)>len(check):\n",
    "        if wikiName[:len(check)]==check:\n",
    "            return True\n",
    "    return False\n",
    "\n",
    "def checkLinks(linkCounter, wikiNames):\n",
    "    cleanLinks = linkCounter.copy()\n",
    "    for link in linkCounter.keys():\n",
    "        if link not in list(wikiNames):\n",
    "            del cleanLinks[link]\n",
    "    return cleanLinks\n",
    "\n",
    "filtered_data = df_data_loaded[~((df_data_loaded[\"Blood status\"].isnull())&(df_data_loaded[\"House\"].isnull())&(df_data_loaded[\"Species\"].isnull())&(df_data_loaded[\"Death time\"].isnull())&(df_data_loaded[\"Alias\"].isnull()))]\n",
    "filtered_data = filtered_data[~filtered_data[\"Wiki name\"].apply(checkUnidentified)]\n",
    "filtered_data[\"Sum character links\"] = filtered_data[\"Sum character links\"].apply(checkLinks,wikiNames=filtered_data[\"Wiki name\"])"
   ]
  },
  {
   "cell_type": "code",
   "execution_count": 62,
   "metadata": {},
   "outputs": [],
   "source": [
    "def cleanHouses(House):\n",
    "    if House != None:\n",
    "        strings = House.split(' ')\n",
    "        if len(strings) == 1:\n",
    "            return strings[0]\n",
    "        if len(strings) != 1:\n",
    "            if len(strings) > 2:\n",
    "                return 'Unknown'\n",
    "            if strings[-1][-1] == ')':\n",
    "                return strings[0]\n",
    "    if House == None:\n",
    "        return 'Unknown'\n",
    "\n",
    "filtered_data['House'] = filtered_data['House'].apply(cleanHouses)"
   ]
  },
  {
   "cell_type": "code",
   "execution_count": 135,
   "metadata": {},
   "outputs": [],
   "source": [
    "def cleanSpecies(Species):\n",
    "    if Species != None:\n",
    "        strings = Species.split(' ')\n",
    "        if len(strings) == 1:\n",
    "            return strings[0]\n",
    "        if strings[-1][-1] == 's':\n",
    "            l = len(string[-1])\n",
    "            return strings[-1][0:(l-1)]\n",
    "        if len(strings) > 2:\n",
    "            return strings[0]\n",
    "    if Species == None:\n",
    "        return 'Unknown'\n",
    "\n",
    "copy = filtered_data.copy()\n",
    "copy['Species'] = filtered_data['Species'].apply(cleanSpecies)"
   ]
  },
  {
   "attachments": {},
   "cell_type": "markdown",
   "metadata": {},
   "source": [
    "Code below makes complete list of HP actors, that we can use to filter the df (Jeg gør den lidt mere efficient om lidt)"
   ]
  },
  {
   "cell_type": "code",
   "execution_count": 27,
   "metadata": {},
   "outputs": [],
   "source": [
    "# Full cast and crew for The Philosopher's Stone at IMDb\n",
    "\n",
    "url = 'https://www.imdb.com/title/tt0241527/fullcredits#cast'\n",
    "response = requests.get(url)\n",
    "\n",
    "if response.status_code == 200:\n",
    "    html_content = response.content\n",
    "    soup = BeautifulSoup(html_content, 'html.parser')\n",
    "    # Find the cast elements\n",
    "    cast_element = soup.find('table', class_='cast_list')\n",
    "\n",
    "    # Extract the actor names from the cast element\n",
    "    actor_names = []\n",
    "    if cast_element:\n",
    "        for row in cast_element.find_all('tr'):\n",
    "            actor_element = row.find('td', class_='primary_photo')\n",
    "            if actor_element:\n",
    "                actor_name = actor_element.find('img').get('alt')\n",
    "                actor_names.append(actor_name)\n",
    "\n",
    "# Full cast and crew for The Chamber of Secrets at IMDb\n",
    "\n",
    "new_url = 'https://www.imdb.com/title/tt0295297/fullcredits#cast'\n",
    "response2 = requests.get(new_url)\n",
    "\n",
    "if response2.status_code == 200:\n",
    "    new_html_content = response2.content\n",
    "    new_soup = BeautifulSoup(new_html_content, 'html.parser')\n",
    "    new_cast_element = new_soup.find('table', class_='cast_list')\n",
    "\n",
    "    new_actor_names = []\n",
    "    if new_cast_element:\n",
    "        for row in new_cast_element.find_all('tr'):\n",
    "            actor_element = row.find('td', class_='primary_photo')\n",
    "            if actor_element:\n",
    "                actor_name = actor_element.find('img').get('alt')\n",
    "                new_actor_names.append(actor_name)\n",
    "\n",
    "    # Add only new actors to list 'actor_names'\n",
    "    for actor_name in new_actor_names:\n",
    "        if actor_name not in actor_names:\n",
    "            actor_names.append(actor_name)\n",
    "\n",
    "# Full cast and crew for The Prisoner of Azkaban at IMDb\n",
    "\n",
    "new_url = 'https://www.imdb.com/title/tt0304141/fullcredits#cast'\n",
    "response3 = requests.get(new_url)\n",
    "\n",
    "if response3.status_code == 200:\n",
    "    new_html_content = response3.content\n",
    "    new_soup = BeautifulSoup(new_html_content, 'html.parser')\n",
    "    new_cast_element = new_soup.find('table', class_='cast_list')\n",
    "\n",
    "    new_actor_names = []\n",
    "    if new_cast_element:\n",
    "        for row in new_cast_element.find_all('tr'):\n",
    "            actor_element = row.find('td', class_='primary_photo')\n",
    "            if actor_element:\n",
    "                actor_name = actor_element.find('img').get('alt')\n",
    "                new_actor_names.append(actor_name)\n",
    "\n",
    "    # Add only new actors to list 'actor_names'\n",
    "    for actor_name in new_actor_names:\n",
    "        if actor_name not in actor_names:\n",
    "            actor_names.append(actor_name)\n",
    "\n",
    "# Full cast and crew for The Goblet of Fire at IMDb\n",
    "\n",
    "new_url = 'https://www.imdb.com/title/tt0330373/fullcredits#cast'\n",
    "response4 = requests.get(new_url)\n",
    "\n",
    "if response4.status_code == 200:\n",
    "    new_html_content = response4.content\n",
    "    new_soup = BeautifulSoup(new_html_content, 'html.parser')\n",
    "    new_cast_element = new_soup.find('table', class_='cast_list')\n",
    "\n",
    "    new_actor_names = []\n",
    "    if new_cast_element:\n",
    "        for row in new_cast_element.find_all('tr'):\n",
    "            actor_element = row.find('td', class_='primary_photo')\n",
    "            if actor_element:\n",
    "                actor_name = actor_element.find('img').get('alt')\n",
    "                new_actor_names.append(actor_name)\n",
    "\n",
    "    # Add only new actors to list 'actor_names'\n",
    "    for actor_name in new_actor_names:\n",
    "        if actor_name not in actor_names:\n",
    "            actor_names.append(actor_name)\n",
    "\n",
    "# Full cast and crew for The Order of the Phoenix at IMDb\n",
    "\n",
    "new_url = 'https://www.imdb.com/title/tt0373889/fullcredits#cast'\n",
    "response5 = requests.get(new_url)\n",
    "\n",
    "if response5.status_code == 200:\n",
    "    new_html_content = response5.content\n",
    "    new_soup = BeautifulSoup(new_html_content, 'html.parser')\n",
    "    new_cast_element = new_soup.find('table', class_='cast_list')\n",
    "\n",
    "    new_actor_names = []\n",
    "    if new_cast_element:\n",
    "        for row in new_cast_element.find_all('tr'):\n",
    "            actor_element = row.find('td', class_='primary_photo')\n",
    "            if actor_element:\n",
    "                actor_name = actor_element.find('img').get('alt')\n",
    "                new_actor_names.append(actor_name)\n",
    "\n",
    "    # Add only new actors to list 'actor_names'\n",
    "    for actor_name in new_actor_names:\n",
    "        if actor_name not in actor_names:\n",
    "            actor_names.append(actor_name)\n",
    "\n",
    "\n",
    "# Full cast and crew for The Half-Blood Prince at IMDb\n",
    "\n",
    "new_url = 'https://www.imdb.com/title/tt0417741/fullcredits#cast'\n",
    "response6 = requests.get(new_url)\n",
    "\n",
    "if response6.status_code == 200:\n",
    "    new_html_content = response6.content\n",
    "    new_soup = BeautifulSoup(new_html_content, 'html.parser')\n",
    "    new_cast_element = new_soup.find('table', class_='cast_list')\n",
    "\n",
    "    new_actor_names = []\n",
    "    if new_cast_element:\n",
    "        for row in new_cast_element.find_all('tr'):\n",
    "            actor_element = row.find('td', class_='primary_photo')\n",
    "            if actor_element:\n",
    "                actor_name = actor_element.find('img').get('alt')\n",
    "                new_actor_names.append(actor_name)\n",
    "\n",
    "    # Add only new actors to list 'actor_names'\n",
    "    for actor_name in new_actor_names:\n",
    "        if actor_name not in actor_names:\n",
    "            actor_names.append(actor_name)\n",
    "\n",
    "\n",
    "# Full cast and crew for The Deathly Hallows – Part 1 at IMDb\n",
    "\n",
    "new_url = 'https://www.imdb.com/title/tt0926084/fullcredits#cast'\n",
    "response7 = requests.get(new_url)\n",
    "\n",
    "if response7.status_code == 200:\n",
    "    new_html_content = response7.content\n",
    "    new_soup = BeautifulSoup(new_html_content, 'html.parser')\n",
    "    new_cast_element = new_soup.find('table', class_='cast_list')\n",
    "\n",
    "    new_actor_names = []\n",
    "    if new_cast_element:\n",
    "        for row in new_cast_element.find_all('tr'):\n",
    "            actor_element = row.find('td', class_='primary_photo')\n",
    "            if actor_element:\n",
    "                actor_name = actor_element.find('img').get('alt')\n",
    "                new_actor_names.append(actor_name)\n",
    "\n",
    "    # Add only new actors to list 'actor_names'\n",
    "    for actor_name in new_actor_names:\n",
    "        if actor_name not in actor_names:\n",
    "            actor_names.append(actor_name)\n",
    "\n",
    "\n",
    "# Full cast and crew for The Deathly Hallows – Part 2 at IMDb\n",
    "\n",
    "new_url = 'https://www.imdb.com/title/tt1201607/fullcredits#cast'\n",
    "response8 = requests.get(new_url)\n",
    "\n",
    "if response8.status_code == 200:\n",
    "    new_html_content = response8.content\n",
    "    new_soup = BeautifulSoup(new_html_content, 'html.parser')\n",
    "    new_cast_element = new_soup.find('table', class_='cast_list')\n",
    "\n",
    "    new_actor_names = []\n",
    "    if new_cast_element:\n",
    "        for row in new_cast_element.find_all('tr'):\n",
    "            actor_element = row.find('td', class_='primary_photo')\n",
    "            if actor_element:\n",
    "                actor_name = actor_element.find('img').get('alt')\n",
    "                new_actor_names.append(actor_name)\n",
    "\n",
    "    # Add only new actors to list 'actor_names'\n",
    "    for actor_name in new_actor_names:\n",
    "        if actor_name not in actor_names:\n",
    "            actor_names.append(actor_name)\n",
    "\n",
    "# actor_names\n"
   ]
  },
  {
   "cell_type": "code",
   "execution_count": 7,
   "metadata": {},
   "outputs": [
    {
     "data": {
      "text/html": [
       "<div>\n",
       "<style scoped>\n",
       "    .dataframe tbody tr th:only-of-type {\n",
       "        vertical-align: middle;\n",
       "    }\n",
       "\n",
       "    .dataframe tbody tr th {\n",
       "        vertical-align: top;\n",
       "    }\n",
       "\n",
       "    .dataframe thead th {\n",
       "        text-align: right;\n",
       "    }\n",
       "</style>\n",
       "<table border=\"1\" class=\"dataframe\">\n",
       "  <thead>\n",
       "    <tr style=\"text-align: right;\">\n",
       "      <th></th>\n",
       "      <th>name</th>\n",
       "      <th>Blood status</th>\n",
       "      <th>House</th>\n",
       "      <th>Species</th>\n",
       "      <th>Death time</th>\n",
       "      <th>Alias</th>\n",
       "      <th>Wiki</th>\n",
       "      <th>Gender</th>\n",
       "      <th>Wiki text</th>\n",
       "      <th>Character links</th>\n",
       "      <th>Wiki name</th>\n",
       "      <th>Sum character links</th>\n",
       "    </tr>\n",
       "  </thead>\n",
       "  <tbody>\n",
       "    <tr>\n",
       "      <th>5</th>\n",
       "      <td>2-Headed Baby</td>\n",
       "      <td>None</td>\n",
       "      <td>None</td>\n",
       "      <td>Human</td>\n",
       "      <td>None</td>\n",
       "      <td>None</td>\n",
       "      <td>https://harrypotter.fandom.com/wiki/2-Headed_Baby</td>\n",
       "      <td>Male (most likely)</td>\n",
       "      <td>\\n\\n\\n\\n\\n\\n\\n\\n2-Headed Baby\\n\\n\\nBiographica...</td>\n",
       "      <td>[1927, Human, Circus_Arcanus, Template:Individ...</td>\n",
       "      <td>2-Headed_Baby</td>\n",
       "      <td>{}</td>\n",
       "    </tr>\n",
       "    <tr>\n",
       "      <th>7</th>\n",
       "      <td>Aamir Loonat</td>\n",
       "      <td>None</td>\n",
       "      <td>Gryffindor</td>\n",
       "      <td>Human</td>\n",
       "      <td>None</td>\n",
       "      <td>None</td>\n",
       "      <td>https://harrypotter.fandom.com/wiki/Aamir_Loonat</td>\n",
       "      <td>Male</td>\n",
       "      <td>\\n\\nAamir Loonat\\n\\n\\nBiographical information...</td>\n",
       "      <td>[31_August, 1982, Great_Britain, Ireland, Huma...</td>\n",
       "      <td>Aamir_Loonat</td>\n",
       "      <td>{}</td>\n",
       "    </tr>\n",
       "    <tr>\n",
       "      <th>8</th>\n",
       "      <td>Abel Treetops</td>\n",
       "      <td>None</td>\n",
       "      <td>None</td>\n",
       "      <td>Human</td>\n",
       "      <td>None</td>\n",
       "      <td>None</td>\n",
       "      <td>https://harrypotter.fandom.com/wiki/Abel_Treetops</td>\n",
       "      <td>Male</td>\n",
       "      <td>\\n\\nAbel Treetops\\n\\n\\nBiographical informatio...</td>\n",
       "      <td>[1832, United_States_of_America, Human, Templa...</td>\n",
       "      <td>Abel_Treetops</td>\n",
       "      <td>{}</td>\n",
       "    </tr>\n",
       "    <tr>\n",
       "      <th>9</th>\n",
       "      <td>Aberforth Dumbledore</td>\n",
       "      <td>Half-blood</td>\n",
       "      <td>None</td>\n",
       "      <td>Human</td>\n",
       "      <td>None</td>\n",
       "      <td>[Ab]</td>\n",
       "      <td>https://harrypotter.fandom.com/wiki/Aberforth_...</td>\n",
       "      <td>Male</td>\n",
       "      <td>At least some content in this article is deriv...</td>\n",
       "      <td>[Harry_Potter:_Hogwarts_Mystery, Harry_Potter:...</td>\n",
       "      <td>Aberforth_Dumbledore</td>\n",
       "      <td>{'Percival_Dumbledore': 4, 'Kendra_Dumbledore'...</td>\n",
       "    </tr>\n",
       "    <tr>\n",
       "      <th>10</th>\n",
       "      <td>Abernathy</td>\n",
       "      <td>None</td>\n",
       "      <td>None</td>\n",
       "      <td>Human</td>\n",
       "      <td>None</td>\n",
       "      <td>None</td>\n",
       "      <td>https://harrypotter.fandom.com/wiki/Abernathy</td>\n",
       "      <td>Male</td>\n",
       "      <td>At least some content in this article is deriv...</td>\n",
       "      <td>[Fantastic_Beasts:_The_Secrets_of_Dumbledore, ...</td>\n",
       "      <td>Abernathy</td>\n",
       "      <td>{'Gellert_Grindelwald': 6, 'Porpentina_Goldste...</td>\n",
       "    </tr>\n",
       "  </tbody>\n",
       "</table>\n",
       "</div>"
      ],
      "text/plain": [
       "                    name Blood status       House Species Death time Alias  \\\n",
       "5          2-Headed Baby         None        None   Human       None  None   \n",
       "7           Aamir Loonat         None  Gryffindor   Human       None  None   \n",
       "8          Abel Treetops         None        None   Human       None  None   \n",
       "9   Aberforth Dumbledore   Half-blood        None   Human       None  [Ab]   \n",
       "10             Abernathy         None        None   Human       None  None   \n",
       "\n",
       "                                                 Wiki              Gender  \\\n",
       "5   https://harrypotter.fandom.com/wiki/2-Headed_Baby  Male (most likely)   \n",
       "7    https://harrypotter.fandom.com/wiki/Aamir_Loonat                Male   \n",
       "8   https://harrypotter.fandom.com/wiki/Abel_Treetops                Male   \n",
       "9   https://harrypotter.fandom.com/wiki/Aberforth_...                Male   \n",
       "10      https://harrypotter.fandom.com/wiki/Abernathy                Male   \n",
       "\n",
       "                                            Wiki text  \\\n",
       "5   \\n\\n\\n\\n\\n\\n\\n\\n2-Headed Baby\\n\\n\\nBiographica...   \n",
       "7   \\n\\nAamir Loonat\\n\\n\\nBiographical information...   \n",
       "8   \\n\\nAbel Treetops\\n\\n\\nBiographical informatio...   \n",
       "9   At least some content in this article is deriv...   \n",
       "10  At least some content in this article is deriv...   \n",
       "\n",
       "                                      Character links             Wiki name  \\\n",
       "5   [1927, Human, Circus_Arcanus, Template:Individ...         2-Headed_Baby   \n",
       "7   [31_August, 1982, Great_Britain, Ireland, Huma...          Aamir_Loonat   \n",
       "8   [1832, United_States_of_America, Human, Templa...         Abel_Treetops   \n",
       "9   [Harry_Potter:_Hogwarts_Mystery, Harry_Potter:...  Aberforth_Dumbledore   \n",
       "10  [Fantastic_Beasts:_The_Secrets_of_Dumbledore, ...             Abernathy   \n",
       "\n",
       "                                  Sum character links  \n",
       "5                                                  {}  \n",
       "7                                                  {}  \n",
       "8                                                  {}  \n",
       "9   {'Percival_Dumbledore': 4, 'Kendra_Dumbledore'...  \n",
       "10  {'Gellert_Grindelwald': 6, 'Porpentina_Goldste...  "
      ]
     },
     "execution_count": 7,
     "metadata": {},
     "output_type": "execute_result"
    }
   ],
   "source": [
    "filtered_data.head(5)"
   ]
  },
  {
   "cell_type": "markdown",
   "metadata": {},
   "source": [
    "## Make network"
   ]
  },
  {
   "cell_type": "code",
   "execution_count": 69,
   "metadata": {},
   "outputs": [
    {
     "name": "stdout",
     "output_type": "stream",
     "text": [
      "MultiDiGraph with 3542 nodes and 0 edges\n"
     ]
    }
   ],
   "source": [
    "# making edgelist\n",
    "wiki_names = list(filtered_data['Wiki name'])\n",
    "character_links = filtered_data['Sum character links']\n",
    "houses = list(filtered_data['House'])\n",
    "\n",
    "# Initializing graph\n",
    "G = nx.MultiDiGraph()\n",
    "# Adding group according to house attribute\n",
    "for i in range(len(wiki_names)):\n",
    "        G.add_node(wiki_names[i], group = houses[i])\n",
    "print(G)"
   ]
  },
  {
   "cell_type": "code",
   "execution_count": 70,
   "metadata": {},
   "outputs": [],
   "source": [
    "# Making weighted edgelist\n",
    "edges = []\n",
    "for j in filtered_data.index:\n",
    "    name = filtered_data['Wiki name'][j]\n",
    "    links = filtered_data['Sum character links'][j]\n",
    "    for key, val in links.items():\n",
    "        edges.append(((name, key, val)))"
   ]
  },
  {
   "cell_type": "code",
   "execution_count": 71,
   "metadata": {},
   "outputs": [
    {
     "name": "stdout",
     "output_type": "stream",
     "text": [
      "MultiDiGraph with 3542 nodes and 110998 edges\n"
     ]
    }
   ],
   "source": [
    "# Adding edgelist to graph\n",
    "G.add_weighted_edges_from(edges)\n",
    "print(G)"
   ]
  },
  {
   "cell_type": "code",
   "execution_count": 73,
   "metadata": {},
   "outputs": [
    {
     "name": "stdout",
     "output_type": "stream",
     "text": [
      "551 nodes with degree 0 were removed.\n",
      "MultiDiGraph with 2991 nodes and 110998 edges\n"
     ]
    }
   ],
   "source": [
    "# Remove nodes with no edges\n",
    "remove = [node for node,degree in G.degree() if degree == 0]\n",
    "G.remove_nodes_from(remove)\n",
    "print(f\"{len(remove)} nodes with degree 0 were removed.\")\n",
    "print(G)"
   ]
  },
  {
   "cell_type": "code",
   "execution_count": 29,
   "metadata": {},
   "outputs": [
    {
     "data": {
      "text/plain": [
       "(None, None)"
      ]
     },
     "execution_count": 29,
     "metadata": {},
     "output_type": "execute_result"
    }
   ],
   "source": [
    "# Interactive visualization of graph (with group attribute according to 'house')\n",
    "netwulf.interactive.visualize(G)"
   ]
  },
  {
   "attachments": {},
   "cell_type": "markdown",
   "metadata": {},
   "source": [
    "### Investigating communities"
   ]
  },
  {
   "cell_type": "code",
   "execution_count": 74,
   "metadata": {},
   "outputs": [
    {
     "name": "stdout",
     "output_type": "stream",
     "text": [
      "The different houses are: ['Unknown', 'Gryffindor', 'Slytherin', 'Hufflepuff', 'Ravenclaw', 'Thunderbird', 'Pukwudgie', 'Wampus']\n",
      "The modularity for the \"house\" split is: 0.16492535393916527\n",
      "The number of \"house\" communities is 8\n"
     ]
    }
   ],
   "source": [
    "# Finding communities from splitting graph by 'House' attribute\n",
    "import networkx.algorithms.community as nx_comm\n",
    "houses_types = []\n",
    "for i in houses:\n",
    "    if i not in houses_types:\n",
    "        houses_types.append(i)\n",
    "    \n",
    "print('The different houses are:', houses_types)\n",
    "\n",
    "houses_com = []\n",
    "for i in houses_types:\n",
    "    houses_com.append({x for x,y in G.nodes(data=True) if y['group']==i})\n",
    "\n",
    "# computing modularity of 'house' split\n",
    "house_mod = nx_comm.modularity(G, houses_com)\n",
    "print('The modularity for the \"house\" split is: ' + str(house_mod))\n",
    "no_comm = len(houses_com)\n",
    "print('The number of \"house\" communities is ' + str(no_comm))\n",
    "size_comm = []\n",
    "for i in range(no_comm):\n",
    "    size_comm.append(len(houses_com[i]))"
   ]
  },
  {
   "cell_type": "code",
   "execution_count": 75,
   "metadata": {},
   "outputs": [
    {
     "data": {
      "text/plain": [
       "Text(0, 0.5, 'Count')"
      ]
     },
     "execution_count": 75,
     "metadata": {},
     "output_type": "execute_result"
    },
    {
     "data": {
      "image/png": "[encoded data removed]",
      "text/plain": [
       "<Figure size 640x480 with 1 Axes>"
      ]
     },
     "metadata": {},
     "output_type": "display_data"
    }
   ],
   "source": [
    "# Plotting distribution of sizes of 'house' communities\n",
    "bins = np.linspace(min(size_comm), max(size_comm), 40)\n",
    "hist, edges = np.histogram(size_comm, bins=bins)\n",
    "x = (edges[1:]+edges[:-1])/2\n",
    "#xx, yy = zip(*[(i,j) for (i,j) in zip(x, hist) if j>0])\n",
    "width = bins[1]-bins[0]\n",
    "fig, ax = plt.subplots()\n",
    "ax.bar(x, hist, width)\n",
    "ax.set_title('Distribution of \"house\" communities sizes')\n",
    "ax.set_xlabel('Size of community')\n",
    "ax.set_ylabel('Count')"
   ]
  },
  {
   "cell_type": "code",
   "execution_count": 76,
   "metadata": {},
   "outputs": [
    {
     "name": "stdout",
     "output_type": "stream",
     "text": [
      "The modularity of Louvain algorithm is 0.6087253583484655\n",
      "The number of Louvain communities is 223\n"
     ]
    }
   ],
   "source": [
    "# Finding louvain communities\n",
    "louv_comm = nx_comm.louvain_communities(G)\n",
    "\n",
    "modularity_louv = nx_comm.modularity(G, louv_comm)\n",
    "print('The modularity of Louvain algorithm is ' + str(modularity_louv))\n",
    "\n",
    "no_comm = len(louv_comm)\n",
    "print('The number of Louvain communities is ' + str(no_comm))\n",
    "\n",
    "size_comm = []\n",
    "for i in range(no_comm):\n",
    "    size_comm.append(len(louv_comm[i]))"
   ]
  },
  {
   "cell_type": "code",
   "execution_count": 77,
   "metadata": {},
   "outputs": [
    {
     "data": {
      "text/plain": [
       "Text(0, 0.5, 'Count')"
      ]
     },
     "execution_count": 77,
     "metadata": {},
     "output_type": "execute_result"
    },
    {
     "data": {
      "image/png": "[encoded data removed]",
      "text/plain": [
       "<Figure size 640x480 with 1 Axes>"
      ]
     },
     "metadata": {},
     "output_type": "display_data"
    }
   ],
   "source": [
    "# Plotting distribution of comminuty sizes\n",
    "bins = np.linspace(min(size_comm), max(size_comm), 40)\n",
    "hist, edges = np.histogram(size_comm, bins=bins)\n",
    "x = (edges[1:]+edges[:-1])/2\n",
    "#xx, yy = zip(*[(i,j) for (i,j) in zip(x, hist) if j>0])\n",
    "width = bins[1]-bins[0]\n",
    "fig, ax = plt.subplots()\n",
    "ax.bar(x, hist, width)\n",
    "ax.set_title('Distribution of Louvain communities sizes')\n",
    "ax.set_xlabel('Size of community')\n",
    "ax.set_ylabel('Count')\n",
    "#ax.set_ylim(0,20)"
   ]
  },
  {
   "attachments": {},
   "cell_type": "markdown",
   "metadata": {},
   "source": [
    "## Visualizations"
   ]
  },
  {
   "cell_type": "code",
   "execution_count": 215,
   "metadata": {},
   "outputs": [
    {
     "data": {
      "text/html": [
       "<div>\n",
       "<style scoped>\n",
       "    .dataframe tbody tr th:only-of-type {\n",
       "        vertical-align: middle;\n",
       "    }\n",
       "\n",
       "    .dataframe tbody tr th {\n",
       "        vertical-align: top;\n",
       "    }\n",
       "\n",
       "    .dataframe thead th {\n",
       "        text-align: right;\n",
       "    }\n",
       "</style>\n",
       "<table border=\"1\" class=\"dataframe\">\n",
       "  <thead>\n",
       "    <tr style=\"text-align: right;\">\n",
       "      <th></th>\n",
       "      <th>name</th>\n",
       "      <th>Blood status</th>\n",
       "      <th>House</th>\n",
       "      <th>Species</th>\n",
       "      <th>Death time</th>\n",
       "      <th>Alias</th>\n",
       "      <th>Wiki</th>\n",
       "      <th>Gender</th>\n",
       "      <th>Wiki text</th>\n",
       "      <th>Character links</th>\n",
       "      <th>Wiki name</th>\n",
       "      <th>Sum character links</th>\n",
       "    </tr>\n",
       "  </thead>\n",
       "  <tbody>\n",
       "    <tr>\n",
       "      <th>9</th>\n",
       "      <td>Aberforth Dumbledore</td>\n",
       "      <td>Half-blood</td>\n",
       "      <td>None</td>\n",
       "      <td>Human</td>\n",
       "      <td>None</td>\n",
       "      <td>[Ab]</td>\n",
       "      <td>https://harrypotter.fandom.com/wiki/Aberforth_...</td>\n",
       "      <td>Male</td>\n",
       "      <td>At least some content in this article is deriv...</td>\n",
       "      <td>[Harry_Potter:_Hogwarts_Mystery, Harry_Potter:...</td>\n",
       "      <td>Aberforth_Dumbledore</td>\n",
       "      <td>{'Percival_Dumbledore': 4, 'Kendra_Dumbledore'...</td>\n",
       "    </tr>\n",
       "    <tr>\n",
       "      <th>10</th>\n",
       "      <td>Abernathy</td>\n",
       "      <td>None</td>\n",
       "      <td>None</td>\n",
       "      <td>Human</td>\n",
       "      <td>None</td>\n",
       "      <td>None</td>\n",
       "      <td>https://harrypotter.fandom.com/wiki/Abernathy</td>\n",
       "      <td>Male</td>\n",
       "      <td>At least some content in this article is deriv...</td>\n",
       "      <td>[Fantastic_Beasts:_The_Secrets_of_Dumbledore, ...</td>\n",
       "      <td>Abernathy</td>\n",
       "      <td>{'Gellert_Grindelwald': 6, 'Porpentina_Goldste...</td>\n",
       "    </tr>\n",
       "  </tbody>\n",
       "</table>\n",
       "</div>"
      ],
      "text/plain": [
       "                    name Blood status House Species Death time Alias  \\\n",
       "9   Aberforth Dumbledore   Half-blood  None   Human       None  [Ab]   \n",
       "10             Abernathy         None  None   Human       None  None   \n",
       "\n",
       "                                                 Wiki Gender  \\\n",
       "9   https://harrypotter.fandom.com/wiki/Aberforth_...   Male   \n",
       "10      https://harrypotter.fandom.com/wiki/Abernathy   Male   \n",
       "\n",
       "                                            Wiki text  \\\n",
       "9   At least some content in this article is deriv...   \n",
       "10  At least some content in this article is deriv...   \n",
       "\n",
       "                                      Character links             Wiki name  \\\n",
       "9   [Harry_Potter:_Hogwarts_Mystery, Harry_Potter:...  Aberforth_Dumbledore   \n",
       "10  [Fantastic_Beasts:_The_Secrets_of_Dumbledore, ...             Abernathy   \n",
       "\n",
       "                                  Sum character links  \n",
       "9   {'Percival_Dumbledore': 4, 'Kendra_Dumbledore'...  \n",
       "10  {'Gellert_Grindelwald': 6, 'Porpentina_Goldste...  "
      ]
     },
     "execution_count": 215,
     "metadata": {},
     "output_type": "execute_result"
    }
   ],
   "source": [
    "# First filter dataset by removing nodes with degree 0:\n",
    "filtered_data2 = filtered_data[~filtered_data['Wiki name'].isin(remove)]\n",
    "filtered_data2.head(2)"
   ]
  },
  {
   "cell_type": "code",
   "execution_count": 244,
   "metadata": {},
   "outputs": [],
   "source": [
    "# Plotting distribution of species\n",
    "species = filtered_data2['Species']\n",
    "species_freq = defaultdict(int)\n",
    "for item in species:\n",
    "    species_freq[item] += 1\n",
    "\n",
    "species_freq[\"Unknown\"] = species_freq[None]\n",
    "del species_freq[None]\n"
   ]
  },
  {
   "cell_type": "code",
   "execution_count": 222,
   "metadata": {},
   "outputs": [
    {
     "name": "stdout",
     "output_type": "stream",
     "text": [
      "174\n",
      "hello\n"
     ]
    }
   ],
   "source": [
    "# Plotting distribution of species\n",
    "species = filtered_data2['Species']\n",
    "species_freq = defaultdict()\n",
    "for item in species:\n",
    "    species_freq += 1\n",
    "\n",
    "    \n",
    "# Finding all types of species\n",
    "species_types = []\n",
    "for i in species:\n",
    "    if i not in species_types:\n",
    "        species_types.append(i)\n",
    "\n",
    "print(len(species_types))\n",
    "\n",
    "# Converting each species to an integer\n",
    "dict = {}\n",
    "for i in range(len(species_types)):\n",
    "    dict[i] = species_types[i]\n",
    "keys = list(dict.keys())\n",
    "values = list(dict.values())\n",
    "\n",
    "# Making list of species integers\n",
    "species_int = []\n",
    "for i in species:\n",
    "    for j in range(len(values)):\n",
    "        if i == values[j]:\n",
    "            species_int.append(keys[j])\n"
   ]
  },
  {
   "cell_type": "code",
   "execution_count": 251,
   "metadata": {},
   "outputs": [
    {
     "data": {
      "image/png": "[encoded data removed]",
      "text/plain": [
       "<Figure size 300x300 with 1 Axes>"
      ]
     },
     "metadata": {},
     "output_type": "display_data"
    }
   ],
   "source": [
    "# Define a function to generate wordcloud\n",
    "def generate_freq_wordcloud(data):\n",
    "    wordcloud = WordCloud(width = 800, height = 800, \n",
    "                background_color ='white', \n",
    "                min_font_size = 10)\n",
    "    wordcloud.generate_from_frequencies(frequencies = data)\n",
    "    plt.figure(figsize = (3,3), facecolor = None) \n",
    "    plt.imshow(wordcloud) \n",
    "    plt.axis(\"off\") \n",
    "    plt.tight_layout(pad = 0) \n",
    "    plt.show() \n",
    "\n",
    "generate_freq_wordcloud(species_freq)"
   ]
  },
  {
   "cell_type": "code",
   "execution_count": 217,
   "metadata": {},
   "outputs": [
    {
     "data": {
      "text/plain": [
       "Text(0, 0.5, 'Count')"
      ]
     },
     "execution_count": 217,
     "metadata": {},
     "output_type": "execute_result"
    },
    {
     "data": {
      "image/png": "[encoded data removed]",
      "text/plain": [
       "<Figure size 640x480 with 1 Axes>"
      ]
     },
     "metadata": {},
     "output_type": "display_data"
    }
   ],
   "source": [
    "# Plotting distribution\n",
    "bins = np.linspace(min(species_int), max(species_int), 40)\n",
    "hist, edges = np.histogram(species_int, bins=bins)\n",
    "x = (edges[1:]+edges[:-1])/2\n",
    "width = bins[1]-bins[0]\n",
    "fig, ax = plt.subplots()\n",
    "ax.bar(x, hist, width)\n",
    "ax.set_title('Distribution of species')\n",
    "ax.set_xlabel('Species')\n",
    "ax.set_ylabel('Count')\n",
    "# Very heavy tailed therefore log transforming"
   ]
  },
  {
   "cell_type": "code",
   "execution_count": 218,
   "metadata": {},
   "outputs": [
    {
     "data": {
      "text/plain": [
       "Text(0.5, 1.0, 'Distribution of species in log space')"
      ]
     },
     "execution_count": 218,
     "metadata": {},
     "output_type": "execute_result"
    },
    {
     "data": {
      "image/png": "[encoded data removed]",
      "text/plain": [
       "<Figure size 640x480 with 1 Axes>"
      ]
     },
     "metadata": {},
     "output_type": "display_data"
    }
   ],
   "source": [
    "# Plotting species distribution in log space\n",
    "bins = np.logspace(0, np.log10(192), 30)\n",
    "hist, edges = np.histogram(species_int, bins=bins, density=True)\n",
    "x = (edges[1:]+edges[:-1])/2\n",
    "#xx, yy = zip(*[(i,j) for (i,j) in zip(x, hist) if j>0])\n",
    "width = bins[1]-bins[0]\n",
    "fig, ax = plt.subplots()\n",
    "ax.bar(x, hist, width)\n",
    "ax.set_xscale('log')\n",
    "ax.set_yscale('log')\n",
    "ax.set_xlabel('Species')\n",
    "ax.set_ylabel('Count')\n",
    "ax.set_title('Distribution of species in log space')"
   ]
  },
  {
   "cell_type": "markdown",
   "metadata": {},
   "source": [
    "# Semantic analysis of communities/houses"
   ]
  },
  {
   "attachments": {},
   "cell_type": "markdown",
   "metadata": {},
   "source": [
    "Pusher senere"
   ]
  },
  {
   "cell_type": "markdown",
   "metadata": {},
   "source": []
  }
 ],
 "metadata": {
  "kernelspec": {
   "display_name": "base",
   "language": "python",
   "name": "python3"
  },
  "language_info": {
   "codemirror_mode": {
    "name": "ipython",
    "version": 3
   },
   "file_extension": ".py",
   "mimetype": "text/x-python",
   "name": "python",
   "nbconvert_exporter": "python",
   "pygments_lexer": "ipython3",
   "version": "3.9.6"
  },
  "orig_nbformat": 4,
  "vscode": {
   "interpreter": {
    "hash": "3a5c5daede66250a52d758be5d57490f14f7efe1f4cb46e79440d68554ab5513"
   }
  }
 },
 "nbformat": 4,
 "nbformat_minor": 2
}
