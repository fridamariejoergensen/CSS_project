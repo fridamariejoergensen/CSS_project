{
 "cells": [
  {
   "cell_type": "markdown",
   "metadata": {},
   "source": [
    "# Initial Webscraping \n",
    "Retrieving all character names from wikisite: \n",
    "\"https://en.wikipedia.org/wiki/List_of_Harry_Potter_characters\""
   ]
  },
  {
   "cell_type": "code",
   "execution_count": null,
   "metadata": {},
   "outputs": [],
   "source": [
    "# Characterlist from Wikipedia\n",
    "url = 'https://en.wikipedia.org/wiki/List_of_Harry_Potter_characters'\n",
    "response = requests.get(url)\n",
    "soup = BeautifulSoup(response.content, 'html.parser')\n",
    "\n",
    "# List for characters\n",
    "character_list = []\n",
    "content_div = soup.find('div', {'id': 'bodyContent'})\n",
    "for heading in content_div.find_all('h3'):\n",
    "    # find the <ul> tag immediately following this heading\n",
    "    character_ul = heading.find_next_sibling('ul')\n",
    "    for character_li in character_ul.find_all('li'):\n",
    "        # extract the character name from the <a> tag within the <li>, if it exists\n",
    "        character_a = character_li.find('a')\n",
    "        if character_a:\n",
    "            character_name = character_a.text\n",
    "            character_list.append(character_name)\n",
    "\n",
    "print(character_list)"
   ]
  },
  {
   "cell_type": "code",
   "execution_count": null,
   "metadata": {},
   "outputs": [],
   "source": [
    "# Ikke optimal løsning, men fikser alle fejlene, så vi kan smide en liste til API'en lidt hurtigt. \n",
    "replacements = {\n",
    "    \"Slytherin\": \"Millicent Bulstrode\",\n",
    "    \"Percy Weasley\": \"Penelope Clearwater\",\n",
    "    \"Draco Malfoy\": \"Astoria Greengrass\",\n",
    "    \"Eastern European\": \"Gregorovitch\",\n",
    "    \"Diagon Alley\": \"Madam Malkin\",\n",
    "    \"Horace Slughorn\": \"Cormac McLaggen\",\n",
    "    \"Vanishing Cabinet\": \"Graham Montague\",\n",
    "    \"Harry Potter and the Cursed Child\": \"Delphi Riddle\",\n",
    "    \"Merope Gaunt\": \"Tom Riddle Sr.\",\n",
    "    \"Lord Voldemort\": \"Thomas Marvolo Riddle\",\n",
    "    \"Bogrod\": \"Gringotts\",\n",
    "    \"Gringotts\": \"Gornuk\",\n",
    "    \"Black family\": \"Kreacher\",\n",
    "    \"Death Eater\" : \"Travers\",\n",
    "    \"Barty Crouch Sr\": \"Winky\"}\n",
    "\n",
    "for i in range(len(character_list)):\n",
    "    if character_list[i] in replacements:\n",
    "        character_list[i] = replacements[character_list[i]]\n",
    "\n",
    "additions = [\"Gabrielle Delacour\", \n",
    "             \"Kendra Dumbledore\", \n",
    "             \"Percival Dumbledore\", \n",
    "             \"Nicolas Flamel\", \n",
    "             \"Griselda Marchbanks\", \n",
    "             \"Eloise Midgen\", \n",
    "             \"Theodore Nott\", \n",
    "             \"Nott Sr\", \n",
    "             \"Albus Severus Potter\", \n",
    "             \"James Sirius Potter\", \n",
    "             \"Lily Luna Potter\", \n",
    "             \"Mary Riddle\", \n",
    "             \"Thomas Riddle\", \n",
    "             \"Demelza Robins\", \n",
    "             \"Salazar Slytherin\", \n",
    "             \"Romilda Vane\", \n",
    "             \"Hugo Weasley\", \n",
    "             \"Rose Weasley\",\n",
    "             \"Millicent Bulstrode\",\n",
    "             \"Blaise Zabini\",\n",
    "             \"Sir Cadogan\",\n",
    "             \"Scabior\",\n",
    "             \"Trevor\"]\n",
    "\n",
    "print(character_list)"
   ]
  },
  {
   "cell_type": "markdown",
   "metadata": {},
   "source": [
    "## Collecting data with Harry Potter API"
   ]
  },
  {
   "cell_type": "code",
   "execution_count": null,
   "metadata": {},
   "outputs": [],
   "source": [
    "# API for facts about Harry Potter characters\n",
    "API = {\"data\":{\"message\":\"Welcome to the Potter DB API!\",\"api_routes\":[\"/v1/books/:book_id/chapters\",\"/v1/books/:book_id/chapters/:id\",\"/v1/books\",\"/v1/books/:id\",\"/v1/characters\",\"/v1/characters/:id\",\"/v1/movies\",\"/v1/movies/:id\",\"/v1/potions\",\"/v1/potions/:id\",\"/v1/spells\",\"/v1/spells/:id\"]}}\n",
    "API"
   ]
  }
 ],
 "metadata": {
  "language_info": {
   "name": "python"
  },
  "orig_nbformat": 4
 },
 "nbformat": 4,
 "nbformat_minor": 2
}
